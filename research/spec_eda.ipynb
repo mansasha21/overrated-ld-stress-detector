{
 "cells": [
  {
   "cell_type": "code",
   "execution_count": 1,
   "metadata": {
    "collapsed": true
   },
   "outputs": [],
   "source": [
    "import numpy as np\n",
    "import pandas as pd\n",
    "\n",
    "from sklearn.preprocessing import MinMaxScaler\n",
    "from sklearn.metrics import mean_absolute_error, r2_score, mean_squared_error, roc_auc_score\n",
    "\n",
    "from sklearn.multiclass import OneVsRestClassifier\n",
    "from sklearn.preprocessing import MultiLabelBinarizer\n",
    "from sklearn.model_selection import train_test_split\n",
    "from sklearn.metrics import classification_report\n",
    "\n",
    "from matplotlib import pyplot as plt\n",
    "import seaborn as sns\n",
    "\n",
    "from catboost import CatBoostClassifier"
   ]
  },
  {
   "cell_type": "code",
   "execution_count": 2,
   "outputs": [
    {
     "data": {
      "text/plain": "                                   Filename  Test_index  Presentation  \\\n0      6ffe4933-3202-451b-ae6b-fee85cafc829           2             3   \n1      8de3189c-8e95-43a2-b6d2-743f097a57fb           0             1   \n2      c74f5292-c8e8-4ef2-a963-7d035e5e3330           3             3   \n3      c856d82f-917e-461c-a91f-5298926b8b31           0             3   \n4      00b38188-82ee-4f1d-9661-485338815751           3             1   \n...                                     ...         ...           ...   \n31378  d71f9db8-f93b-4cab-89ce-5d52a6627034           2             3   \n31379  dc61b9b4-2a5d-4a4e-bbbf-ffe039a5aee9           0             1   \n31380  373380a3-7e33-4213-ba1f-761ca348f6a8           3             2   \n31381  90b19f5e-5be0-4f38-a0e3-06482573effe           0             1   \n31382  1dc4bd32-b6fc-4ccf-988e-ffcb8bd3fd44           1             2   \n\n       Question                                               Data  \\\n0             7  [298, 296, 2, -455, -703, -596, -262, -44, 28,...   \n1             0  [99, 75, -228, -588, -583, -465, -394, -363, -...   \n2             1  [-369, -543, -644, -670, -636, -586, -524, -44...   \n3             6  [-6, -32, -152, -253, -275, -246, -211, -197, ...   \n4             2  [165, 178, 190, 202, 218, 230, 200, 121, 71, 8...   \n...         ...                                                ...   \n31378         4  [-35, -20, -3, 20, 37, 53, 65, 83, 93, 21, -80...   \n31379         5  [-550, -540, -510, -450, -350, -262, -161, -59...   \n31380         7  [98, 95, 126, 206, 207, 62, -78, -83, -7, 132,...   \n31381         9  [-365, -264, -184, -58, 102, 263, 419, 598, 29...   \n31382         3  [-18, -6, 6, 22, 32, 11, -36, -58, -61, -50, -...   \n\n                                                  Data_2  Class_label  \n0      [-918, -1078, -450, 640, 1503, 1635, 1083, 589...            1  \n1      [499, 494, 520, 577, 595, 584, 575, 567, 561, ...            0  \n2      [263, 444, 548, 576, 539, 485, 419, 331, 266, ...            2  \n3      [2, 138, 782, 1314, 1471, 1354, 1183, 1127, 10...            1  \n4      [-722, -711, -700, -686, -669, -665, -712, -79...            2  \n...                                                  ...          ...  \n31378  [241, 240, 244, 242, 248, 247, 239, 217, 203, ...            1  \n31379  [-1060, -1055, -1038, -1003, -940, -881, -812,...            1  \n31380  [-203, -203, -211, -241, -247, -192, -123, -10...            2  \n31381  [-10, 40, 87, 180, 304, 431, 558, 706, 483, 14...            1  \n31382  [-423, -405, -389, -368, -353, -372, -420, -44...            2  \n\n[31383 rows x 7 columns]",
      "text/html": "<div>\n<style scoped>\n    .dataframe tbody tr th:only-of-type {\n        vertical-align: middle;\n    }\n\n    .dataframe tbody tr th {\n        vertical-align: top;\n    }\n\n    .dataframe thead th {\n        text-align: right;\n    }\n</style>\n<table border=\"1\" class=\"dataframe\">\n  <thead>\n    <tr style=\"text-align: right;\">\n      <th></th>\n      <th>Filename</th>\n      <th>Test_index</th>\n      <th>Presentation</th>\n      <th>Question</th>\n      <th>Data</th>\n      <th>Data_2</th>\n      <th>Class_label</th>\n    </tr>\n  </thead>\n  <tbody>\n    <tr>\n      <th>0</th>\n      <td>6ffe4933-3202-451b-ae6b-fee85cafc829</td>\n      <td>2</td>\n      <td>3</td>\n      <td>7</td>\n      <td>[298, 296, 2, -455, -703, -596, -262, -44, 28,...</td>\n      <td>[-918, -1078, -450, 640, 1503, 1635, 1083, 589...</td>\n      <td>1</td>\n    </tr>\n    <tr>\n      <th>1</th>\n      <td>8de3189c-8e95-43a2-b6d2-743f097a57fb</td>\n      <td>0</td>\n      <td>1</td>\n      <td>0</td>\n      <td>[99, 75, -228, -588, -583, -465, -394, -363, -...</td>\n      <td>[499, 494, 520, 577, 595, 584, 575, 567, 561, ...</td>\n      <td>0</td>\n    </tr>\n    <tr>\n      <th>2</th>\n      <td>c74f5292-c8e8-4ef2-a963-7d035e5e3330</td>\n      <td>3</td>\n      <td>3</td>\n      <td>1</td>\n      <td>[-369, -543, -644, -670, -636, -586, -524, -44...</td>\n      <td>[263, 444, 548, 576, 539, 485, 419, 331, 266, ...</td>\n      <td>2</td>\n    </tr>\n    <tr>\n      <th>3</th>\n      <td>c856d82f-917e-461c-a91f-5298926b8b31</td>\n      <td>0</td>\n      <td>3</td>\n      <td>6</td>\n      <td>[-6, -32, -152, -253, -275, -246, -211, -197, ...</td>\n      <td>[2, 138, 782, 1314, 1471, 1354, 1183, 1127, 10...</td>\n      <td>1</td>\n    </tr>\n    <tr>\n      <th>4</th>\n      <td>00b38188-82ee-4f1d-9661-485338815751</td>\n      <td>3</td>\n      <td>1</td>\n      <td>2</td>\n      <td>[165, 178, 190, 202, 218, 230, 200, 121, 71, 8...</td>\n      <td>[-722, -711, -700, -686, -669, -665, -712, -79...</td>\n      <td>2</td>\n    </tr>\n    <tr>\n      <th>...</th>\n      <td>...</td>\n      <td>...</td>\n      <td>...</td>\n      <td>...</td>\n      <td>...</td>\n      <td>...</td>\n      <td>...</td>\n    </tr>\n    <tr>\n      <th>31378</th>\n      <td>d71f9db8-f93b-4cab-89ce-5d52a6627034</td>\n      <td>2</td>\n      <td>3</td>\n      <td>4</td>\n      <td>[-35, -20, -3, 20, 37, 53, 65, 83, 93, 21, -80...</td>\n      <td>[241, 240, 244, 242, 248, 247, 239, 217, 203, ...</td>\n      <td>1</td>\n    </tr>\n    <tr>\n      <th>31379</th>\n      <td>dc61b9b4-2a5d-4a4e-bbbf-ffe039a5aee9</td>\n      <td>0</td>\n      <td>1</td>\n      <td>5</td>\n      <td>[-550, -540, -510, -450, -350, -262, -161, -59...</td>\n      <td>[-1060, -1055, -1038, -1003, -940, -881, -812,...</td>\n      <td>1</td>\n    </tr>\n    <tr>\n      <th>31380</th>\n      <td>373380a3-7e33-4213-ba1f-761ca348f6a8</td>\n      <td>3</td>\n      <td>2</td>\n      <td>7</td>\n      <td>[98, 95, 126, 206, 207, 62, -78, -83, -7, 132,...</td>\n      <td>[-203, -203, -211, -241, -247, -192, -123, -10...</td>\n      <td>2</td>\n    </tr>\n    <tr>\n      <th>31381</th>\n      <td>90b19f5e-5be0-4f38-a0e3-06482573effe</td>\n      <td>0</td>\n      <td>1</td>\n      <td>9</td>\n      <td>[-365, -264, -184, -58, 102, 263, 419, 598, 29...</td>\n      <td>[-10, 40, 87, 180, 304, 431, 558, 706, 483, 14...</td>\n      <td>1</td>\n    </tr>\n    <tr>\n      <th>31382</th>\n      <td>1dc4bd32-b6fc-4ccf-988e-ffcb8bd3fd44</td>\n      <td>1</td>\n      <td>2</td>\n      <td>3</td>\n      <td>[-18, -6, 6, 22, 32, 11, -36, -58, -61, -50, -...</td>\n      <td>[-423, -405, -389, -368, -353, -372, -420, -44...</td>\n      <td>2</td>\n    </tr>\n  </tbody>\n</table>\n<p>31383 rows × 7 columns</p>\n</div>"
     },
     "execution_count": 2,
     "metadata": {},
     "output_type": "execute_result"
    }
   ],
   "source": [
    "df = pd.read_excel(open('./hack/dataset_train.xlsx', 'rb'), sheet_name='Sheet1')\n",
    "df"
   ],
   "metadata": {
    "collapsed": false,
    "pycharm": {
     "name": "#%%\n"
    }
   }
  },
  {
   "cell_type": "code",
   "execution_count": 3,
   "outputs": [
    {
     "data": {
      "text/plain": "                                   Filename  Test_index  Presentation  \\\n0      6ffe4933-3202-451b-ae6b-fee85cafc829           2             3   \n1      8de3189c-8e95-43a2-b6d2-743f097a57fb           0             1   \n2      c74f5292-c8e8-4ef2-a963-7d035e5e3330           3             3   \n3      c856d82f-917e-461c-a91f-5298926b8b31           0             3   \n4      00b38188-82ee-4f1d-9661-485338815751           3             1   \n...                                     ...         ...           ...   \n31378  d71f9db8-f93b-4cab-89ce-5d52a6627034           2             3   \n31379  dc61b9b4-2a5d-4a4e-bbbf-ffe039a5aee9           0             1   \n31380  373380a3-7e33-4213-ba1f-761ca348f6a8           3             2   \n31381  90b19f5e-5be0-4f38-a0e3-06482573effe           0             1   \n31382  1dc4bd32-b6fc-4ccf-988e-ffcb8bd3fd44           1             2   \n\n       Question                                               Data  \\\n0             7  [298, 296, 2, -455, -703, -596, -262, -44, 28,...   \n1             0  [99, 75, -228, -588, -583, -465, -394, -363, -...   \n2             1  [-369, -543, -644, -670, -636, -586, -524, -44...   \n3             6  [-6, -32, -152, -253, -275, -246, -211, -197, ...   \n4             2  [165, 178, 190, 202, 218, 230, 200, 121, 71, 8...   \n...         ...                                                ...   \n31378         4  [-35, -20, -3, 20, 37, 53, 65, 83, 93, 21, -80...   \n31379         5  [-550, -540, -510, -450, -350, -262, -161, -59...   \n31380         7  [98, 95, 126, 206, 207, 62, -78, -83, -7, 132,...   \n31381         9  [-365, -264, -184, -58, 102, 263, 419, 598, 29...   \n31382         3  [-18, -6, 6, 22, 32, 11, -36, -58, -61, -50, -...   \n\n                                                  Data_2  Class_label  \n0      [-918, -1078, -450, 640, 1503, 1635, 1083, 589...            1  \n1      [499, 494, 520, 577, 595, 584, 575, 567, 561, ...            0  \n2      [263, 444, 548, 576, 539, 485, 419, 331, 266, ...            2  \n3      [2, 138, 782, 1314, 1471, 1354, 1183, 1127, 10...            1  \n4      [-722, -711, -700, -686, -669, -665, -712, -79...            2  \n...                                                  ...          ...  \n31378  [241, 240, 244, 242, 248, 247, 239, 217, 203, ...            1  \n31379  [-1060, -1055, -1038, -1003, -940, -881, -812,...            1  \n31380  [-203, -203, -211, -241, -247, -192, -123, -10...            2  \n31381  [-10, 40, 87, 180, 304, 431, 558, 706, 483, 14...            1  \n31382  [-423, -405, -389, -368, -353, -372, -420, -44...            2  \n\n[31383 rows x 7 columns]",
      "text/html": "<div>\n<style scoped>\n    .dataframe tbody tr th:only-of-type {\n        vertical-align: middle;\n    }\n\n    .dataframe tbody tr th {\n        vertical-align: top;\n    }\n\n    .dataframe thead th {\n        text-align: right;\n    }\n</style>\n<table border=\"1\" class=\"dataframe\">\n  <thead>\n    <tr style=\"text-align: right;\">\n      <th></th>\n      <th>Filename</th>\n      <th>Test_index</th>\n      <th>Presentation</th>\n      <th>Question</th>\n      <th>Data</th>\n      <th>Data_2</th>\n      <th>Class_label</th>\n    </tr>\n  </thead>\n  <tbody>\n    <tr>\n      <th>0</th>\n      <td>6ffe4933-3202-451b-ae6b-fee85cafc829</td>\n      <td>2</td>\n      <td>3</td>\n      <td>7</td>\n      <td>[298, 296, 2, -455, -703, -596, -262, -44, 28,...</td>\n      <td>[-918, -1078, -450, 640, 1503, 1635, 1083, 589...</td>\n      <td>1</td>\n    </tr>\n    <tr>\n      <th>1</th>\n      <td>8de3189c-8e95-43a2-b6d2-743f097a57fb</td>\n      <td>0</td>\n      <td>1</td>\n      <td>0</td>\n      <td>[99, 75, -228, -588, -583, -465, -394, -363, -...</td>\n      <td>[499, 494, 520, 577, 595, 584, 575, 567, 561, ...</td>\n      <td>0</td>\n    </tr>\n    <tr>\n      <th>2</th>\n      <td>c74f5292-c8e8-4ef2-a963-7d035e5e3330</td>\n      <td>3</td>\n      <td>3</td>\n      <td>1</td>\n      <td>[-369, -543, -644, -670, -636, -586, -524, -44...</td>\n      <td>[263, 444, 548, 576, 539, 485, 419, 331, 266, ...</td>\n      <td>2</td>\n    </tr>\n    <tr>\n      <th>3</th>\n      <td>c856d82f-917e-461c-a91f-5298926b8b31</td>\n      <td>0</td>\n      <td>3</td>\n      <td>6</td>\n      <td>[-6, -32, -152, -253, -275, -246, -211, -197, ...</td>\n      <td>[2, 138, 782, 1314, 1471, 1354, 1183, 1127, 10...</td>\n      <td>1</td>\n    </tr>\n    <tr>\n      <th>4</th>\n      <td>00b38188-82ee-4f1d-9661-485338815751</td>\n      <td>3</td>\n      <td>1</td>\n      <td>2</td>\n      <td>[165, 178, 190, 202, 218, 230, 200, 121, 71, 8...</td>\n      <td>[-722, -711, -700, -686, -669, -665, -712, -79...</td>\n      <td>2</td>\n    </tr>\n    <tr>\n      <th>...</th>\n      <td>...</td>\n      <td>...</td>\n      <td>...</td>\n      <td>...</td>\n      <td>...</td>\n      <td>...</td>\n      <td>...</td>\n    </tr>\n    <tr>\n      <th>31378</th>\n      <td>d71f9db8-f93b-4cab-89ce-5d52a6627034</td>\n      <td>2</td>\n      <td>3</td>\n      <td>4</td>\n      <td>[-35, -20, -3, 20, 37, 53, 65, 83, 93, 21, -80...</td>\n      <td>[241, 240, 244, 242, 248, 247, 239, 217, 203, ...</td>\n      <td>1</td>\n    </tr>\n    <tr>\n      <th>31379</th>\n      <td>dc61b9b4-2a5d-4a4e-bbbf-ffe039a5aee9</td>\n      <td>0</td>\n      <td>1</td>\n      <td>5</td>\n      <td>[-550, -540, -510, -450, -350, -262, -161, -59...</td>\n      <td>[-1060, -1055, -1038, -1003, -940, -881, -812,...</td>\n      <td>1</td>\n    </tr>\n    <tr>\n      <th>31380</th>\n      <td>373380a3-7e33-4213-ba1f-761ca348f6a8</td>\n      <td>3</td>\n      <td>2</td>\n      <td>7</td>\n      <td>[98, 95, 126, 206, 207, 62, -78, -83, -7, 132,...</td>\n      <td>[-203, -203, -211, -241, -247, -192, -123, -10...</td>\n      <td>2</td>\n    </tr>\n    <tr>\n      <th>31381</th>\n      <td>90b19f5e-5be0-4f38-a0e3-06482573effe</td>\n      <td>0</td>\n      <td>1</td>\n      <td>9</td>\n      <td>[-365, -264, -184, -58, 102, 263, 419, 598, 29...</td>\n      <td>[-10, 40, 87, 180, 304, 431, 558, 706, 483, 14...</td>\n      <td>1</td>\n    </tr>\n    <tr>\n      <th>31382</th>\n      <td>1dc4bd32-b6fc-4ccf-988e-ffcb8bd3fd44</td>\n      <td>1</td>\n      <td>2</td>\n      <td>3</td>\n      <td>[-18, -6, 6, 22, 32, 11, -36, -58, -61, -50, -...</td>\n      <td>[-423, -405, -389, -368, -353, -372, -420, -44...</td>\n      <td>2</td>\n    </tr>\n  </tbody>\n</table>\n<p>31383 rows × 7 columns</p>\n</div>"
     },
     "execution_count": 3,
     "metadata": {},
     "output_type": "execute_result"
    }
   ],
   "source": [
    "func = lambda x: eval(x)\n",
    "\n",
    "df['Data'] = df['Data'].apply(func)\n",
    "df['Data_2'] = df['Data_2'].apply(func)\n",
    "df"
   ],
   "metadata": {
    "collapsed": false,
    "pycharm": {
     "name": "#%%\n"
    }
   }
  },
  {
   "cell_type": "code",
   "execution_count": 3,
   "outputs": [],
   "source": [],
   "metadata": {
    "collapsed": false,
    "pycharm": {
     "name": "#%%\n"
    }
   }
  },
  {
   "cell_type": "markdown",
   "source": [
    "#### Балансировка"
   ],
   "metadata": {
    "collapsed": false,
    "pycharm": {
     "name": "#%% md\n"
    }
   }
  },
  {
   "cell_type": "code",
   "execution_count": 4,
   "outputs": [],
   "source": [
    "class_0 = df[df['Class_label'] == 0].index.tolist()\n",
    "class_1 = df[df['Class_label'] == 1].index.tolist()\n",
    "class_2 = df[df['Class_label'] == 2].index.tolist()\n",
    "\n",
    "multi_class_1 = int(np.mean([len(class_0), len(class_2)]))\n",
    "class_1 = class_1[:multi_class_1]\n",
    "\n",
    "balanced_idx = class_0 + class_1 + class_2\n",
    "balanced_idx = sorted(balanced_idx)\n",
    "\n",
    "try_df = df.loc[balanced_idx,:].reset_index(drop=True)"
   ],
   "metadata": {
    "collapsed": false,
    "pycharm": {
     "name": "#%%\n"
    }
   }
  },
  {
   "cell_type": "code",
   "execution_count": 5,
   "outputs": [],
   "source": [
    "func = lambda x: 1 if len(x)>0 else np.NAN\n",
    "\n",
    "try_df['check'] = try_df['Data'].apply(func)\n",
    "try_df = try_df.dropna()\n",
    "try_df['check'] = try_df['Data_2'].apply(func)\n",
    "try_df = try_df.dropna().drop(['check'], axis=1).reset_index(drop=True)"
   ],
   "metadata": {
    "collapsed": false,
    "pycharm": {
     "name": "#%%\n"
    }
   }
  },
  {
   "cell_type": "markdown",
   "source": [
    "### Разбиевние на 2 датасета по сигналам"
   ],
   "metadata": {
    "collapsed": false,
    "pycharm": {
     "name": "#%% md\n"
    }
   }
  },
  {
   "cell_type": "code",
   "execution_count": 6,
   "outputs": [],
   "source": [
    "photo = try_df.drop(['Data_2'], axis=1)\n",
    "piezo = try_df.drop(['Data'], axis=1)"
   ],
   "metadata": {
    "collapsed": false,
    "pycharm": {
     "name": "#%%\n"
    }
   }
  },
  {
   "cell_type": "markdown",
   "source": [
    "#### Нормализация"
   ],
   "metadata": {
    "collapsed": false,
    "pycharm": {
     "name": "#%% md\n"
    }
   }
  },
  {
   "cell_type": "code",
   "execution_count": 7,
   "outputs": [],
   "source": [
    "scaler_photo = MinMaxScaler()\n",
    "flag_photo = True\n",
    "for i, row in photo.iterrows():\n",
    "    try:\n",
    "        if flag_photo:\n",
    "            photo.loc[i,'Data'] = scaler_photo.fit_transform(np.array(row['Data']).reshape(-1,1))\n",
    "            flag_photo = False\n",
    "        else:\n",
    "            photo.loc[i,'Data'] = scaler_photo.transform(np.array(row['Data']).reshape(-1,1))\n",
    "    except:\n",
    "        print('len 0')\n",
    "\n",
    "\n",
    "\n",
    "scaler_piezo = MinMaxScaler()\n",
    "flag_piezo = True\n",
    "for i, row in piezo.iterrows():\n",
    "    try:\n",
    "        if flag_piezo:\n",
    "            piezo.loc[i,'Data_2'] = scaler_piezo.fit_transform(np.array(row['Data_2']).reshape(-1,1))\n",
    "            flag_piezo = False\n",
    "        else:\n",
    "            piezo.loc[i,'Data_2'] = scaler_piezo.transform(np.array(row['Data_2']).reshape(-1,1))\n",
    "    except:\n",
    "        print('len 0')\n"
   ],
   "metadata": {
    "collapsed": false,
    "pycharm": {
     "name": "#%%\n"
    }
   }
  },
  {
   "cell_type": "code",
   "execution_count": 8,
   "outputs": [
    {
     "data": {
      "text/plain": "                                   Filename  Test_index  Presentation  \\\n0      6ffe4933-3202-451b-ae6b-fee85cafc829           2             3   \n1      8de3189c-8e95-43a2-b6d2-743f097a57fb           0             1   \n2      c74f5292-c8e8-4ef2-a963-7d035e5e3330           3             3   \n3      c856d82f-917e-461c-a91f-5298926b8b31           0             3   \n4      00b38188-82ee-4f1d-9661-485338815751           3             1   \n...                                     ...         ...           ...   \n19627  576b54c6-5bc1-4ec0-aac3-3555bde64476           3             3   \n19628  0657f4ec-d8bd-4589-ac18-1e333388b405           2             1   \n19629  f53381e4-141b-4cdd-a12a-177796e0a44f           0             2   \n19630  373380a3-7e33-4213-ba1f-761ca348f6a8           3             2   \n19631  1dc4bd32-b6fc-4ccf-988e-ffcb8bd3fd44           1             2   \n\n       Question                                               Data  \\\n0             7  [0.9248366013071896, 0.923202614379085, 0.6830...   \n1             0  [0.7622549019607844, 0.7426470588235294, 0.495...   \n2             1  [0.37990196078431376, 0.23774509803921567, 0.1...   \n3             6  [0.6764705882352942, 0.6552287581699346, 0.557...   \n4             2  [0.8161764705882353, 0.8267973856209151, 0.836...   \n...         ...                                                ...   \n19627         7  [0.6650326797385621, 0.6699346405228759, 0.678...   \n19628         2  [0.6772875816993464, 0.690359477124183, 0.7066...   \n19629         8  [0.6911764705882353, 0.6977124183006537, 0.704...   \n19630         7  [0.7614379084967321, 0.7589869281045751, 0.784...   \n19631         3  [0.6666666666666667, 0.6764705882352942, 0.686...   \n\n       Class_label  \n0                1  \n1                0  \n2                2  \n3                1  \n4                2  \n...            ...  \n19627            2  \n19628            2  \n19629            0  \n19630            2  \n19631            2  \n\n[19632 rows x 6 columns]",
      "text/html": "<div>\n<style scoped>\n    .dataframe tbody tr th:only-of-type {\n        vertical-align: middle;\n    }\n\n    .dataframe tbody tr th {\n        vertical-align: top;\n    }\n\n    .dataframe thead th {\n        text-align: right;\n    }\n</style>\n<table border=\"1\" class=\"dataframe\">\n  <thead>\n    <tr style=\"text-align: right;\">\n      <th></th>\n      <th>Filename</th>\n      <th>Test_index</th>\n      <th>Presentation</th>\n      <th>Question</th>\n      <th>Data</th>\n      <th>Class_label</th>\n    </tr>\n  </thead>\n  <tbody>\n    <tr>\n      <th>0</th>\n      <td>6ffe4933-3202-451b-ae6b-fee85cafc829</td>\n      <td>2</td>\n      <td>3</td>\n      <td>7</td>\n      <td>[0.9248366013071896, 0.923202614379085, 0.6830...</td>\n      <td>1</td>\n    </tr>\n    <tr>\n      <th>1</th>\n      <td>8de3189c-8e95-43a2-b6d2-743f097a57fb</td>\n      <td>0</td>\n      <td>1</td>\n      <td>0</td>\n      <td>[0.7622549019607844, 0.7426470588235294, 0.495...</td>\n      <td>0</td>\n    </tr>\n    <tr>\n      <th>2</th>\n      <td>c74f5292-c8e8-4ef2-a963-7d035e5e3330</td>\n      <td>3</td>\n      <td>3</td>\n      <td>1</td>\n      <td>[0.37990196078431376, 0.23774509803921567, 0.1...</td>\n      <td>2</td>\n    </tr>\n    <tr>\n      <th>3</th>\n      <td>c856d82f-917e-461c-a91f-5298926b8b31</td>\n      <td>0</td>\n      <td>3</td>\n      <td>6</td>\n      <td>[0.6764705882352942, 0.6552287581699346, 0.557...</td>\n      <td>1</td>\n    </tr>\n    <tr>\n      <th>4</th>\n      <td>00b38188-82ee-4f1d-9661-485338815751</td>\n      <td>3</td>\n      <td>1</td>\n      <td>2</td>\n      <td>[0.8161764705882353, 0.8267973856209151, 0.836...</td>\n      <td>2</td>\n    </tr>\n    <tr>\n      <th>...</th>\n      <td>...</td>\n      <td>...</td>\n      <td>...</td>\n      <td>...</td>\n      <td>...</td>\n      <td>...</td>\n    </tr>\n    <tr>\n      <th>19627</th>\n      <td>576b54c6-5bc1-4ec0-aac3-3555bde64476</td>\n      <td>3</td>\n      <td>3</td>\n      <td>7</td>\n      <td>[0.6650326797385621, 0.6699346405228759, 0.678...</td>\n      <td>2</td>\n    </tr>\n    <tr>\n      <th>19628</th>\n      <td>0657f4ec-d8bd-4589-ac18-1e333388b405</td>\n      <td>2</td>\n      <td>1</td>\n      <td>2</td>\n      <td>[0.6772875816993464, 0.690359477124183, 0.7066...</td>\n      <td>2</td>\n    </tr>\n    <tr>\n      <th>19629</th>\n      <td>f53381e4-141b-4cdd-a12a-177796e0a44f</td>\n      <td>0</td>\n      <td>2</td>\n      <td>8</td>\n      <td>[0.6911764705882353, 0.6977124183006537, 0.704...</td>\n      <td>0</td>\n    </tr>\n    <tr>\n      <th>19630</th>\n      <td>373380a3-7e33-4213-ba1f-761ca348f6a8</td>\n      <td>3</td>\n      <td>2</td>\n      <td>7</td>\n      <td>[0.7614379084967321, 0.7589869281045751, 0.784...</td>\n      <td>2</td>\n    </tr>\n    <tr>\n      <th>19631</th>\n      <td>1dc4bd32-b6fc-4ccf-988e-ffcb8bd3fd44</td>\n      <td>1</td>\n      <td>2</td>\n      <td>3</td>\n      <td>[0.6666666666666667, 0.6764705882352942, 0.686...</td>\n      <td>2</td>\n    </tr>\n  </tbody>\n</table>\n<p>19632 rows × 6 columns</p>\n</div>"
     },
     "execution_count": 8,
     "metadata": {},
     "output_type": "execute_result"
    }
   ],
   "source": [
    "photo"
   ],
   "metadata": {
    "collapsed": false,
    "pycharm": {
     "name": "#%%\n"
    }
   }
  },
  {
   "cell_type": "code",
   "execution_count": 9,
   "outputs": [
    {
     "data": {
      "text/plain": "                                   Filename  Test_index  Presentation  \\\n0      6ffe4933-3202-451b-ae6b-fee85cafc829           2             3   \n1      8de3189c-8e95-43a2-b6d2-743f097a57fb           0             1   \n2      c74f5292-c8e8-4ef2-a963-7d035e5e3330           3             3   \n3      c856d82f-917e-461c-a91f-5298926b8b31           0             3   \n4      00b38188-82ee-4f1d-9661-485338815751           3             1   \n...                                     ...         ...           ...   \n19627  576b54c6-5bc1-4ec0-aac3-3555bde64476           3             3   \n19628  0657f4ec-d8bd-4589-ac18-1e333388b405           2             1   \n19629  f53381e4-141b-4cdd-a12a-177796e0a44f           0             2   \n19630  373380a3-7e33-4213-ba1f-761ca348f6a8           3             2   \n19631  1dc4bd32-b6fc-4ccf-988e-ffcb8bd3fd44           1             2   \n\n       Question                                               Data  \\\n0             7  [0.9248366013071896, 0.923202614379085, 0.6830...   \n1             0  [0.7622549019607844, 0.7426470588235294, 0.495...   \n2             1  [0.37990196078431376, 0.23774509803921567, 0.1...   \n3             6  [0.6764705882352942, 0.6552287581699346, 0.557...   \n4             2  [0.8161764705882353, 0.8267973856209151, 0.836...   \n...         ...                                                ...   \n19627         7  [0.6650326797385621, 0.6699346405228759, 0.678...   \n19628         2  [0.6772875816993464, 0.690359477124183, 0.7066...   \n19629         8  [0.6911764705882353, 0.6977124183006537, 0.704...   \n19630         7  [0.7614379084967321, 0.7589869281045751, 0.784...   \n19631         3  [0.6666666666666667, 0.6764705882352942, 0.686...   \n\n       Class_label                                             Data_2  \n0                1  [0.2844805689611379, 0.24384048768097533, 0.40...  \n1                0  [0.6443992887985776, 0.6431292862585725, 0.649...  \n2                2  [0.5844551689103378, 0.6304292608585216, 0.656...  \n3                1  [0.5181610363220726, 0.5527051054102108, 0.716...  \n4                2  [0.334264668529337, 0.3370586741173482, 0.3398...  \n...            ...                                                ...  \n19627            2  [0.365760731521463, 0.3721107442214884, 0.3815...  \n19628            2  [0.45694691389382774, 0.4658369316738633, 0.47...  \n19629            0  [0.49555499110998213, 0.4963169926339852, 0.49...  \n19630            2  [0.4660909321818643, 0.4660909321818643, 0.464...  \n19631            2  [0.4102108204216408, 0.41478282956565904, 0.41...  \n\n[19632 rows x 7 columns]",
      "text/html": "<div>\n<style scoped>\n    .dataframe tbody tr th:only-of-type {\n        vertical-align: middle;\n    }\n\n    .dataframe tbody tr th {\n        vertical-align: top;\n    }\n\n    .dataframe thead th {\n        text-align: right;\n    }\n</style>\n<table border=\"1\" class=\"dataframe\">\n  <thead>\n    <tr style=\"text-align: right;\">\n      <th></th>\n      <th>Filename</th>\n      <th>Test_index</th>\n      <th>Presentation</th>\n      <th>Question</th>\n      <th>Data</th>\n      <th>Class_label</th>\n      <th>Data_2</th>\n    </tr>\n  </thead>\n  <tbody>\n    <tr>\n      <th>0</th>\n      <td>6ffe4933-3202-451b-ae6b-fee85cafc829</td>\n      <td>2</td>\n      <td>3</td>\n      <td>7</td>\n      <td>[0.9248366013071896, 0.923202614379085, 0.6830...</td>\n      <td>1</td>\n      <td>[0.2844805689611379, 0.24384048768097533, 0.40...</td>\n    </tr>\n    <tr>\n      <th>1</th>\n      <td>8de3189c-8e95-43a2-b6d2-743f097a57fb</td>\n      <td>0</td>\n      <td>1</td>\n      <td>0</td>\n      <td>[0.7622549019607844, 0.7426470588235294, 0.495...</td>\n      <td>0</td>\n      <td>[0.6443992887985776, 0.6431292862585725, 0.649...</td>\n    </tr>\n    <tr>\n      <th>2</th>\n      <td>c74f5292-c8e8-4ef2-a963-7d035e5e3330</td>\n      <td>3</td>\n      <td>3</td>\n      <td>1</td>\n      <td>[0.37990196078431376, 0.23774509803921567, 0.1...</td>\n      <td>2</td>\n      <td>[0.5844551689103378, 0.6304292608585216, 0.656...</td>\n    </tr>\n    <tr>\n      <th>3</th>\n      <td>c856d82f-917e-461c-a91f-5298926b8b31</td>\n      <td>0</td>\n      <td>3</td>\n      <td>6</td>\n      <td>[0.6764705882352942, 0.6552287581699346, 0.557...</td>\n      <td>1</td>\n      <td>[0.5181610363220726, 0.5527051054102108, 0.716...</td>\n    </tr>\n    <tr>\n      <th>4</th>\n      <td>00b38188-82ee-4f1d-9661-485338815751</td>\n      <td>3</td>\n      <td>1</td>\n      <td>2</td>\n      <td>[0.8161764705882353, 0.8267973856209151, 0.836...</td>\n      <td>2</td>\n      <td>[0.334264668529337, 0.3370586741173482, 0.3398...</td>\n    </tr>\n    <tr>\n      <th>...</th>\n      <td>...</td>\n      <td>...</td>\n      <td>...</td>\n      <td>...</td>\n      <td>...</td>\n      <td>...</td>\n      <td>...</td>\n    </tr>\n    <tr>\n      <th>19627</th>\n      <td>576b54c6-5bc1-4ec0-aac3-3555bde64476</td>\n      <td>3</td>\n      <td>3</td>\n      <td>7</td>\n      <td>[0.6650326797385621, 0.6699346405228759, 0.678...</td>\n      <td>2</td>\n      <td>[0.365760731521463, 0.3721107442214884, 0.3815...</td>\n    </tr>\n    <tr>\n      <th>19628</th>\n      <td>0657f4ec-d8bd-4589-ac18-1e333388b405</td>\n      <td>2</td>\n      <td>1</td>\n      <td>2</td>\n      <td>[0.6772875816993464, 0.690359477124183, 0.7066...</td>\n      <td>2</td>\n      <td>[0.45694691389382774, 0.4658369316738633, 0.47...</td>\n    </tr>\n    <tr>\n      <th>19629</th>\n      <td>f53381e4-141b-4cdd-a12a-177796e0a44f</td>\n      <td>0</td>\n      <td>2</td>\n      <td>8</td>\n      <td>[0.6911764705882353, 0.6977124183006537, 0.704...</td>\n      <td>0</td>\n      <td>[0.49555499110998213, 0.4963169926339852, 0.49...</td>\n    </tr>\n    <tr>\n      <th>19630</th>\n      <td>373380a3-7e33-4213-ba1f-761ca348f6a8</td>\n      <td>3</td>\n      <td>2</td>\n      <td>7</td>\n      <td>[0.7614379084967321, 0.7589869281045751, 0.784...</td>\n      <td>2</td>\n      <td>[0.4660909321818643, 0.4660909321818643, 0.464...</td>\n    </tr>\n    <tr>\n      <th>19631</th>\n      <td>1dc4bd32-b6fc-4ccf-988e-ffcb8bd3fd44</td>\n      <td>1</td>\n      <td>2</td>\n      <td>3</td>\n      <td>[0.6666666666666667, 0.6764705882352942, 0.686...</td>\n      <td>2</td>\n      <td>[0.4102108204216408, 0.41478282956565904, 0.41...</td>\n    </tr>\n  </tbody>\n</table>\n<p>19632 rows × 7 columns</p>\n</div>"
     },
     "execution_count": 9,
     "metadata": {},
     "output_type": "execute_result"
    }
   ],
   "source": [
    "all_df = photo\n",
    "all_df['Data_2'] = piezo['Data_2']\n",
    "all_df"
   ],
   "metadata": {
    "collapsed": false,
    "pycharm": {
     "name": "#%%\n"
    }
   }
  },
  {
   "cell_type": "markdown",
   "source": [
    "#### Перцентили"
   ],
   "metadata": {
    "collapsed": false
   }
  },
  {
   "cell_type": "code",
   "execution_count": 10,
   "outputs": [],
   "source": [
    "percent_df = all_df.copy()\n",
    "quant_list = [0.01, 0.2, 0.25, 0.3, 0.4, 0.5, 0.6, 0.7, 0.75, 0.8, 0.9, 0.99]\n",
    "\n",
    "def _quant(row: pd.Series, quant=None):\n",
    "    quant = np.quantile(row, quant)\n",
    "    return quant\n",
    "\n",
    "\n",
    "for q in quant_list:\n",
    "    try:\n",
    "        percent_df[f'Data_q_{q}'] = percent_df['Data'].apply(_quant, quant=q)\n",
    "        percent_df[f'Data2_q_{q}'] = percent_df['Data_2'].apply(_quant, quant=q)\n",
    "    except:\n",
    "        print('подлива')\n"
   ],
   "metadata": {
    "collapsed": false,
    "pycharm": {
     "name": "#%%\n"
    }
   }
  },
  {
   "cell_type": "code",
   "execution_count": 11,
   "outputs": [
    {
     "data": {
      "text/plain": "                                   Filename  Test_index  Presentation  \\\n0      6ffe4933-3202-451b-ae6b-fee85cafc829           2             3   \n1      8de3189c-8e95-43a2-b6d2-743f097a57fb           0             1   \n2      c74f5292-c8e8-4ef2-a963-7d035e5e3330           3             3   \n3      c856d82f-917e-461c-a91f-5298926b8b31           0             3   \n4      00b38188-82ee-4f1d-9661-485338815751           3             1   \n...                                     ...         ...           ...   \n19627  576b54c6-5bc1-4ec0-aac3-3555bde64476           3             3   \n19628  0657f4ec-d8bd-4589-ac18-1e333388b405           2             1   \n19629  f53381e4-141b-4cdd-a12a-177796e0a44f           0             2   \n19630  373380a3-7e33-4213-ba1f-761ca348f6a8           3             2   \n19631  1dc4bd32-b6fc-4ccf-988e-ffcb8bd3fd44           1             2   \n\n       Question                                               Data  \\\n0             7  [0.9248366013071896, 0.923202614379085, 0.6830...   \n1             0  [0.7622549019607844, 0.7426470588235294, 0.495...   \n2             1  [0.37990196078431376, 0.23774509803921567, 0.1...   \n3             6  [0.6764705882352942, 0.6552287581699346, 0.557...   \n4             2  [0.8161764705882353, 0.8267973856209151, 0.836...   \n...         ...                                                ...   \n19627         7  [0.6650326797385621, 0.6699346405228759, 0.678...   \n19628         2  [0.6772875816993464, 0.690359477124183, 0.7066...   \n19629         8  [0.6911764705882353, 0.6977124183006537, 0.704...   \n19630         7  [0.7614379084967321, 0.7589869281045751, 0.784...   \n19631         3  [0.6666666666666667, 0.6764705882352942, 0.686...   \n\n       Class_label                                             Data_2  \\\n0                1  [0.2844805689611379, 0.24384048768097533, 0.40...   \n1                0  [0.6443992887985776, 0.6431292862585725, 0.649...   \n2                2  [0.5844551689103378, 0.6304292608585216, 0.656...   \n3                1  [0.5181610363220726, 0.5527051054102108, 0.716...   \n4                2  [0.334264668529337, 0.3370586741173482, 0.3398...   \n...            ...                                                ...   \n19627            2  [0.365760731521463, 0.3721107442214884, 0.3815...   \n19628            2  [0.45694691389382774, 0.4658369316738633, 0.47...   \n19629            0  [0.49555499110998213, 0.4963169926339852, 0.49...   \n19630            2  [0.4660909321818643, 0.4660909321818643, 0.464...   \n19631            2  [0.4102108204216408, 0.41478282956565904, 0.41...   \n\n       Data_q_0.01  Data2_q_0.01  Data_q_0.2  ...  Data_q_0.7  Data2_q_0.7  \\\n0         0.037712      0.031811    0.457680  ...    0.851144     0.624714   \n1         0.197353      0.634592    0.413399  ...    0.694199     0.660147   \n2         0.059992      0.301770    0.352288  ...    0.962092     0.547701   \n3         0.357026      0.192098    0.473039  ...    0.625163     0.824308   \n4         0.452574      0.251250    0.540850  ...    0.790523     0.320523   \n...            ...           ...         ...  ...         ...          ...   \n19627     0.602761      0.311293    0.647876  ...    0.705310     0.398781   \n19628     0.558962      0.427780    0.609641  ...    0.721650     0.499619   \n19629     0.391855      0.451811    0.513562  ...    0.718954     0.503759   \n19630     0.415670      0.435839    0.588399  ...    0.783742     0.507137   \n19631     0.548840      0.375301    0.616667  ...    0.711029     0.429337   \n\n       Data_q_0.75  Data2_q_0.75  Data_q_0.8  Data2_q_0.8  Data_q_0.9  \\\n0         0.870915      0.655131    0.891340     0.696317    0.932435   \n1         0.728758      0.661735    0.751144     0.663703    0.837745   \n2         1.002451      0.567564    1.041993     0.593244    1.119608   \n3         0.641748      0.862332    0.657026     0.884785    0.701797   \n4         0.809845      0.327915    0.834967     0.335687    0.864134   \n...            ...           ...         ...          ...         ...   \n19627     0.710172      0.401575    0.720752     0.408788    0.740359   \n19628     0.735703      0.502223    0.750980     0.507747    0.791422   \n19629     0.738154      0.505779    0.754085     0.508509    0.780310   \n19630     0.802288      0.511113    0.825980     0.514402    0.857925   \n19631     0.720180      0.433515    0.729739     0.437440    0.748448   \n\n       Data2_q_0.9  Data_q_0.99  Data2_q_0.99  \n0         0.798095     0.981250      0.969187  \n1         0.668072     0.953333      0.674750  \n2         0.640843     1.217819      0.675525  \n3         0.958217     0.794518      1.037592  \n4         0.344806     0.919297      0.356828  \n...            ...          ...           ...  \n19627     0.422860     0.763930      0.441100  \n19628     0.519177     0.838734      0.535588  \n19629     0.515926     0.850531      0.532393  \n19630     0.525578     0.911070      0.543165  \n19631     0.443231     0.775825      0.456223  \n\n[19632 rows x 31 columns]",
      "text/html": "<div>\n<style scoped>\n    .dataframe tbody tr th:only-of-type {\n        vertical-align: middle;\n    }\n\n    .dataframe tbody tr th {\n        vertical-align: top;\n    }\n\n    .dataframe thead th {\n        text-align: right;\n    }\n</style>\n<table border=\"1\" class=\"dataframe\">\n  <thead>\n    <tr style=\"text-align: right;\">\n      <th></th>\n      <th>Filename</th>\n      <th>Test_index</th>\n      <th>Presentation</th>\n      <th>Question</th>\n      <th>Data</th>\n      <th>Class_label</th>\n      <th>Data_2</th>\n      <th>Data_q_0.01</th>\n      <th>Data2_q_0.01</th>\n      <th>Data_q_0.2</th>\n      <th>...</th>\n      <th>Data_q_0.7</th>\n      <th>Data2_q_0.7</th>\n      <th>Data_q_0.75</th>\n      <th>Data2_q_0.75</th>\n      <th>Data_q_0.8</th>\n      <th>Data2_q_0.8</th>\n      <th>Data_q_0.9</th>\n      <th>Data2_q_0.9</th>\n      <th>Data_q_0.99</th>\n      <th>Data2_q_0.99</th>\n    </tr>\n  </thead>\n  <tbody>\n    <tr>\n      <th>0</th>\n      <td>6ffe4933-3202-451b-ae6b-fee85cafc829</td>\n      <td>2</td>\n      <td>3</td>\n      <td>7</td>\n      <td>[0.9248366013071896, 0.923202614379085, 0.6830...</td>\n      <td>1</td>\n      <td>[0.2844805689611379, 0.24384048768097533, 0.40...</td>\n      <td>0.037712</td>\n      <td>0.031811</td>\n      <td>0.457680</td>\n      <td>...</td>\n      <td>0.851144</td>\n      <td>0.624714</td>\n      <td>0.870915</td>\n      <td>0.655131</td>\n      <td>0.891340</td>\n      <td>0.696317</td>\n      <td>0.932435</td>\n      <td>0.798095</td>\n      <td>0.981250</td>\n      <td>0.969187</td>\n    </tr>\n    <tr>\n      <th>1</th>\n      <td>8de3189c-8e95-43a2-b6d2-743f097a57fb</td>\n      <td>0</td>\n      <td>1</td>\n      <td>0</td>\n      <td>[0.7622549019607844, 0.7426470588235294, 0.495...</td>\n      <td>0</td>\n      <td>[0.6443992887985776, 0.6431292862585725, 0.649...</td>\n      <td>0.197353</td>\n      <td>0.634592</td>\n      <td>0.413399</td>\n      <td>...</td>\n      <td>0.694199</td>\n      <td>0.660147</td>\n      <td>0.728758</td>\n      <td>0.661735</td>\n      <td>0.751144</td>\n      <td>0.663703</td>\n      <td>0.837745</td>\n      <td>0.668072</td>\n      <td>0.953333</td>\n      <td>0.674750</td>\n    </tr>\n    <tr>\n      <th>2</th>\n      <td>c74f5292-c8e8-4ef2-a963-7d035e5e3330</td>\n      <td>3</td>\n      <td>3</td>\n      <td>1</td>\n      <td>[0.37990196078431376, 0.23774509803921567, 0.1...</td>\n      <td>2</td>\n      <td>[0.5844551689103378, 0.6304292608585216, 0.656...</td>\n      <td>0.059992</td>\n      <td>0.301770</td>\n      <td>0.352288</td>\n      <td>...</td>\n      <td>0.962092</td>\n      <td>0.547701</td>\n      <td>1.002451</td>\n      <td>0.567564</td>\n      <td>1.041993</td>\n      <td>0.593244</td>\n      <td>1.119608</td>\n      <td>0.640843</td>\n      <td>1.217819</td>\n      <td>0.675525</td>\n    </tr>\n    <tr>\n      <th>3</th>\n      <td>c856d82f-917e-461c-a91f-5298926b8b31</td>\n      <td>0</td>\n      <td>3</td>\n      <td>6</td>\n      <td>[0.6764705882352942, 0.6552287581699346, 0.557...</td>\n      <td>1</td>\n      <td>[0.5181610363220726, 0.5527051054102108, 0.716...</td>\n      <td>0.357026</td>\n      <td>0.192098</td>\n      <td>0.473039</td>\n      <td>...</td>\n      <td>0.625163</td>\n      <td>0.824308</td>\n      <td>0.641748</td>\n      <td>0.862332</td>\n      <td>0.657026</td>\n      <td>0.884785</td>\n      <td>0.701797</td>\n      <td>0.958217</td>\n      <td>0.794518</td>\n      <td>1.037592</td>\n    </tr>\n    <tr>\n      <th>4</th>\n      <td>00b38188-82ee-4f1d-9661-485338815751</td>\n      <td>3</td>\n      <td>1</td>\n      <td>2</td>\n      <td>[0.8161764705882353, 0.8267973856209151, 0.836...</td>\n      <td>2</td>\n      <td>[0.334264668529337, 0.3370586741173482, 0.3398...</td>\n      <td>0.452574</td>\n      <td>0.251250</td>\n      <td>0.540850</td>\n      <td>...</td>\n      <td>0.790523</td>\n      <td>0.320523</td>\n      <td>0.809845</td>\n      <td>0.327915</td>\n      <td>0.834967</td>\n      <td>0.335687</td>\n      <td>0.864134</td>\n      <td>0.344806</td>\n      <td>0.919297</td>\n      <td>0.356828</td>\n    </tr>\n    <tr>\n      <th>...</th>\n      <td>...</td>\n      <td>...</td>\n      <td>...</td>\n      <td>...</td>\n      <td>...</td>\n      <td>...</td>\n      <td>...</td>\n      <td>...</td>\n      <td>...</td>\n      <td>...</td>\n      <td>...</td>\n      <td>...</td>\n      <td>...</td>\n      <td>...</td>\n      <td>...</td>\n      <td>...</td>\n      <td>...</td>\n      <td>...</td>\n      <td>...</td>\n      <td>...</td>\n      <td>...</td>\n    </tr>\n    <tr>\n      <th>19627</th>\n      <td>576b54c6-5bc1-4ec0-aac3-3555bde64476</td>\n      <td>3</td>\n      <td>3</td>\n      <td>7</td>\n      <td>[0.6650326797385621, 0.6699346405228759, 0.678...</td>\n      <td>2</td>\n      <td>[0.365760731521463, 0.3721107442214884, 0.3815...</td>\n      <td>0.602761</td>\n      <td>0.311293</td>\n      <td>0.647876</td>\n      <td>...</td>\n      <td>0.705310</td>\n      <td>0.398781</td>\n      <td>0.710172</td>\n      <td>0.401575</td>\n      <td>0.720752</td>\n      <td>0.408788</td>\n      <td>0.740359</td>\n      <td>0.422860</td>\n      <td>0.763930</td>\n      <td>0.441100</td>\n    </tr>\n    <tr>\n      <th>19628</th>\n      <td>0657f4ec-d8bd-4589-ac18-1e333388b405</td>\n      <td>2</td>\n      <td>1</td>\n      <td>2</td>\n      <td>[0.6772875816993464, 0.690359477124183, 0.7066...</td>\n      <td>2</td>\n      <td>[0.45694691389382774, 0.4658369316738633, 0.47...</td>\n      <td>0.558962</td>\n      <td>0.427780</td>\n      <td>0.609641</td>\n      <td>...</td>\n      <td>0.721650</td>\n      <td>0.499619</td>\n      <td>0.735703</td>\n      <td>0.502223</td>\n      <td>0.750980</td>\n      <td>0.507747</td>\n      <td>0.791422</td>\n      <td>0.519177</td>\n      <td>0.838734</td>\n      <td>0.535588</td>\n    </tr>\n    <tr>\n      <th>19629</th>\n      <td>f53381e4-141b-4cdd-a12a-177796e0a44f</td>\n      <td>0</td>\n      <td>2</td>\n      <td>8</td>\n      <td>[0.6911764705882353, 0.6977124183006537, 0.704...</td>\n      <td>0</td>\n      <td>[0.49555499110998213, 0.4963169926339852, 0.49...</td>\n      <td>0.391855</td>\n      <td>0.451811</td>\n      <td>0.513562</td>\n      <td>...</td>\n      <td>0.718954</td>\n      <td>0.503759</td>\n      <td>0.738154</td>\n      <td>0.505779</td>\n      <td>0.754085</td>\n      <td>0.508509</td>\n      <td>0.780310</td>\n      <td>0.515926</td>\n      <td>0.850531</td>\n      <td>0.532393</td>\n    </tr>\n    <tr>\n      <th>19630</th>\n      <td>373380a3-7e33-4213-ba1f-761ca348f6a8</td>\n      <td>3</td>\n      <td>2</td>\n      <td>7</td>\n      <td>[0.7614379084967321, 0.7589869281045751, 0.784...</td>\n      <td>2</td>\n      <td>[0.4660909321818643, 0.4660909321818643, 0.464...</td>\n      <td>0.415670</td>\n      <td>0.435839</td>\n      <td>0.588399</td>\n      <td>...</td>\n      <td>0.783742</td>\n      <td>0.507137</td>\n      <td>0.802288</td>\n      <td>0.511113</td>\n      <td>0.825980</td>\n      <td>0.514402</td>\n      <td>0.857925</td>\n      <td>0.525578</td>\n      <td>0.911070</td>\n      <td>0.543165</td>\n    </tr>\n    <tr>\n      <th>19631</th>\n      <td>1dc4bd32-b6fc-4ccf-988e-ffcb8bd3fd44</td>\n      <td>1</td>\n      <td>2</td>\n      <td>3</td>\n      <td>[0.6666666666666667, 0.6764705882352942, 0.686...</td>\n      <td>2</td>\n      <td>[0.4102108204216408, 0.41478282956565904, 0.41...</td>\n      <td>0.548840</td>\n      <td>0.375301</td>\n      <td>0.616667</td>\n      <td>...</td>\n      <td>0.711029</td>\n      <td>0.429337</td>\n      <td>0.720180</td>\n      <td>0.433515</td>\n      <td>0.729739</td>\n      <td>0.437440</td>\n      <td>0.748448</td>\n      <td>0.443231</td>\n      <td>0.775825</td>\n      <td>0.456223</td>\n    </tr>\n  </tbody>\n</table>\n<p>19632 rows × 31 columns</p>\n</div>"
     },
     "execution_count": 11,
     "metadata": {},
     "output_type": "execute_result"
    }
   ],
   "source": [
    "percent_df"
   ],
   "metadata": {
    "collapsed": false,
    "pycharm": {
     "name": "#%%\n"
    }
   }
  },
  {
   "cell_type": "markdown",
   "source": [
    "#### Статистики"
   ],
   "metadata": {
    "collapsed": false
   }
  },
  {
   "cell_type": "code",
   "execution_count": 12,
   "outputs": [],
   "source": [
    "stats_df = percent_df.copy()\n",
    "for f in [np.mean, np.max, np.min, np.median]:\n",
    "    try:\n",
    "        stats_df[f'Data_{f}'] = stats_df['Data'].apply(f)\n",
    "        stats_df[f'Data2_{f}'] = stats_df['Data_2'].apply(f)\n",
    "    except:\n",
    "        print('подлива')\n",
    "\n"
   ],
   "metadata": {
    "collapsed": false,
    "pycharm": {
     "name": "#%%\n"
    }
   }
  },
  {
   "cell_type": "code",
   "execution_count": 13,
   "outputs": [],
   "source": [
    "prep_df = stats_df.astype({\n",
    "    'Test_index': 'category',\n",
    "    'Presentation': 'category',\n",
    "    'Question': 'category'\n",
    "})\n",
    "# prep_df = stats_df"
   ],
   "metadata": {
    "collapsed": false,
    "pycharm": {
     "name": "#%%\n"
    }
   }
  },
  {
   "cell_type": "markdown",
   "source": [
    "#### Спектральный анализ"
   ],
   "metadata": {
    "collapsed": false,
    "pycharm": {
     "name": "#%% md\n"
    }
   }
  },
  {
   "cell_type": "code",
   "execution_count": 14,
   "outputs": [],
   "source": [
    "N = 10\n",
    "\n",
    "def abs_amplitude(row: pd.Series):\n",
    "    \"\"\"\n",
    "    Модуль амплитуды\n",
    "    :param row:\n",
    "    :return:\n",
    "    \"\"\"\n",
    "    F=np.fft.rfft(row, n=None, axis=-1)\n",
    "    A=[((F[i].real)**2+(F[i].imag)**2)**0.5 for i in np.arange(0,N,1)]\n",
    "    return A\n",
    "\n",
    "\n",
    "def phase(row: pd.Series):\n",
    "    \"\"\"\n",
    "    Фаза\n",
    "    :param row:\n",
    "    :param F: прямое преобразование Фурье в частотную область\n",
    "    :return:\n",
    "    \"\"\"\n",
    "    F=np.fft.rfft(row, n=None, axis=-1)\n",
    "    arg=[]\n",
    "    for i in np.arange(0,N,1):\n",
    "         if F[i].imag!=0:\n",
    "             t=(-np.tanh((F[i].real)/(F[i].imag)))\n",
    "             arg.append(t)\n",
    "         else:\n",
    "             arg.append(np.pi/2)\n",
    "    return arg\n"
   ],
   "metadata": {
    "collapsed": false,
    "pycharm": {
     "name": "#%%\n"
    }
   }
  },
  {
   "cell_type": "code",
   "execution_count": 15,
   "outputs": [],
   "source": [
    "prep_df['data_apm'] = prep_df['Data'].apply(abs_amplitude)\n",
    "prep_df['data_2_apm'] = prep_df['Data_2'].apply(abs_amplitude)"
   ],
   "metadata": {
    "collapsed": false,
    "pycharm": {
     "name": "#%%\n"
    }
   }
  },
  {
   "cell_type": "code",
   "execution_count": 16,
   "outputs": [],
   "source": [
    "prep_df['data_phase'] = prep_df['Data'].apply(phase)\n",
    "prep_df['data_2_phase'] = prep_df['Data_2'].apply(phase)"
   ],
   "metadata": {
    "collapsed": false,
    "pycharm": {
     "name": "#%%\n"
    }
   }
  },
  {
   "cell_type": "code",
   "execution_count": 17,
   "outputs": [
    {
     "data": {
      "text/plain": "                                   Filename Test_index Presentation Question  \\\n0      6ffe4933-3202-451b-ae6b-fee85cafc829          2            3        7   \n1      8de3189c-8e95-43a2-b6d2-743f097a57fb          0            1        0   \n2      c74f5292-c8e8-4ef2-a963-7d035e5e3330          3            3        1   \n3      c856d82f-917e-461c-a91f-5298926b8b31          0            3        6   \n4      00b38188-82ee-4f1d-9661-485338815751          3            1        2   \n...                                     ...        ...          ...      ...   \n19627  576b54c6-5bc1-4ec0-aac3-3555bde64476          3            3        7   \n19628  0657f4ec-d8bd-4589-ac18-1e333388b405          2            1        2   \n19629  f53381e4-141b-4cdd-a12a-177796e0a44f          0            2        8   \n19630  373380a3-7e33-4213-ba1f-761ca348f6a8          3            2        7   \n19631  1dc4bd32-b6fc-4ccf-988e-ffcb8bd3fd44          1            2        3   \n\n                                                    Data  Class_label  \\\n0      [0.9248366013071896, 0.923202614379085, 0.6830...            1   \n1      [0.7622549019607844, 0.7426470588235294, 0.495...            0   \n2      [0.37990196078431376, 0.23774509803921567, 0.1...            2   \n3      [0.6764705882352942, 0.6552287581699346, 0.557...            1   \n4      [0.8161764705882353, 0.8267973856209151, 0.836...            2   \n...                                                  ...          ...   \n19627  [0.6650326797385621, 0.6699346405228759, 0.678...            2   \n19628  [0.6772875816993464, 0.690359477124183, 0.7066...            2   \n19629  [0.6911764705882353, 0.6977124183006537, 0.704...            0   \n19630  [0.7614379084967321, 0.7589869281045751, 0.784...            2   \n19631  [0.6666666666666667, 0.6764705882352942, 0.686...            2   \n\n                                                  Data_2  Data_q_0.01  \\\n0      [0.2844805689611379, 0.24384048768097533, 0.40...     0.037712   \n1      [0.6443992887985776, 0.6431292862585725, 0.649...     0.197353   \n2      [0.5844551689103378, 0.6304292608585216, 0.656...     0.059992   \n3      [0.5181610363220726, 0.5527051054102108, 0.716...     0.357026   \n4      [0.334264668529337, 0.3370586741173482, 0.3398...     0.452574   \n...                                                  ...          ...   \n19627  [0.365760731521463, 0.3721107442214884, 0.3815...     0.602761   \n19628  [0.45694691389382774, 0.4658369316738633, 0.47...     0.558962   \n19629  [0.49555499110998213, 0.4963169926339852, 0.49...     0.391855   \n19630  [0.4660909321818643, 0.4660909321818643, 0.464...     0.415670   \n19631  [0.4102108204216408, 0.41478282956565904, 0.41...     0.548840   \n\n       Data2_q_0.01  Data_q_0.2  ...  Data_<function amax at 0x103e6eee0>  \\\n0          0.031811    0.457680  ...                             1.000000   \n1          0.634592    0.413399  ...                             0.976307   \n2          0.301770    0.352288  ...                             1.242647   \n3          0.192098    0.473039  ...                             0.814542   \n4          0.251250    0.540850  ...                             0.926471   \n...             ...         ...  ...                                  ...   \n19627      0.311293    0.647876  ...                             0.771242   \n19628      0.427780    0.609641  ...                             0.845588   \n19629      0.451811    0.513562  ...                             0.866013   \n19630      0.435839    0.588399  ...                             0.921569   \n19631      0.375301    0.616667  ...                             0.783497   \n\n       Data2_<function amax at 0x103e6eee0>  \\\n0                                  1.000000   \n1                                  0.677673   \n2                                  0.681483   \n3                                  1.037592   \n4                                  0.358141   \n...                                     ...   \n19627                              0.443231   \n19628                              0.542545   \n19629                              0.538735   \n19630                              0.547117   \n19631                              0.460757   \n\n       Data_<function amin at 0x103e720d0>  \\\n0                                 0.000000   \n1                                 0.160131   \n2                                 0.016340   \n3                                 0.324346   \n4                                 0.441176   \n...                                    ...   \n19627                             0.595588   \n19628                             0.553922   \n19629                             0.375000   \n19630                             0.381536   \n19631                             0.546569   \n\n       Data2_<function amin at 0x103e720d0>  \\\n0                                  0.000000   \n1                                  0.633477   \n2                                  0.298705   \n3                                  0.146050   \n4                                  0.249428   \n...                                     ...   \n19627                              0.305055   \n19628                              0.425705   \n19629                              0.449327   \n19630                              0.424181   \n19631                              0.371603   \n\n       Data_<function median at 0x1040e4f70>  \\\n0                                   0.732026   \n1                                   0.577206   \n2                                   0.756944   \n3                                   0.571487   \n4                                   0.676879   \n...                                      ...   \n19627                               0.684641   \n19628                               0.689951   \n19629                               0.677696   \n19630                               0.691176   \n19631                               0.676062   \n\n       Data2_<function median at 0x1040e4f70>  \\\n0                                    0.490475   \n1                                    0.654305   \n2                                    0.479045   \n3                                    0.689992   \n4                                    0.299975   \n...                                       ...   \n19627                                0.381382   \n19628                                0.484760   \n19629                                0.495047   \n19630                                0.491237   \n19631                                0.418974   \n\n                                                data_apm  \\\n0      [160.05555555555554, 12.402062376856303, 3.747...   \n1      [139.9011437908497, 14.078677652476395, 2.3899...   \n2      [167.10049019607845, 53.24332910482046, 4.9815...   \n3      [136.78349673202615, 10.720137796354273, 3.015...   \n4      [163.84313725490196, 21.122971108186647, 6.103...   \n...                                                  ...   \n19627  [163.9607843137255, 0.3974478302289149, 4.9573...   \n19628  [164.57107843137254, 8.628342662049107, 3.0245...   \n19629  [154.20588235294116, 18.776366634842347, 4.785...   \n19630  [166.71977124183007, 15.685193374936762, 1.938...   \n19631  [161.296568627451, 8.765043940316971, 1.118228...   \n\n                                              data_2_apm  \\\n0      [117.23698247396493, 21.291776229681016, 5.755...   \n1      [157.0551181102362, 0.945985556580717, 0.09907...   \n2      [114.34975869951738, 17.688262887510827, 1.406...   \n3      [162.56388112776222, 29.496323165103107, 5.751...   \n4      [72.85902971805942, 4.110642347790821, 1.69106...   \n...                                                  ...   \n19627  [91.19126238252476, 0.42151446590751235, 2.992...   \n19628  [115.9781559563119, 2.050042826265615, 0.87680...   \n19629  [117.96393192786385, 0.5207543277763816, 2.083...   \n19630  [118.16484632969264, 2.194582022920706, 1.9461...   \n19631  [100.27025654051306, 2.8043304997606135, 0.576...   \n\n                                              data_phase  \\\n0      [1.5707963267948966, -0.6582377163794724, -0.3...   \n1      [1.5707963267948966, 0.06997597857263754, -0.5...   \n2      [1.5707963267948966, 0.625064572045819, 0.9994...   \n3      [1.5707963267948966, -0.12398231809731243, 0.2...   \n4      [1.5707963267948966, 0.0742722157172115, 0.055...   \n...                                                  ...   \n19627  [1.5707963267948966, 0.9814728409267546, -0.03...   \n19628  [1.5707963267948966, 0.2909380384633038, -0.38...   \n19629  [1.5707963267948966, -0.9999999999996836, 0.99...   \n19630  [1.5707963267948966, -0.9999999999989899, -0.9...   \n19631  [1.5707963267948966, -0.2117969277224108, 0.35...   \n\n                                            data_2_phase  \n0      [1.5707963267948966, -0.4770207769647849, -0.8...  \n1      [1.5707963267948966, -0.14078150305665652, -0....  \n2      [1.5707963267948966, 0.975668054666783, -0.977...  \n3      [1.5707963267948966, -0.07040713472090139, 0.9...  \n4      [1.5707963267948966, 0.12964104491346798, 0.11...  \n...                                                  ...  \n19627  [1.5707963267948966, -0.49911819909107147, 0.2...  \n19628  [1.5707963267948966, 0.37807006631961365, -0.1...  \n19629  [1.5707963267948966, -0.9999898260957851, -0.2...  \n19630  [1.5707963267948966, -0.8875068802457596, -0.9...  \n19631  [1.5707963267948966, -0.38981276749416477, 0.0...  \n\n[19632 rows x 43 columns]",
      "text/html": "<div>\n<style scoped>\n    .dataframe tbody tr th:only-of-type {\n        vertical-align: middle;\n    }\n\n    .dataframe tbody tr th {\n        vertical-align: top;\n    }\n\n    .dataframe thead th {\n        text-align: right;\n    }\n</style>\n<table border=\"1\" class=\"dataframe\">\n  <thead>\n    <tr style=\"text-align: right;\">\n      <th></th>\n      <th>Filename</th>\n      <th>Test_index</th>\n      <th>Presentation</th>\n      <th>Question</th>\n      <th>Data</th>\n      <th>Class_label</th>\n      <th>Data_2</th>\n      <th>Data_q_0.01</th>\n      <th>Data2_q_0.01</th>\n      <th>Data_q_0.2</th>\n      <th>...</th>\n      <th>Data_&lt;function amax at 0x103e6eee0&gt;</th>\n      <th>Data2_&lt;function amax at 0x103e6eee0&gt;</th>\n      <th>Data_&lt;function amin at 0x103e720d0&gt;</th>\n      <th>Data2_&lt;function amin at 0x103e720d0&gt;</th>\n      <th>Data_&lt;function median at 0x1040e4f70&gt;</th>\n      <th>Data2_&lt;function median at 0x1040e4f70&gt;</th>\n      <th>data_apm</th>\n      <th>data_2_apm</th>\n      <th>data_phase</th>\n      <th>data_2_phase</th>\n    </tr>\n  </thead>\n  <tbody>\n    <tr>\n      <th>0</th>\n      <td>6ffe4933-3202-451b-ae6b-fee85cafc829</td>\n      <td>2</td>\n      <td>3</td>\n      <td>7</td>\n      <td>[0.9248366013071896, 0.923202614379085, 0.6830...</td>\n      <td>1</td>\n      <td>[0.2844805689611379, 0.24384048768097533, 0.40...</td>\n      <td>0.037712</td>\n      <td>0.031811</td>\n      <td>0.457680</td>\n      <td>...</td>\n      <td>1.000000</td>\n      <td>1.000000</td>\n      <td>0.000000</td>\n      <td>0.000000</td>\n      <td>0.732026</td>\n      <td>0.490475</td>\n      <td>[160.05555555555554, 12.402062376856303, 3.747...</td>\n      <td>[117.23698247396493, 21.291776229681016, 5.755...</td>\n      <td>[1.5707963267948966, -0.6582377163794724, -0.3...</td>\n      <td>[1.5707963267948966, -0.4770207769647849, -0.8...</td>\n    </tr>\n    <tr>\n      <th>1</th>\n      <td>8de3189c-8e95-43a2-b6d2-743f097a57fb</td>\n      <td>0</td>\n      <td>1</td>\n      <td>0</td>\n      <td>[0.7622549019607844, 0.7426470588235294, 0.495...</td>\n      <td>0</td>\n      <td>[0.6443992887985776, 0.6431292862585725, 0.649...</td>\n      <td>0.197353</td>\n      <td>0.634592</td>\n      <td>0.413399</td>\n      <td>...</td>\n      <td>0.976307</td>\n      <td>0.677673</td>\n      <td>0.160131</td>\n      <td>0.633477</td>\n      <td>0.577206</td>\n      <td>0.654305</td>\n      <td>[139.9011437908497, 14.078677652476395, 2.3899...</td>\n      <td>[157.0551181102362, 0.945985556580717, 0.09907...</td>\n      <td>[1.5707963267948966, 0.06997597857263754, -0.5...</td>\n      <td>[1.5707963267948966, -0.14078150305665652, -0....</td>\n    </tr>\n    <tr>\n      <th>2</th>\n      <td>c74f5292-c8e8-4ef2-a963-7d035e5e3330</td>\n      <td>3</td>\n      <td>3</td>\n      <td>1</td>\n      <td>[0.37990196078431376, 0.23774509803921567, 0.1...</td>\n      <td>2</td>\n      <td>[0.5844551689103378, 0.6304292608585216, 0.656...</td>\n      <td>0.059992</td>\n      <td>0.301770</td>\n      <td>0.352288</td>\n      <td>...</td>\n      <td>1.242647</td>\n      <td>0.681483</td>\n      <td>0.016340</td>\n      <td>0.298705</td>\n      <td>0.756944</td>\n      <td>0.479045</td>\n      <td>[167.10049019607845, 53.24332910482046, 4.9815...</td>\n      <td>[114.34975869951738, 17.688262887510827, 1.406...</td>\n      <td>[1.5707963267948966, 0.625064572045819, 0.9994...</td>\n      <td>[1.5707963267948966, 0.975668054666783, -0.977...</td>\n    </tr>\n    <tr>\n      <th>3</th>\n      <td>c856d82f-917e-461c-a91f-5298926b8b31</td>\n      <td>0</td>\n      <td>3</td>\n      <td>6</td>\n      <td>[0.6764705882352942, 0.6552287581699346, 0.557...</td>\n      <td>1</td>\n      <td>[0.5181610363220726, 0.5527051054102108, 0.716...</td>\n      <td>0.357026</td>\n      <td>0.192098</td>\n      <td>0.473039</td>\n      <td>...</td>\n      <td>0.814542</td>\n      <td>1.037592</td>\n      <td>0.324346</td>\n      <td>0.146050</td>\n      <td>0.571487</td>\n      <td>0.689992</td>\n      <td>[136.78349673202615, 10.720137796354273, 3.015...</td>\n      <td>[162.56388112776222, 29.496323165103107, 5.751...</td>\n      <td>[1.5707963267948966, -0.12398231809731243, 0.2...</td>\n      <td>[1.5707963267948966, -0.07040713472090139, 0.9...</td>\n    </tr>\n    <tr>\n      <th>4</th>\n      <td>00b38188-82ee-4f1d-9661-485338815751</td>\n      <td>3</td>\n      <td>1</td>\n      <td>2</td>\n      <td>[0.8161764705882353, 0.8267973856209151, 0.836...</td>\n      <td>2</td>\n      <td>[0.334264668529337, 0.3370586741173482, 0.3398...</td>\n      <td>0.452574</td>\n      <td>0.251250</td>\n      <td>0.540850</td>\n      <td>...</td>\n      <td>0.926471</td>\n      <td>0.358141</td>\n      <td>0.441176</td>\n      <td>0.249428</td>\n      <td>0.676879</td>\n      <td>0.299975</td>\n      <td>[163.84313725490196, 21.122971108186647, 6.103...</td>\n      <td>[72.85902971805942, 4.110642347790821, 1.69106...</td>\n      <td>[1.5707963267948966, 0.0742722157172115, 0.055...</td>\n      <td>[1.5707963267948966, 0.12964104491346798, 0.11...</td>\n    </tr>\n    <tr>\n      <th>...</th>\n      <td>...</td>\n      <td>...</td>\n      <td>...</td>\n      <td>...</td>\n      <td>...</td>\n      <td>...</td>\n      <td>...</td>\n      <td>...</td>\n      <td>...</td>\n      <td>...</td>\n      <td>...</td>\n      <td>...</td>\n      <td>...</td>\n      <td>...</td>\n      <td>...</td>\n      <td>...</td>\n      <td>...</td>\n      <td>...</td>\n      <td>...</td>\n      <td>...</td>\n      <td>...</td>\n    </tr>\n    <tr>\n      <th>19627</th>\n      <td>576b54c6-5bc1-4ec0-aac3-3555bde64476</td>\n      <td>3</td>\n      <td>3</td>\n      <td>7</td>\n      <td>[0.6650326797385621, 0.6699346405228759, 0.678...</td>\n      <td>2</td>\n      <td>[0.365760731521463, 0.3721107442214884, 0.3815...</td>\n      <td>0.602761</td>\n      <td>0.311293</td>\n      <td>0.647876</td>\n      <td>...</td>\n      <td>0.771242</td>\n      <td>0.443231</td>\n      <td>0.595588</td>\n      <td>0.305055</td>\n      <td>0.684641</td>\n      <td>0.381382</td>\n      <td>[163.9607843137255, 0.3974478302289149, 4.9573...</td>\n      <td>[91.19126238252476, 0.42151446590751235, 2.992...</td>\n      <td>[1.5707963267948966, 0.9814728409267546, -0.03...</td>\n      <td>[1.5707963267948966, -0.49911819909107147, 0.2...</td>\n    </tr>\n    <tr>\n      <th>19628</th>\n      <td>0657f4ec-d8bd-4589-ac18-1e333388b405</td>\n      <td>2</td>\n      <td>1</td>\n      <td>2</td>\n      <td>[0.6772875816993464, 0.690359477124183, 0.7066...</td>\n      <td>2</td>\n      <td>[0.45694691389382774, 0.4658369316738633, 0.47...</td>\n      <td>0.558962</td>\n      <td>0.427780</td>\n      <td>0.609641</td>\n      <td>...</td>\n      <td>0.845588</td>\n      <td>0.542545</td>\n      <td>0.553922</td>\n      <td>0.425705</td>\n      <td>0.689951</td>\n      <td>0.484760</td>\n      <td>[164.57107843137254, 8.628342662049107, 3.0245...</td>\n      <td>[115.9781559563119, 2.050042826265615, 0.87680...</td>\n      <td>[1.5707963267948966, 0.2909380384633038, -0.38...</td>\n      <td>[1.5707963267948966, 0.37807006631961365, -0.1...</td>\n    </tr>\n    <tr>\n      <th>19629</th>\n      <td>f53381e4-141b-4cdd-a12a-177796e0a44f</td>\n      <td>0</td>\n      <td>2</td>\n      <td>8</td>\n      <td>[0.6911764705882353, 0.6977124183006537, 0.704...</td>\n      <td>0</td>\n      <td>[0.49555499110998213, 0.4963169926339852, 0.49...</td>\n      <td>0.391855</td>\n      <td>0.451811</td>\n      <td>0.513562</td>\n      <td>...</td>\n      <td>0.866013</td>\n      <td>0.538735</td>\n      <td>0.375000</td>\n      <td>0.449327</td>\n      <td>0.677696</td>\n      <td>0.495047</td>\n      <td>[154.20588235294116, 18.776366634842347, 4.785...</td>\n      <td>[117.96393192786385, 0.5207543277763816, 2.083...</td>\n      <td>[1.5707963267948966, -0.9999999999996836, 0.99...</td>\n      <td>[1.5707963267948966, -0.9999898260957851, -0.2...</td>\n    </tr>\n    <tr>\n      <th>19630</th>\n      <td>373380a3-7e33-4213-ba1f-761ca348f6a8</td>\n      <td>3</td>\n      <td>2</td>\n      <td>7</td>\n      <td>[0.7614379084967321, 0.7589869281045751, 0.784...</td>\n      <td>2</td>\n      <td>[0.4660909321818643, 0.4660909321818643, 0.464...</td>\n      <td>0.415670</td>\n      <td>0.435839</td>\n      <td>0.588399</td>\n      <td>...</td>\n      <td>0.921569</td>\n      <td>0.547117</td>\n      <td>0.381536</td>\n      <td>0.424181</td>\n      <td>0.691176</td>\n      <td>0.491237</td>\n      <td>[166.71977124183007, 15.685193374936762, 1.938...</td>\n      <td>[118.16484632969264, 2.194582022920706, 1.9461...</td>\n      <td>[1.5707963267948966, -0.9999999999989899, -0.9...</td>\n      <td>[1.5707963267948966, -0.8875068802457596, -0.9...</td>\n    </tr>\n    <tr>\n      <th>19631</th>\n      <td>1dc4bd32-b6fc-4ccf-988e-ffcb8bd3fd44</td>\n      <td>1</td>\n      <td>2</td>\n      <td>3</td>\n      <td>[0.6666666666666667, 0.6764705882352942, 0.686...</td>\n      <td>2</td>\n      <td>[0.4102108204216408, 0.41478282956565904, 0.41...</td>\n      <td>0.548840</td>\n      <td>0.375301</td>\n      <td>0.616667</td>\n      <td>...</td>\n      <td>0.783497</td>\n      <td>0.460757</td>\n      <td>0.546569</td>\n      <td>0.371603</td>\n      <td>0.676062</td>\n      <td>0.418974</td>\n      <td>[161.296568627451, 8.765043940316971, 1.118228...</td>\n      <td>[100.27025654051306, 2.8043304997606135, 0.576...</td>\n      <td>[1.5707963267948966, -0.2117969277224108, 0.35...</td>\n      <td>[1.5707963267948966, -0.38981276749416477, 0.0...</td>\n    </tr>\n  </tbody>\n</table>\n<p>19632 rows × 43 columns</p>\n</div>"
     },
     "execution_count": 17,
     "metadata": {},
     "output_type": "execute_result"
    }
   ],
   "source": [
    "prep_df"
   ],
   "metadata": {
    "collapsed": false,
    "pycharm": {
     "name": "#%%\n"
    }
   }
  },
  {
   "cell_type": "markdown",
   "source": [
    "#### Амплитуда и фаза как фичи"
   ],
   "metadata": {
    "collapsed": false,
    "pycharm": {
     "name": "#%% md\n"
    }
   }
  },
  {
   "cell_type": "code",
   "execution_count": 18,
   "outputs": [
    {
     "data": {
      "text/plain": "                                   Filename Test_index Presentation Question  \\\n0      6ffe4933-3202-451b-ae6b-fee85cafc829          2            3        7   \n1      8de3189c-8e95-43a2-b6d2-743f097a57fb          0            1        0   \n2      c74f5292-c8e8-4ef2-a963-7d035e5e3330          3            3        1   \n3      c856d82f-917e-461c-a91f-5298926b8b31          0            3        6   \n4      00b38188-82ee-4f1d-9661-485338815751          3            1        2   \n...                                     ...        ...          ...      ...   \n19627  576b54c6-5bc1-4ec0-aac3-3555bde64476          3            3        7   \n19628  0657f4ec-d8bd-4589-ac18-1e333388b405          2            1        2   \n19629  f53381e4-141b-4cdd-a12a-177796e0a44f          0            2        8   \n19630  373380a3-7e33-4213-ba1f-761ca348f6a8          3            2        7   \n19631  1dc4bd32-b6fc-4ccf-988e-ffcb8bd3fd44          1            2        3   \n\n                                                    Data  Class_label  \\\n0      [0.9248366013071896, 0.923202614379085, 0.6830...            1   \n1      [0.7622549019607844, 0.7426470588235294, 0.495...            0   \n2      [0.37990196078431376, 0.23774509803921567, 0.1...            2   \n3      [0.6764705882352942, 0.6552287581699346, 0.557...            1   \n4      [0.8161764705882353, 0.8267973856209151, 0.836...            2   \n...                                                  ...          ...   \n19627  [0.6650326797385621, 0.6699346405228759, 0.678...            2   \n19628  [0.6772875816993464, 0.690359477124183, 0.7066...            2   \n19629  [0.6911764705882353, 0.6977124183006537, 0.704...            0   \n19630  [0.7614379084967321, 0.7589869281045751, 0.784...            2   \n19631  [0.6666666666666667, 0.6764705882352942, 0.686...            2   \n\n                                                  Data_2  Data_q_0.01  \\\n0      [0.2844805689611379, 0.24384048768097533, 0.40...     0.037712   \n1      [0.6443992887985776, 0.6431292862585725, 0.649...     0.197353   \n2      [0.5844551689103378, 0.6304292608585216, 0.656...     0.059992   \n3      [0.5181610363220726, 0.5527051054102108, 0.716...     0.357026   \n4      [0.334264668529337, 0.3370586741173482, 0.3398...     0.452574   \n...                                                  ...          ...   \n19627  [0.365760731521463, 0.3721107442214884, 0.3815...     0.602761   \n19628  [0.45694691389382774, 0.4658369316738633, 0.47...     0.558962   \n19629  [0.49555499110998213, 0.4963169926339852, 0.49...     0.391855   \n19630  [0.4660909321818643, 0.4660909321818643, 0.464...     0.415670   \n19631  [0.4102108204216408, 0.41478282956565904, 0.41...     0.548840   \n\n       Data2_q_0.01  Data_q_0.2  ...  data_phase_0  data_phase_1  \\\n0          0.031811    0.457680  ...      1.570796     -0.658238   \n1          0.634592    0.413399  ...      1.570796      0.069976   \n2          0.301770    0.352288  ...      1.570796      0.625065   \n3          0.192098    0.473039  ...      1.570796     -0.123982   \n4          0.251250    0.540850  ...      1.570796      0.074272   \n...             ...         ...  ...           ...           ...   \n19627      0.311293    0.647876  ...      1.570796      0.981473   \n19628      0.427780    0.609641  ...      1.570796      0.290938   \n19629      0.451811    0.513562  ...      1.570796     -1.000000   \n19630      0.435839    0.588399  ...      1.570796     -1.000000   \n19631      0.375301    0.616667  ...      1.570796     -0.211797   \n\n       data_phase_2  data_phase_3  data_phase_4  data_phase_5  data_phase_6  \\\n0         -0.328028      0.999994      0.793554      0.798608     -0.444473   \n1         -0.516677     -1.000000     -0.330987     -0.209090      0.138578   \n2          0.999458      0.999695      0.499866      0.890899      1.000000   \n3          0.211319     -0.073549     -0.454601     -1.000000      0.600104   \n4          0.055599     -0.138191      0.254776      0.154226      0.027021   \n...             ...           ...           ...           ...           ...   \n19627     -0.036491     -0.996457     -0.232819      0.995351     -0.902661   \n19628     -0.387696     -0.156558     -0.162693     -0.208636     -0.253019   \n19629      0.996266     -0.740711      0.057873     -0.323442      0.137349   \n19630     -0.904590     -0.616876      0.002621      0.887753      0.089401   \n19631      0.353201      0.999400      0.999865     -0.762573     -0.004355   \n\n       data_phase_7  data_phase_8  data_phase_9  \n0          0.134554     -0.706434      0.371564  \n1          0.038119      0.301147     -0.214457  \n2          0.999073      0.999150      0.857068  \n3         -0.445401     -0.065110     -0.308187  \n4          0.302386      0.427470      0.433071  \n...             ...           ...           ...  \n19627      0.961824     -0.127067      0.441802  \n19628     -0.647351     -0.745118     -0.879291  \n19629     -0.139383      0.223558     -0.557893  \n19630      0.846103     -0.201902      0.012930  \n19631     -0.131812      0.068433     -0.489473  \n\n[19632 rows x 83 columns]",
      "text/html": "<div>\n<style scoped>\n    .dataframe tbody tr th:only-of-type {\n        vertical-align: middle;\n    }\n\n    .dataframe tbody tr th {\n        vertical-align: top;\n    }\n\n    .dataframe thead th {\n        text-align: right;\n    }\n</style>\n<table border=\"1\" class=\"dataframe\">\n  <thead>\n    <tr style=\"text-align: right;\">\n      <th></th>\n      <th>Filename</th>\n      <th>Test_index</th>\n      <th>Presentation</th>\n      <th>Question</th>\n      <th>Data</th>\n      <th>Class_label</th>\n      <th>Data_2</th>\n      <th>Data_q_0.01</th>\n      <th>Data2_q_0.01</th>\n      <th>Data_q_0.2</th>\n      <th>...</th>\n      <th>data_phase_0</th>\n      <th>data_phase_1</th>\n      <th>data_phase_2</th>\n      <th>data_phase_3</th>\n      <th>data_phase_4</th>\n      <th>data_phase_5</th>\n      <th>data_phase_6</th>\n      <th>data_phase_7</th>\n      <th>data_phase_8</th>\n      <th>data_phase_9</th>\n    </tr>\n  </thead>\n  <tbody>\n    <tr>\n      <th>0</th>\n      <td>6ffe4933-3202-451b-ae6b-fee85cafc829</td>\n      <td>2</td>\n      <td>3</td>\n      <td>7</td>\n      <td>[0.9248366013071896, 0.923202614379085, 0.6830...</td>\n      <td>1</td>\n      <td>[0.2844805689611379, 0.24384048768097533, 0.40...</td>\n      <td>0.037712</td>\n      <td>0.031811</td>\n      <td>0.457680</td>\n      <td>...</td>\n      <td>1.570796</td>\n      <td>-0.658238</td>\n      <td>-0.328028</td>\n      <td>0.999994</td>\n      <td>0.793554</td>\n      <td>0.798608</td>\n      <td>-0.444473</td>\n      <td>0.134554</td>\n      <td>-0.706434</td>\n      <td>0.371564</td>\n    </tr>\n    <tr>\n      <th>1</th>\n      <td>8de3189c-8e95-43a2-b6d2-743f097a57fb</td>\n      <td>0</td>\n      <td>1</td>\n      <td>0</td>\n      <td>[0.7622549019607844, 0.7426470588235294, 0.495...</td>\n      <td>0</td>\n      <td>[0.6443992887985776, 0.6431292862585725, 0.649...</td>\n      <td>0.197353</td>\n      <td>0.634592</td>\n      <td>0.413399</td>\n      <td>...</td>\n      <td>1.570796</td>\n      <td>0.069976</td>\n      <td>-0.516677</td>\n      <td>-1.000000</td>\n      <td>-0.330987</td>\n      <td>-0.209090</td>\n      <td>0.138578</td>\n      <td>0.038119</td>\n      <td>0.301147</td>\n      <td>-0.214457</td>\n    </tr>\n    <tr>\n      <th>2</th>\n      <td>c74f5292-c8e8-4ef2-a963-7d035e5e3330</td>\n      <td>3</td>\n      <td>3</td>\n      <td>1</td>\n      <td>[0.37990196078431376, 0.23774509803921567, 0.1...</td>\n      <td>2</td>\n      <td>[0.5844551689103378, 0.6304292608585216, 0.656...</td>\n      <td>0.059992</td>\n      <td>0.301770</td>\n      <td>0.352288</td>\n      <td>...</td>\n      <td>1.570796</td>\n      <td>0.625065</td>\n      <td>0.999458</td>\n      <td>0.999695</td>\n      <td>0.499866</td>\n      <td>0.890899</td>\n      <td>1.000000</td>\n      <td>0.999073</td>\n      <td>0.999150</td>\n      <td>0.857068</td>\n    </tr>\n    <tr>\n      <th>3</th>\n      <td>c856d82f-917e-461c-a91f-5298926b8b31</td>\n      <td>0</td>\n      <td>3</td>\n      <td>6</td>\n      <td>[0.6764705882352942, 0.6552287581699346, 0.557...</td>\n      <td>1</td>\n      <td>[0.5181610363220726, 0.5527051054102108, 0.716...</td>\n      <td>0.357026</td>\n      <td>0.192098</td>\n      <td>0.473039</td>\n      <td>...</td>\n      <td>1.570796</td>\n      <td>-0.123982</td>\n      <td>0.211319</td>\n      <td>-0.073549</td>\n      <td>-0.454601</td>\n      <td>-1.000000</td>\n      <td>0.600104</td>\n      <td>-0.445401</td>\n      <td>-0.065110</td>\n      <td>-0.308187</td>\n    </tr>\n    <tr>\n      <th>4</th>\n      <td>00b38188-82ee-4f1d-9661-485338815751</td>\n      <td>3</td>\n      <td>1</td>\n      <td>2</td>\n      <td>[0.8161764705882353, 0.8267973856209151, 0.836...</td>\n      <td>2</td>\n      <td>[0.334264668529337, 0.3370586741173482, 0.3398...</td>\n      <td>0.452574</td>\n      <td>0.251250</td>\n      <td>0.540850</td>\n      <td>...</td>\n      <td>1.570796</td>\n      <td>0.074272</td>\n      <td>0.055599</td>\n      <td>-0.138191</td>\n      <td>0.254776</td>\n      <td>0.154226</td>\n      <td>0.027021</td>\n      <td>0.302386</td>\n      <td>0.427470</td>\n      <td>0.433071</td>\n    </tr>\n    <tr>\n      <th>...</th>\n      <td>...</td>\n      <td>...</td>\n      <td>...</td>\n      <td>...</td>\n      <td>...</td>\n      <td>...</td>\n      <td>...</td>\n      <td>...</td>\n      <td>...</td>\n      <td>...</td>\n      <td>...</td>\n      <td>...</td>\n      <td>...</td>\n      <td>...</td>\n      <td>...</td>\n      <td>...</td>\n      <td>...</td>\n      <td>...</td>\n      <td>...</td>\n      <td>...</td>\n      <td>...</td>\n    </tr>\n    <tr>\n      <th>19627</th>\n      <td>576b54c6-5bc1-4ec0-aac3-3555bde64476</td>\n      <td>3</td>\n      <td>3</td>\n      <td>7</td>\n      <td>[0.6650326797385621, 0.6699346405228759, 0.678...</td>\n      <td>2</td>\n      <td>[0.365760731521463, 0.3721107442214884, 0.3815...</td>\n      <td>0.602761</td>\n      <td>0.311293</td>\n      <td>0.647876</td>\n      <td>...</td>\n      <td>1.570796</td>\n      <td>0.981473</td>\n      <td>-0.036491</td>\n      <td>-0.996457</td>\n      <td>-0.232819</td>\n      <td>0.995351</td>\n      <td>-0.902661</td>\n      <td>0.961824</td>\n      <td>-0.127067</td>\n      <td>0.441802</td>\n    </tr>\n    <tr>\n      <th>19628</th>\n      <td>0657f4ec-d8bd-4589-ac18-1e333388b405</td>\n      <td>2</td>\n      <td>1</td>\n      <td>2</td>\n      <td>[0.6772875816993464, 0.690359477124183, 0.7066...</td>\n      <td>2</td>\n      <td>[0.45694691389382774, 0.4658369316738633, 0.47...</td>\n      <td>0.558962</td>\n      <td>0.427780</td>\n      <td>0.609641</td>\n      <td>...</td>\n      <td>1.570796</td>\n      <td>0.290938</td>\n      <td>-0.387696</td>\n      <td>-0.156558</td>\n      <td>-0.162693</td>\n      <td>-0.208636</td>\n      <td>-0.253019</td>\n      <td>-0.647351</td>\n      <td>-0.745118</td>\n      <td>-0.879291</td>\n    </tr>\n    <tr>\n      <th>19629</th>\n      <td>f53381e4-141b-4cdd-a12a-177796e0a44f</td>\n      <td>0</td>\n      <td>2</td>\n      <td>8</td>\n      <td>[0.6911764705882353, 0.6977124183006537, 0.704...</td>\n      <td>0</td>\n      <td>[0.49555499110998213, 0.4963169926339852, 0.49...</td>\n      <td>0.391855</td>\n      <td>0.451811</td>\n      <td>0.513562</td>\n      <td>...</td>\n      <td>1.570796</td>\n      <td>-1.000000</td>\n      <td>0.996266</td>\n      <td>-0.740711</td>\n      <td>0.057873</td>\n      <td>-0.323442</td>\n      <td>0.137349</td>\n      <td>-0.139383</td>\n      <td>0.223558</td>\n      <td>-0.557893</td>\n    </tr>\n    <tr>\n      <th>19630</th>\n      <td>373380a3-7e33-4213-ba1f-761ca348f6a8</td>\n      <td>3</td>\n      <td>2</td>\n      <td>7</td>\n      <td>[0.7614379084967321, 0.7589869281045751, 0.784...</td>\n      <td>2</td>\n      <td>[0.4660909321818643, 0.4660909321818643, 0.464...</td>\n      <td>0.415670</td>\n      <td>0.435839</td>\n      <td>0.588399</td>\n      <td>...</td>\n      <td>1.570796</td>\n      <td>-1.000000</td>\n      <td>-0.904590</td>\n      <td>-0.616876</td>\n      <td>0.002621</td>\n      <td>0.887753</td>\n      <td>0.089401</td>\n      <td>0.846103</td>\n      <td>-0.201902</td>\n      <td>0.012930</td>\n    </tr>\n    <tr>\n      <th>19631</th>\n      <td>1dc4bd32-b6fc-4ccf-988e-ffcb8bd3fd44</td>\n      <td>1</td>\n      <td>2</td>\n      <td>3</td>\n      <td>[0.6666666666666667, 0.6764705882352942, 0.686...</td>\n      <td>2</td>\n      <td>[0.4102108204216408, 0.41478282956565904, 0.41...</td>\n      <td>0.548840</td>\n      <td>0.375301</td>\n      <td>0.616667</td>\n      <td>...</td>\n      <td>1.570796</td>\n      <td>-0.211797</td>\n      <td>0.353201</td>\n      <td>0.999400</td>\n      <td>0.999865</td>\n      <td>-0.762573</td>\n      <td>-0.004355</td>\n      <td>-0.131812</td>\n      <td>0.068433</td>\n      <td>-0.489473</td>\n    </tr>\n  </tbody>\n</table>\n<p>19632 rows × 83 columns</p>\n</div>"
     },
     "execution_count": 18,
     "metadata": {},
     "output_type": "execute_result"
    }
   ],
   "source": [
    "sensor_1 = prep_df['data_2_apm'].apply(pd.Series)\n",
    "sensor_1.columns = [f'data_2_amp_{i}' for i in range(sensor_1.shape[1])]\n",
    "sensor_2 = prep_df['data_2_phase'].apply(pd.Series)\n",
    "sensor_2.columns = [f'data_2_phase_{i}' for i in range(sensor_2.shape[1])]\n",
    "\n",
    "sensor_3 = prep_df['data_apm'].apply(pd.Series)\n",
    "sensor_3.columns = [f'data_amp_{i}' for i in range(sensor_3.shape[1])]\n",
    "sensor_4 = prep_df['data_phase'].apply(pd.Series)\n",
    "sensor_4.columns = [f'data_phase_{i}' for i in range(sensor_4.shape[1])]\n",
    "\n",
    "sensor_df = pd.concat([prep_df, sensor_1, sensor_2, sensor_3, sensor_4], axis=1)\n",
    "sensor_df"
   ],
   "metadata": {
    "collapsed": false,
    "pycharm": {
     "name": "#%%\n"
    }
   }
  },
  {
   "cell_type": "markdown",
   "source": [
    "#### Метрики регрессии между сигналами вопросов в рамках группы и повторения"
   ],
   "metadata": {
    "collapsed": false,
    "pycharm": {
     "name": "#%% md\n"
    }
   }
  },
  {
   "cell_type": "code",
   "execution_count": 18,
   "outputs": [],
   "source": [],
   "metadata": {
    "collapsed": false,
    "pycharm": {
     "name": "#%%\n"
    }
   }
  },
  {
   "cell_type": "code",
   "execution_count": 19,
   "outputs": [
    {
     "name": "stdout",
     "output_type": "stream",
     "text": [
      "exception\n",
      "exception\n",
      "exception\n",
      "exception\n",
      "exception\n",
      "exception\n",
      "exception\n",
      "exception\n",
      "exception\n",
      "exception\n",
      "exception\n",
      "exception\n",
      "exception\n",
      "exception\n",
      "exception\n",
      "exception\n",
      "exception\n",
      "exception\n",
      "exception\n",
      "exception\n",
      "exception\n",
      "exception\n",
      "exception\n",
      "exception\n",
      "exception\n",
      "exception\n",
      "exception\n",
      "exception\n",
      "exception\n",
      "exception\n",
      "exception\n",
      "exception\n",
      "exception\n",
      "exception\n",
      "exception\n",
      "exception\n",
      "exception\n",
      "exception\n",
      "exception\n",
      "exception\n",
      "exception\n",
      "exception\n",
      "exception\n",
      "exception\n",
      "exception\n",
      "exception\n",
      "exception\n",
      "exception\n",
      "exception\n",
      "exception\n",
      "exception\n"
     ]
    },
    {
     "name": "stderr",
     "output_type": "stream",
     "text": [
      "/Users/19623922/Desktop/timeseries_analysis/etl/lib/python3.8/site-packages/numpy/core/fromnumeric.py:3474: RuntimeWarning: Mean of empty slice.\n",
      "  return _methods._mean(a, axis=axis, dtype=dtype,\n",
      "/Users/19623922/Desktop/timeseries_analysis/etl/lib/python3.8/site-packages/numpy/core/_methods.py:189: RuntimeWarning: invalid value encountered in double_scalars\n",
      "  ret = ret.dtype.type(ret / rcount)\n"
     ]
    },
    {
     "name": "stdout",
     "output_type": "stream",
     "text": [
      "exception\n",
      "exception\n",
      "exception\n",
      "exception\n",
      "exception\n",
      "exception\n",
      "exception\n",
      "exception\n",
      "exception\n",
      "exception\n",
      "exception\n",
      "exception\n",
      "exception\n",
      "exception\n",
      "exception\n",
      "exception\n",
      "exception\n",
      "exception\n",
      "exception\n",
      "exception\n",
      "exception\n",
      "exception\n",
      "exception\n",
      "exception\n",
      "exception\n",
      "exception\n",
      "exception\n",
      "exception\n",
      "exception\n",
      "exception\n",
      "exception\n",
      "exception\n",
      "exception\n",
      "exception\n",
      "exception\n",
      "exception\n",
      "exception\n",
      "exception\n",
      "exception\n",
      "exception\n",
      "exception\n",
      "exception\n",
      "exception\n",
      "exception\n",
      "exception\n",
      "exception\n",
      "exception\n",
      "exception\n"
     ]
    },
    {
     "name": "stderr",
     "output_type": "stream",
     "text": [
      "/Users/19623922/Desktop/timeseries_analysis/etl/lib/python3.8/site-packages/numpy/core/fromnumeric.py:3474: RuntimeWarning: Mean of empty slice.\n",
      "  return _methods._mean(a, axis=axis, dtype=dtype,\n",
      "/Users/19623922/Desktop/timeseries_analysis/etl/lib/python3.8/site-packages/numpy/core/_methods.py:189: RuntimeWarning: invalid value encountered in double_scalars\n",
      "  ret = ret.dtype.type(ret / rcount)\n"
     ]
    },
    {
     "name": "stdout",
     "output_type": "stream",
     "text": [
      "exception\n",
      "exception\n",
      "exception\n",
      "exception\n",
      "exception\n",
      "exception\n",
      "exception\n",
      "exception\n",
      "exception\n",
      "exception\n",
      "exception\n",
      "exception\n",
      "exception\n",
      "exception\n",
      "exception\n",
      "exception\n",
      "exception\n",
      "exception\n",
      "exception\n",
      "exception\n",
      "exception\n",
      "exception\n",
      "exception\n",
      "exception\n",
      "exception\n",
      "exception\n",
      "exception\n",
      "exception\n",
      "exception\n",
      "exception\n",
      "exception\n",
      "exception\n",
      "exception\n",
      "exception\n",
      "exception\n",
      "exception\n",
      "exception\n",
      "exception\n",
      "exception\n",
      "exception\n",
      "exception\n",
      "exception\n",
      "exception\n",
      "exception\n",
      "exception\n",
      "exception\n",
      "exception\n",
      "exception\n",
      "exception\n",
      "exception\n",
      "exception\n",
      "exception\n",
      "exception\n",
      "exception\n",
      "exception\n",
      "exception\n",
      "exception\n",
      "exception\n",
      "exception\n",
      "exception\n",
      "exception\n",
      "exception\n",
      "exception\n",
      "exception\n",
      "exception\n",
      "exception\n",
      "exception\n"
     ]
    },
    {
     "name": "stderr",
     "output_type": "stream",
     "text": [
      "/Users/19623922/Desktop/timeseries_analysis/etl/lib/python3.8/site-packages/numpy/core/fromnumeric.py:3474: RuntimeWarning: Mean of empty slice.\n",
      "  return _methods._mean(a, axis=axis, dtype=dtype,\n",
      "/Users/19623922/Desktop/timeseries_analysis/etl/lib/python3.8/site-packages/numpy/core/_methods.py:189: RuntimeWarning: invalid value encountered in double_scalars\n",
      "  ret = ret.dtype.type(ret / rcount)\n"
     ]
    },
    {
     "name": "stdout",
     "output_type": "stream",
     "text": [
      "exception\n",
      "exception\n",
      "exception\n",
      "exception\n",
      "exception\n",
      "exception\n",
      "exception\n",
      "exception\n",
      "exception\n",
      "exception\n",
      "exception\n",
      "exception\n",
      "exception\n",
      "exception\n",
      "exception\n",
      "exception\n",
      "exception\n",
      "exception\n",
      "exception\n",
      "exception\n",
      "exception\n",
      "exception\n",
      "exception\n",
      "exception\n",
      "exception\n",
      "exception\n",
      "exception\n",
      "exception\n",
      "exception\n",
      "exception\n",
      "exception\n",
      "exception\n",
      "exception\n",
      "exception\n",
      "exception\n",
      "exception\n",
      "exception\n",
      "exception\n",
      "exception\n",
      "exception\n",
      "exception\n",
      "exception\n",
      "exception\n",
      "exception\n",
      "exception\n",
      "exception\n",
      "exception\n",
      "exception\n",
      "exception\n",
      "exception\n",
      "exception\n",
      "exception\n",
      "exception\n",
      "exception\n",
      "exception\n",
      "exception\n",
      "exception\n",
      "exception\n",
      "exception\n",
      "exception\n",
      "exception\n",
      "exception\n",
      "exception\n",
      "exception\n",
      "exception\n",
      "exception\n",
      "exception\n",
      "exception\n",
      "exception\n",
      "exception\n",
      "exception\n",
      "exception\n",
      "exception\n",
      "exception\n",
      "exception\n",
      "exception\n",
      "exception\n",
      "exception\n",
      "exception\n",
      "exception\n",
      "exception\n",
      "exception\n",
      "exception\n",
      "exception\n",
      "exception\n",
      "exception\n",
      "exception\n",
      "exception\n",
      "exception\n",
      "exception\n",
      "exception\n",
      "exception\n",
      "exception\n",
      "exception\n",
      "exception\n",
      "exception\n",
      "exception\n",
      "exception\n",
      "exception\n"
     ]
    },
    {
     "name": "stderr",
     "output_type": "stream",
     "text": [
      "/Users/19623922/Desktop/timeseries_analysis/etl/lib/python3.8/site-packages/numpy/core/fromnumeric.py:3474: RuntimeWarning: Mean of empty slice.\n",
      "  return _methods._mean(a, axis=axis, dtype=dtype,\n",
      "/Users/19623922/Desktop/timeseries_analysis/etl/lib/python3.8/site-packages/numpy/core/_methods.py:189: RuntimeWarning: invalid value encountered in double_scalars\n",
      "  ret = ret.dtype.type(ret / rcount)\n",
      "/Users/19623922/Desktop/timeseries_analysis/etl/lib/python3.8/site-packages/numpy/core/fromnumeric.py:3474: RuntimeWarning: Mean of empty slice.\n",
      "  return _methods._mean(a, axis=axis, dtype=dtype,\n",
      "/Users/19623922/Desktop/timeseries_analysis/etl/lib/python3.8/site-packages/numpy/core/_methods.py:189: RuntimeWarning: invalid value encountered in double_scalars\n",
      "  ret = ret.dtype.type(ret / rcount)\n",
      "/Users/19623922/Desktop/timeseries_analysis/etl/lib/python3.8/site-packages/numpy/core/fromnumeric.py:3474: RuntimeWarning: Mean of empty slice.\n",
      "  return _methods._mean(a, axis=axis, dtype=dtype,\n",
      "/Users/19623922/Desktop/timeseries_analysis/etl/lib/python3.8/site-packages/numpy/core/_methods.py:189: RuntimeWarning: invalid value encountered in double_scalars\n",
      "  ret = ret.dtype.type(ret / rcount)\n",
      "/Users/19623922/Desktop/timeseries_analysis/etl/lib/python3.8/site-packages/numpy/core/fromnumeric.py:3474: RuntimeWarning: Mean of empty slice.\n",
      "  return _methods._mean(a, axis=axis, dtype=dtype,\n",
      "/Users/19623922/Desktop/timeseries_analysis/etl/lib/python3.8/site-packages/numpy/core/_methods.py:189: RuntimeWarning: invalid value encountered in double_scalars\n",
      "  ret = ret.dtype.type(ret / rcount)\n",
      "/Users/19623922/Desktop/timeseries_analysis/etl/lib/python3.8/site-packages/numpy/core/fromnumeric.py:3474: RuntimeWarning: Mean of empty slice.\n",
      "  return _methods._mean(a, axis=axis, dtype=dtype,\n",
      "/Users/19623922/Desktop/timeseries_analysis/etl/lib/python3.8/site-packages/numpy/core/_methods.py:189: RuntimeWarning: invalid value encountered in double_scalars\n",
      "  ret = ret.dtype.type(ret / rcount)\n",
      "/Users/19623922/Desktop/timeseries_analysis/etl/lib/python3.8/site-packages/numpy/core/fromnumeric.py:3474: RuntimeWarning: Mean of empty slice.\n",
      "  return _methods._mean(a, axis=axis, dtype=dtype,\n",
      "/Users/19623922/Desktop/timeseries_analysis/etl/lib/python3.8/site-packages/numpy/core/_methods.py:189: RuntimeWarning: invalid value encountered in double_scalars\n",
      "  ret = ret.dtype.type(ret / rcount)\n",
      "/Users/19623922/Desktop/timeseries_analysis/etl/lib/python3.8/site-packages/numpy/core/fromnumeric.py:3474: RuntimeWarning: Mean of empty slice.\n",
      "  return _methods._mean(a, axis=axis, dtype=dtype,\n",
      "/Users/19623922/Desktop/timeseries_analysis/etl/lib/python3.8/site-packages/numpy/core/_methods.py:189: RuntimeWarning: invalid value encountered in double_scalars\n",
      "  ret = ret.dtype.type(ret / rcount)\n",
      "/Users/19623922/Desktop/timeseries_analysis/etl/lib/python3.8/site-packages/numpy/core/fromnumeric.py:3474: RuntimeWarning: Mean of empty slice.\n",
      "  return _methods._mean(a, axis=axis, dtype=dtype,\n",
      "/Users/19623922/Desktop/timeseries_analysis/etl/lib/python3.8/site-packages/numpy/core/_methods.py:189: RuntimeWarning: invalid value encountered in double_scalars\n",
      "  ret = ret.dtype.type(ret / rcount)\n"
     ]
    }
   ],
   "source": [
    "for i in sensor_df.Test_index.unique():\n",
    "    test_idx = sensor_df[sensor_df['Test_index'] == i]\n",
    "    for j in test_idx.Presentation.unique():\n",
    "        pred_idx = test_idx[test_idx['Presentation'] == j]\n",
    "        for k in pred_idx.Question.unique():\n",
    "            que_idx = pred_idx[pred_idx['Question'] == k]\n",
    "            idxs = que_idx.index\n",
    "            r_val, mae_val, mse_val = [], [], []\n",
    "            for id, val in enumerate(idxs):\n",
    "                try:\n",
    "                    value_1 = que_idx.loc[idxs[id], 'Data']\n",
    "                    value_2 = que_idx.loc[idxs[id+1], 'Data']\n",
    "                    r = r2_score(value_1, value_2)\n",
    "                    mae = mean_absolute_error(value_1, value_2)\n",
    "                    mse =mean_squared_error(value_1, value_2)\n",
    "\n",
    "                    r_val.append(r)\n",
    "                    mae_val.append(mae)\n",
    "                    mse_val.append(mse)\n",
    "                except:\n",
    "                    print('exception')\n",
    "            r_ds = np.mean(r_val)\n",
    "            mae_ds = np.mean(mae_val)\n",
    "            mse_ds = np.mean(mse_val)\n",
    "\n",
    "            sensor_df.loc[idxs, 'r_ds'] = r_ds\n",
    "            sensor_df.loc[idxs, 'mae_ds'] = mae_ds\n",
    "            sensor_df.loc[idxs, 'mse_ds'] = mse_ds"
   ],
   "metadata": {
    "collapsed": false,
    "pycharm": {
     "name": "#%%\n"
    }
   }
  },
  {
   "cell_type": "code",
   "execution_count": 20,
   "outputs": [
    {
     "name": "stderr",
     "output_type": "stream",
     "text": [
      "/var/folders/ty/77p5n8px0p3cs74k93m4jjxxbrwyrp/T/ipykernel_8575/2545948557.py:1: FutureWarning: Indexing with multiple keys (implicitly converted to a tuple of keys) will be deprecated, use a list instead.\n",
      "  metric_df = sensor_df.groupby(['Test_index', 'Presentation', 'Question'])['r_ds', 'mae_ds', 'mse_ds'].mean().reset_index()\n"
     ]
    },
    {
     "data": {
      "text/plain": "    Test_index Presentation Question          r_ds    mae_ds    mse_ds\n0            0            1        0 -27990.029529  0.224658  0.098051\n1            0            1        1   -540.406525  0.280293  0.196137\n2            0            1        2   -698.764737  0.235357  0.103798\n3            0            1        3  -2339.959864  0.274251  0.199734\n4            0            1        4  -1630.101608  0.226655  0.096657\n..         ...          ...      ...           ...       ...       ...\n387          6            4        9           NaN       NaN       NaN\n388          6            4       10           NaN       NaN       NaN\n389          6            4       11           NaN       NaN       NaN\n390          6            4       12           NaN       NaN       NaN\n391          6            4       13           NaN       NaN       NaN\n\n[392 rows x 6 columns]",
      "text/html": "<div>\n<style scoped>\n    .dataframe tbody tr th:only-of-type {\n        vertical-align: middle;\n    }\n\n    .dataframe tbody tr th {\n        vertical-align: top;\n    }\n\n    .dataframe thead th {\n        text-align: right;\n    }\n</style>\n<table border=\"1\" class=\"dataframe\">\n  <thead>\n    <tr style=\"text-align: right;\">\n      <th></th>\n      <th>Test_index</th>\n      <th>Presentation</th>\n      <th>Question</th>\n      <th>r_ds</th>\n      <th>mae_ds</th>\n      <th>mse_ds</th>\n    </tr>\n  </thead>\n  <tbody>\n    <tr>\n      <th>0</th>\n      <td>0</td>\n      <td>1</td>\n      <td>0</td>\n      <td>-27990.029529</td>\n      <td>0.224658</td>\n      <td>0.098051</td>\n    </tr>\n    <tr>\n      <th>1</th>\n      <td>0</td>\n      <td>1</td>\n      <td>1</td>\n      <td>-540.406525</td>\n      <td>0.280293</td>\n      <td>0.196137</td>\n    </tr>\n    <tr>\n      <th>2</th>\n      <td>0</td>\n      <td>1</td>\n      <td>2</td>\n      <td>-698.764737</td>\n      <td>0.235357</td>\n      <td>0.103798</td>\n    </tr>\n    <tr>\n      <th>3</th>\n      <td>0</td>\n      <td>1</td>\n      <td>3</td>\n      <td>-2339.959864</td>\n      <td>0.274251</td>\n      <td>0.199734</td>\n    </tr>\n    <tr>\n      <th>4</th>\n      <td>0</td>\n      <td>1</td>\n      <td>4</td>\n      <td>-1630.101608</td>\n      <td>0.226655</td>\n      <td>0.096657</td>\n    </tr>\n    <tr>\n      <th>...</th>\n      <td>...</td>\n      <td>...</td>\n      <td>...</td>\n      <td>...</td>\n      <td>...</td>\n      <td>...</td>\n    </tr>\n    <tr>\n      <th>387</th>\n      <td>6</td>\n      <td>4</td>\n      <td>9</td>\n      <td>NaN</td>\n      <td>NaN</td>\n      <td>NaN</td>\n    </tr>\n    <tr>\n      <th>388</th>\n      <td>6</td>\n      <td>4</td>\n      <td>10</td>\n      <td>NaN</td>\n      <td>NaN</td>\n      <td>NaN</td>\n    </tr>\n    <tr>\n      <th>389</th>\n      <td>6</td>\n      <td>4</td>\n      <td>11</td>\n      <td>NaN</td>\n      <td>NaN</td>\n      <td>NaN</td>\n    </tr>\n    <tr>\n      <th>390</th>\n      <td>6</td>\n      <td>4</td>\n      <td>12</td>\n      <td>NaN</td>\n      <td>NaN</td>\n      <td>NaN</td>\n    </tr>\n    <tr>\n      <th>391</th>\n      <td>6</td>\n      <td>4</td>\n      <td>13</td>\n      <td>NaN</td>\n      <td>NaN</td>\n      <td>NaN</td>\n    </tr>\n  </tbody>\n</table>\n<p>392 rows × 6 columns</p>\n</div>"
     },
     "execution_count": 20,
     "metadata": {},
     "output_type": "execute_result"
    }
   ],
   "source": [
    "metric_df = sensor_df.groupby(['Test_index', 'Presentation', 'Question'])['r_ds', 'mae_ds', 'mse_ds'].mean().reset_index()\n",
    "sensor_df = sensor_df.drop(['r_ds', 'mae_ds', 'mse_ds'], axis=1)\n",
    "metric_df"
   ],
   "metadata": {
    "collapsed": false,
    "pycharm": {
     "name": "#%%\n"
    }
   }
  },
  {
   "cell_type": "code",
   "execution_count": 21,
   "outputs": [
    {
     "data": {
      "text/plain": "                                   Filename Test_index Presentation Question  \\\n0      6ffe4933-3202-451b-ae6b-fee85cafc829          2            3        7   \n1      8de3189c-8e95-43a2-b6d2-743f097a57fb          0            1        0   \n2      c74f5292-c8e8-4ef2-a963-7d035e5e3330          3            3        1   \n3      c856d82f-917e-461c-a91f-5298926b8b31          0            3        6   \n4      00b38188-82ee-4f1d-9661-485338815751          3            1        2   \n...                                     ...        ...          ...      ...   \n19627  576b54c6-5bc1-4ec0-aac3-3555bde64476          3            3        7   \n19628  0657f4ec-d8bd-4589-ac18-1e333388b405          2            1        2   \n19629  f53381e4-141b-4cdd-a12a-177796e0a44f          0            2        8   \n19630  373380a3-7e33-4213-ba1f-761ca348f6a8          3            2        7   \n19631  1dc4bd32-b6fc-4ccf-988e-ffcb8bd3fd44          1            2        3   \n\n                                                    Data  Class_label  \\\n0      [0.9248366013071896, 0.923202614379085, 0.6830...            1   \n1      [0.7622549019607844, 0.7426470588235294, 0.495...            0   \n2      [0.37990196078431376, 0.23774509803921567, 0.1...            2   \n3      [0.6764705882352942, 0.6552287581699346, 0.557...            1   \n4      [0.8161764705882353, 0.8267973856209151, 0.836...            2   \n...                                                  ...          ...   \n19627  [0.6650326797385621, 0.6699346405228759, 0.678...            2   \n19628  [0.6772875816993464, 0.690359477124183, 0.7066...            2   \n19629  [0.6911764705882353, 0.6977124183006537, 0.704...            0   \n19630  [0.7614379084967321, 0.7589869281045751, 0.784...            2   \n19631  [0.6666666666666667, 0.6764705882352942, 0.686...            2   \n\n                                                  Data_2  Data_q_0.01  \\\n0      [0.2844805689611379, 0.24384048768097533, 0.40...     0.037712   \n1      [0.6443992887985776, 0.6431292862585725, 0.649...     0.197353   \n2      [0.5844551689103378, 0.6304292608585216, 0.656...     0.059992   \n3      [0.5181610363220726, 0.5527051054102108, 0.716...     0.357026   \n4      [0.334264668529337, 0.3370586741173482, 0.3398...     0.452574   \n...                                                  ...          ...   \n19627  [0.365760731521463, 0.3721107442214884, 0.3815...     0.602761   \n19628  [0.45694691389382774, 0.4658369316738633, 0.47...     0.558962   \n19629  [0.49555499110998213, 0.4963169926339852, 0.49...     0.391855   \n19630  [0.4660909321818643, 0.4660909321818643, 0.464...     0.415670   \n19631  [0.4102108204216408, 0.41478282956565904, 0.41...     0.548840   \n\n       Data2_q_0.01  Data_q_0.2  ...  data_phase_3  data_phase_4  \\\n0          0.031811    0.457680  ...      0.999994      0.793554   \n1          0.634592    0.413399  ...     -1.000000     -0.330987   \n2          0.301770    0.352288  ...      0.999695      0.499866   \n3          0.192098    0.473039  ...     -0.073549     -0.454601   \n4          0.251250    0.540850  ...     -0.138191      0.254776   \n...             ...         ...  ...           ...           ...   \n19627      0.311293    0.647876  ...     -0.996457     -0.232819   \n19628      0.427780    0.609641  ...     -0.156558     -0.162693   \n19629      0.451811    0.513562  ...     -0.740711      0.057873   \n19630      0.435839    0.588399  ...     -0.616876      0.002621   \n19631      0.375301    0.616667  ...      0.999400      0.999865   \n\n       data_phase_5  data_phase_6  data_phase_7  data_phase_8  data_phase_9  \\\n0          0.798608     -0.444473      0.134554     -0.706434      0.371564   \n1         -0.209090      0.138578      0.038119      0.301147     -0.214457   \n2          0.890899      1.000000      0.999073      0.999150      0.857068   \n3         -1.000000      0.600104     -0.445401     -0.065110     -0.308187   \n4          0.154226      0.027021      0.302386      0.427470      0.433071   \n...             ...           ...           ...           ...           ...   \n19627      0.995351     -0.902661      0.961824     -0.127067      0.441802   \n19628     -0.208636     -0.253019     -0.647351     -0.745118     -0.879291   \n19629     -0.323442      0.137349     -0.139383      0.223558     -0.557893   \n19630      0.887753      0.089401      0.846103     -0.201902      0.012930   \n19631     -0.762573     -0.004355     -0.131812      0.068433     -0.489473   \n\n               r_ds    mae_ds    mse_ds  \n0        -18.970710  0.320202  0.204812  \n1     -27990.029529  0.224658  0.098051  \n2      -4827.662916  0.238569  0.108735  \n3       -281.164591  0.309044  0.264171  \n4      -7325.993762  0.231426  0.098359  \n...             ...       ...       ...  \n19627  -4134.060183  0.272979  0.139393  \n19628  -3334.549232  0.239046  0.109863  \n19629   -171.994596  0.257350  0.125787  \n19630 -16544.801625  0.249614  0.122063  \n19631   -336.631007  0.261622  0.231231  \n\n[19632 rows x 86 columns]",
      "text/html": "<div>\n<style scoped>\n    .dataframe tbody tr th:only-of-type {\n        vertical-align: middle;\n    }\n\n    .dataframe tbody tr th {\n        vertical-align: top;\n    }\n\n    .dataframe thead th {\n        text-align: right;\n    }\n</style>\n<table border=\"1\" class=\"dataframe\">\n  <thead>\n    <tr style=\"text-align: right;\">\n      <th></th>\n      <th>Filename</th>\n      <th>Test_index</th>\n      <th>Presentation</th>\n      <th>Question</th>\n      <th>Data</th>\n      <th>Class_label</th>\n      <th>Data_2</th>\n      <th>Data_q_0.01</th>\n      <th>Data2_q_0.01</th>\n      <th>Data_q_0.2</th>\n      <th>...</th>\n      <th>data_phase_3</th>\n      <th>data_phase_4</th>\n      <th>data_phase_5</th>\n      <th>data_phase_6</th>\n      <th>data_phase_7</th>\n      <th>data_phase_8</th>\n      <th>data_phase_9</th>\n      <th>r_ds</th>\n      <th>mae_ds</th>\n      <th>mse_ds</th>\n    </tr>\n  </thead>\n  <tbody>\n    <tr>\n      <th>0</th>\n      <td>6ffe4933-3202-451b-ae6b-fee85cafc829</td>\n      <td>2</td>\n      <td>3</td>\n      <td>7</td>\n      <td>[0.9248366013071896, 0.923202614379085, 0.6830...</td>\n      <td>1</td>\n      <td>[0.2844805689611379, 0.24384048768097533, 0.40...</td>\n      <td>0.037712</td>\n      <td>0.031811</td>\n      <td>0.457680</td>\n      <td>...</td>\n      <td>0.999994</td>\n      <td>0.793554</td>\n      <td>0.798608</td>\n      <td>-0.444473</td>\n      <td>0.134554</td>\n      <td>-0.706434</td>\n      <td>0.371564</td>\n      <td>-18.970710</td>\n      <td>0.320202</td>\n      <td>0.204812</td>\n    </tr>\n    <tr>\n      <th>1</th>\n      <td>8de3189c-8e95-43a2-b6d2-743f097a57fb</td>\n      <td>0</td>\n      <td>1</td>\n      <td>0</td>\n      <td>[0.7622549019607844, 0.7426470588235294, 0.495...</td>\n      <td>0</td>\n      <td>[0.6443992887985776, 0.6431292862585725, 0.649...</td>\n      <td>0.197353</td>\n      <td>0.634592</td>\n      <td>0.413399</td>\n      <td>...</td>\n      <td>-1.000000</td>\n      <td>-0.330987</td>\n      <td>-0.209090</td>\n      <td>0.138578</td>\n      <td>0.038119</td>\n      <td>0.301147</td>\n      <td>-0.214457</td>\n      <td>-27990.029529</td>\n      <td>0.224658</td>\n      <td>0.098051</td>\n    </tr>\n    <tr>\n      <th>2</th>\n      <td>c74f5292-c8e8-4ef2-a963-7d035e5e3330</td>\n      <td>3</td>\n      <td>3</td>\n      <td>1</td>\n      <td>[0.37990196078431376, 0.23774509803921567, 0.1...</td>\n      <td>2</td>\n      <td>[0.5844551689103378, 0.6304292608585216, 0.656...</td>\n      <td>0.059992</td>\n      <td>0.301770</td>\n      <td>0.352288</td>\n      <td>...</td>\n      <td>0.999695</td>\n      <td>0.499866</td>\n      <td>0.890899</td>\n      <td>1.000000</td>\n      <td>0.999073</td>\n      <td>0.999150</td>\n      <td>0.857068</td>\n      <td>-4827.662916</td>\n      <td>0.238569</td>\n      <td>0.108735</td>\n    </tr>\n    <tr>\n      <th>3</th>\n      <td>c856d82f-917e-461c-a91f-5298926b8b31</td>\n      <td>0</td>\n      <td>3</td>\n      <td>6</td>\n      <td>[0.6764705882352942, 0.6552287581699346, 0.557...</td>\n      <td>1</td>\n      <td>[0.5181610363220726, 0.5527051054102108, 0.716...</td>\n      <td>0.357026</td>\n      <td>0.192098</td>\n      <td>0.473039</td>\n      <td>...</td>\n      <td>-0.073549</td>\n      <td>-0.454601</td>\n      <td>-1.000000</td>\n      <td>0.600104</td>\n      <td>-0.445401</td>\n      <td>-0.065110</td>\n      <td>-0.308187</td>\n      <td>-281.164591</td>\n      <td>0.309044</td>\n      <td>0.264171</td>\n    </tr>\n    <tr>\n      <th>4</th>\n      <td>00b38188-82ee-4f1d-9661-485338815751</td>\n      <td>3</td>\n      <td>1</td>\n      <td>2</td>\n      <td>[0.8161764705882353, 0.8267973856209151, 0.836...</td>\n      <td>2</td>\n      <td>[0.334264668529337, 0.3370586741173482, 0.3398...</td>\n      <td>0.452574</td>\n      <td>0.251250</td>\n      <td>0.540850</td>\n      <td>...</td>\n      <td>-0.138191</td>\n      <td>0.254776</td>\n      <td>0.154226</td>\n      <td>0.027021</td>\n      <td>0.302386</td>\n      <td>0.427470</td>\n      <td>0.433071</td>\n      <td>-7325.993762</td>\n      <td>0.231426</td>\n      <td>0.098359</td>\n    </tr>\n    <tr>\n      <th>...</th>\n      <td>...</td>\n      <td>...</td>\n      <td>...</td>\n      <td>...</td>\n      <td>...</td>\n      <td>...</td>\n      <td>...</td>\n      <td>...</td>\n      <td>...</td>\n      <td>...</td>\n      <td>...</td>\n      <td>...</td>\n      <td>...</td>\n      <td>...</td>\n      <td>...</td>\n      <td>...</td>\n      <td>...</td>\n      <td>...</td>\n      <td>...</td>\n      <td>...</td>\n      <td>...</td>\n    </tr>\n    <tr>\n      <th>19627</th>\n      <td>576b54c6-5bc1-4ec0-aac3-3555bde64476</td>\n      <td>3</td>\n      <td>3</td>\n      <td>7</td>\n      <td>[0.6650326797385621, 0.6699346405228759, 0.678...</td>\n      <td>2</td>\n      <td>[0.365760731521463, 0.3721107442214884, 0.3815...</td>\n      <td>0.602761</td>\n      <td>0.311293</td>\n      <td>0.647876</td>\n      <td>...</td>\n      <td>-0.996457</td>\n      <td>-0.232819</td>\n      <td>0.995351</td>\n      <td>-0.902661</td>\n      <td>0.961824</td>\n      <td>-0.127067</td>\n      <td>0.441802</td>\n      <td>-4134.060183</td>\n      <td>0.272979</td>\n      <td>0.139393</td>\n    </tr>\n    <tr>\n      <th>19628</th>\n      <td>0657f4ec-d8bd-4589-ac18-1e333388b405</td>\n      <td>2</td>\n      <td>1</td>\n      <td>2</td>\n      <td>[0.6772875816993464, 0.690359477124183, 0.7066...</td>\n      <td>2</td>\n      <td>[0.45694691389382774, 0.4658369316738633, 0.47...</td>\n      <td>0.558962</td>\n      <td>0.427780</td>\n      <td>0.609641</td>\n      <td>...</td>\n      <td>-0.156558</td>\n      <td>-0.162693</td>\n      <td>-0.208636</td>\n      <td>-0.253019</td>\n      <td>-0.647351</td>\n      <td>-0.745118</td>\n      <td>-0.879291</td>\n      <td>-3334.549232</td>\n      <td>0.239046</td>\n      <td>0.109863</td>\n    </tr>\n    <tr>\n      <th>19629</th>\n      <td>f53381e4-141b-4cdd-a12a-177796e0a44f</td>\n      <td>0</td>\n      <td>2</td>\n      <td>8</td>\n      <td>[0.6911764705882353, 0.6977124183006537, 0.704...</td>\n      <td>0</td>\n      <td>[0.49555499110998213, 0.4963169926339852, 0.49...</td>\n      <td>0.391855</td>\n      <td>0.451811</td>\n      <td>0.513562</td>\n      <td>...</td>\n      <td>-0.740711</td>\n      <td>0.057873</td>\n      <td>-0.323442</td>\n      <td>0.137349</td>\n      <td>-0.139383</td>\n      <td>0.223558</td>\n      <td>-0.557893</td>\n      <td>-171.994596</td>\n      <td>0.257350</td>\n      <td>0.125787</td>\n    </tr>\n    <tr>\n      <th>19630</th>\n      <td>373380a3-7e33-4213-ba1f-761ca348f6a8</td>\n      <td>3</td>\n      <td>2</td>\n      <td>7</td>\n      <td>[0.7614379084967321, 0.7589869281045751, 0.784...</td>\n      <td>2</td>\n      <td>[0.4660909321818643, 0.4660909321818643, 0.464...</td>\n      <td>0.415670</td>\n      <td>0.435839</td>\n      <td>0.588399</td>\n      <td>...</td>\n      <td>-0.616876</td>\n      <td>0.002621</td>\n      <td>0.887753</td>\n      <td>0.089401</td>\n      <td>0.846103</td>\n      <td>-0.201902</td>\n      <td>0.012930</td>\n      <td>-16544.801625</td>\n      <td>0.249614</td>\n      <td>0.122063</td>\n    </tr>\n    <tr>\n      <th>19631</th>\n      <td>1dc4bd32-b6fc-4ccf-988e-ffcb8bd3fd44</td>\n      <td>1</td>\n      <td>2</td>\n      <td>3</td>\n      <td>[0.6666666666666667, 0.6764705882352942, 0.686...</td>\n      <td>2</td>\n      <td>[0.4102108204216408, 0.41478282956565904, 0.41...</td>\n      <td>0.548840</td>\n      <td>0.375301</td>\n      <td>0.616667</td>\n      <td>...</td>\n      <td>0.999400</td>\n      <td>0.999865</td>\n      <td>-0.762573</td>\n      <td>-0.004355</td>\n      <td>-0.131812</td>\n      <td>0.068433</td>\n      <td>-0.489473</td>\n      <td>-336.631007</td>\n      <td>0.261622</td>\n      <td>0.231231</td>\n    </tr>\n  </tbody>\n</table>\n<p>19632 rows × 86 columns</p>\n</div>"
     },
     "execution_count": 21,
     "metadata": {},
     "output_type": "execute_result"
    }
   ],
   "source": [
    "sensor_df = sensor_df.merge(metric_df, left_on = ['Test_index', 'Presentation', 'Question'],\n",
    "                            right_on = ['Test_index', 'Presentation', 'Question'],\n",
    "                            how='left')\n",
    "sensor_df"
   ],
   "metadata": {
    "collapsed": false,
    "pycharm": {
     "name": "#%%\n"
    }
   }
  },
  {
   "cell_type": "code",
   "execution_count": 21,
   "outputs": [],
   "source": [],
   "metadata": {
    "collapsed": false,
    "pycharm": {
     "name": "#%%\n"
    }
   }
  },
  {
   "cell_type": "code",
   "execution_count": 22,
   "outputs": [
    {
     "data": {
      "text/plain": "      Test_index Presentation Question  Data_q_0.01  Data2_q_0.01  Data_q_0.2  \\\n0              2            3        7     0.037712      0.031811    0.457680   \n1              0            1        0     0.197353      0.634592    0.413399   \n2              3            3        1     0.059992      0.301770    0.352288   \n3              0            3        6     0.357026      0.192098    0.473039   \n4              3            1        2     0.452574      0.251250    0.540850   \n...          ...          ...      ...          ...           ...         ...   \n19627          3            3        7     0.602761      0.311293    0.647876   \n19628          2            1        2     0.558962      0.427780    0.609641   \n19629          0            2        8     0.391855      0.451811    0.513562   \n19630          3            2        7     0.415670      0.435839    0.588399   \n19631          1            2        3     0.548840      0.375301    0.616667   \n\n       Data2_q_0.2  Data_q_0.25  Data2_q_0.25  Data_q_0.3  ...  data_phase_3  \\\n0         0.268783     0.515523      0.317564    0.555392  ...      0.999994   \n1         0.645618     0.441176      0.647447    0.471977  ...     -1.000000   \n2         0.360986     0.426879      0.371095    0.478350  ...      0.999695   \n3         0.487071     0.489788      0.517717    0.509559  ...     -0.073549   \n4         0.274778     0.562092      0.280861    0.580392  ...     -0.138191   \n...            ...          ...           ...         ...  ...           ...   \n19627     0.351892     0.651961      0.357188    0.660131  ...     -0.996457   \n19628     0.457150     0.622549      0.463424    0.634559  ...     -0.156558   \n19629     0.470612     0.545139      0.476759    0.566993  ...     -0.740711   \n19630     0.470206     0.615605      0.475489    0.627533  ...     -0.616876   \n19631     0.399746     0.627451      0.405131    0.636438  ...      0.999400   \n\n       data_phase_4  data_phase_5  data_phase_6  data_phase_7  data_phase_8  \\\n0          0.793554      0.798608     -0.444473      0.134554     -0.706434   \n1         -0.330987     -0.209090      0.138578      0.038119      0.301147   \n2          0.499866      0.890899      1.000000      0.999073      0.999150   \n3         -0.454601     -1.000000      0.600104     -0.445401     -0.065110   \n4          0.254776      0.154226      0.027021      0.302386      0.427470   \n...             ...           ...           ...           ...           ...   \n19627     -0.232819      0.995351     -0.902661      0.961824     -0.127067   \n19628     -0.162693     -0.208636     -0.253019     -0.647351     -0.745118   \n19629      0.057873     -0.323442      0.137349     -0.139383      0.223558   \n19630      0.002621      0.887753      0.089401      0.846103     -0.201902   \n19631      0.999865     -0.762573     -0.004355     -0.131812      0.068433   \n\n       data_phase_9          r_ds    mae_ds    mse_ds  \n0          0.371564    -18.970710  0.320202  0.204812  \n1         -0.214457 -27990.029529  0.224658  0.098051  \n2          0.857068  -4827.662916  0.238569  0.108735  \n3         -0.308187   -281.164591  0.309044  0.264171  \n4          0.433071  -7325.993762  0.231426  0.098359  \n...             ...           ...       ...       ...  \n19627      0.441802  -4134.060183  0.272979  0.139393  \n19628     -0.879291  -3334.549232  0.239046  0.109863  \n19629     -0.557893   -171.994596  0.257350  0.125787  \n19630      0.012930 -16544.801625  0.249614  0.122063  \n19631     -0.489473   -336.631007  0.261622  0.231231  \n\n[19632 rows x 78 columns]",
      "text/html": "<div>\n<style scoped>\n    .dataframe tbody tr th:only-of-type {\n        vertical-align: middle;\n    }\n\n    .dataframe tbody tr th {\n        vertical-align: top;\n    }\n\n    .dataframe thead th {\n        text-align: right;\n    }\n</style>\n<table border=\"1\" class=\"dataframe\">\n  <thead>\n    <tr style=\"text-align: right;\">\n      <th></th>\n      <th>Test_index</th>\n      <th>Presentation</th>\n      <th>Question</th>\n      <th>Data_q_0.01</th>\n      <th>Data2_q_0.01</th>\n      <th>Data_q_0.2</th>\n      <th>Data2_q_0.2</th>\n      <th>Data_q_0.25</th>\n      <th>Data2_q_0.25</th>\n      <th>Data_q_0.3</th>\n      <th>...</th>\n      <th>data_phase_3</th>\n      <th>data_phase_4</th>\n      <th>data_phase_5</th>\n      <th>data_phase_6</th>\n      <th>data_phase_7</th>\n      <th>data_phase_8</th>\n      <th>data_phase_9</th>\n      <th>r_ds</th>\n      <th>mae_ds</th>\n      <th>mse_ds</th>\n    </tr>\n  </thead>\n  <tbody>\n    <tr>\n      <th>0</th>\n      <td>2</td>\n      <td>3</td>\n      <td>7</td>\n      <td>0.037712</td>\n      <td>0.031811</td>\n      <td>0.457680</td>\n      <td>0.268783</td>\n      <td>0.515523</td>\n      <td>0.317564</td>\n      <td>0.555392</td>\n      <td>...</td>\n      <td>0.999994</td>\n      <td>0.793554</td>\n      <td>0.798608</td>\n      <td>-0.444473</td>\n      <td>0.134554</td>\n      <td>-0.706434</td>\n      <td>0.371564</td>\n      <td>-18.970710</td>\n      <td>0.320202</td>\n      <td>0.204812</td>\n    </tr>\n    <tr>\n      <th>1</th>\n      <td>0</td>\n      <td>1</td>\n      <td>0</td>\n      <td>0.197353</td>\n      <td>0.634592</td>\n      <td>0.413399</td>\n      <td>0.645618</td>\n      <td>0.441176</td>\n      <td>0.647447</td>\n      <td>0.471977</td>\n      <td>...</td>\n      <td>-1.000000</td>\n      <td>-0.330987</td>\n      <td>-0.209090</td>\n      <td>0.138578</td>\n      <td>0.038119</td>\n      <td>0.301147</td>\n      <td>-0.214457</td>\n      <td>-27990.029529</td>\n      <td>0.224658</td>\n      <td>0.098051</td>\n    </tr>\n    <tr>\n      <th>2</th>\n      <td>3</td>\n      <td>3</td>\n      <td>1</td>\n      <td>0.059992</td>\n      <td>0.301770</td>\n      <td>0.352288</td>\n      <td>0.360986</td>\n      <td>0.426879</td>\n      <td>0.371095</td>\n      <td>0.478350</td>\n      <td>...</td>\n      <td>0.999695</td>\n      <td>0.499866</td>\n      <td>0.890899</td>\n      <td>1.000000</td>\n      <td>0.999073</td>\n      <td>0.999150</td>\n      <td>0.857068</td>\n      <td>-4827.662916</td>\n      <td>0.238569</td>\n      <td>0.108735</td>\n    </tr>\n    <tr>\n      <th>3</th>\n      <td>0</td>\n      <td>3</td>\n      <td>6</td>\n      <td>0.357026</td>\n      <td>0.192098</td>\n      <td>0.473039</td>\n      <td>0.487071</td>\n      <td>0.489788</td>\n      <td>0.517717</td>\n      <td>0.509559</td>\n      <td>...</td>\n      <td>-0.073549</td>\n      <td>-0.454601</td>\n      <td>-1.000000</td>\n      <td>0.600104</td>\n      <td>-0.445401</td>\n      <td>-0.065110</td>\n      <td>-0.308187</td>\n      <td>-281.164591</td>\n      <td>0.309044</td>\n      <td>0.264171</td>\n    </tr>\n    <tr>\n      <th>4</th>\n      <td>3</td>\n      <td>1</td>\n      <td>2</td>\n      <td>0.452574</td>\n      <td>0.251250</td>\n      <td>0.540850</td>\n      <td>0.274778</td>\n      <td>0.562092</td>\n      <td>0.280861</td>\n      <td>0.580392</td>\n      <td>...</td>\n      <td>-0.138191</td>\n      <td>0.254776</td>\n      <td>0.154226</td>\n      <td>0.027021</td>\n      <td>0.302386</td>\n      <td>0.427470</td>\n      <td>0.433071</td>\n      <td>-7325.993762</td>\n      <td>0.231426</td>\n      <td>0.098359</td>\n    </tr>\n    <tr>\n      <th>...</th>\n      <td>...</td>\n      <td>...</td>\n      <td>...</td>\n      <td>...</td>\n      <td>...</td>\n      <td>...</td>\n      <td>...</td>\n      <td>...</td>\n      <td>...</td>\n      <td>...</td>\n      <td>...</td>\n      <td>...</td>\n      <td>...</td>\n      <td>...</td>\n      <td>...</td>\n      <td>...</td>\n      <td>...</td>\n      <td>...</td>\n      <td>...</td>\n      <td>...</td>\n      <td>...</td>\n    </tr>\n    <tr>\n      <th>19627</th>\n      <td>3</td>\n      <td>3</td>\n      <td>7</td>\n      <td>0.602761</td>\n      <td>0.311293</td>\n      <td>0.647876</td>\n      <td>0.351892</td>\n      <td>0.651961</td>\n      <td>0.357188</td>\n      <td>0.660131</td>\n      <td>...</td>\n      <td>-0.996457</td>\n      <td>-0.232819</td>\n      <td>0.995351</td>\n      <td>-0.902661</td>\n      <td>0.961824</td>\n      <td>-0.127067</td>\n      <td>0.441802</td>\n      <td>-4134.060183</td>\n      <td>0.272979</td>\n      <td>0.139393</td>\n    </tr>\n    <tr>\n      <th>19628</th>\n      <td>2</td>\n      <td>1</td>\n      <td>2</td>\n      <td>0.558962</td>\n      <td>0.427780</td>\n      <td>0.609641</td>\n      <td>0.457150</td>\n      <td>0.622549</td>\n      <td>0.463424</td>\n      <td>0.634559</td>\n      <td>...</td>\n      <td>-0.156558</td>\n      <td>-0.162693</td>\n      <td>-0.208636</td>\n      <td>-0.253019</td>\n      <td>-0.647351</td>\n      <td>-0.745118</td>\n      <td>-0.879291</td>\n      <td>-3334.549232</td>\n      <td>0.239046</td>\n      <td>0.109863</td>\n    </tr>\n    <tr>\n      <th>19629</th>\n      <td>0</td>\n      <td>2</td>\n      <td>8</td>\n      <td>0.391855</td>\n      <td>0.451811</td>\n      <td>0.513562</td>\n      <td>0.470612</td>\n      <td>0.545139</td>\n      <td>0.476759</td>\n      <td>0.566993</td>\n      <td>...</td>\n      <td>-0.740711</td>\n      <td>0.057873</td>\n      <td>-0.323442</td>\n      <td>0.137349</td>\n      <td>-0.139383</td>\n      <td>0.223558</td>\n      <td>-0.557893</td>\n      <td>-171.994596</td>\n      <td>0.257350</td>\n      <td>0.125787</td>\n    </tr>\n    <tr>\n      <th>19630</th>\n      <td>3</td>\n      <td>2</td>\n      <td>7</td>\n      <td>0.415670</td>\n      <td>0.435839</td>\n      <td>0.588399</td>\n      <td>0.470206</td>\n      <td>0.615605</td>\n      <td>0.475489</td>\n      <td>0.627533</td>\n      <td>...</td>\n      <td>-0.616876</td>\n      <td>0.002621</td>\n      <td>0.887753</td>\n      <td>0.089401</td>\n      <td>0.846103</td>\n      <td>-0.201902</td>\n      <td>0.012930</td>\n      <td>-16544.801625</td>\n      <td>0.249614</td>\n      <td>0.122063</td>\n    </tr>\n    <tr>\n      <th>19631</th>\n      <td>1</td>\n      <td>2</td>\n      <td>3</td>\n      <td>0.548840</td>\n      <td>0.375301</td>\n      <td>0.616667</td>\n      <td>0.399746</td>\n      <td>0.627451</td>\n      <td>0.405131</td>\n      <td>0.636438</td>\n      <td>...</td>\n      <td>0.999400</td>\n      <td>0.999865</td>\n      <td>-0.762573</td>\n      <td>-0.004355</td>\n      <td>-0.131812</td>\n      <td>0.068433</td>\n      <td>-0.489473</td>\n      <td>-336.631007</td>\n      <td>0.261622</td>\n      <td>0.231231</td>\n    </tr>\n  </tbody>\n</table>\n<p>19632 rows × 78 columns</p>\n</div>"
     },
     "execution_count": 22,
     "metadata": {},
     "output_type": "execute_result"
    }
   ],
   "source": [
    "target = sensor_df['Class_label']\n",
    "try_set = sensor_df.drop(['Class_label', 'Data_2', 'Data', 'Filename',\n",
    "                          'data_2_apm', 'data_2_phase', 'data_apm', 'data_phase'], axis=1)\n",
    "try_set"
   ],
   "metadata": {
    "collapsed": false,
    "pycharm": {
     "name": "#%%\n"
    }
   }
  },
  {
   "cell_type": "markdown",
   "source": [
    "Агрегации (не работают)"
   ],
   "metadata": {
    "collapsed": false,
    "pycharm": {
     "name": "#%% md\n"
    }
   }
  },
  {
   "cell_type": "code",
   "execution_count": 23,
   "outputs": [],
   "source": [
    "# for i in range(10):\n",
    "#     max_amp_task = try_set.groupby(by=['Test_index'])[f'data_amp_{i}'].max().reset_index()\n",
    "#     max_amp_task = max_amp_task.rename(columns={f'data_amp_{i}' : f'data_max_amp_{i}_mean'})\n",
    "#     min_amp_task = try_set.groupby(by=['Test_index'])[f'data_amp_{i}'].max().reset_index()\n",
    "#     min_amp_task = min_amp_task.rename(columns={f'data_amp_{i}' : f'data_min_amp_{i}_mean'})\n",
    "#     try_set = try_set.merge(max_amp_task, on='Test_index', how='left')\n",
    "#     try_set = try_set.merge(min_amp_task, on='Test_index', how='left')\n",
    "#\n",
    "#     max_phase_task = try_set.groupby(by=['Test_index'])[f'data_phase_{i}'].max().reset_index()\n",
    "#     max_phase_task = max_phase_task.rename(columns={f'data_phase_{i}' : f'data_max_phase_{i}_mean'})\n",
    "#     min_phase_task = try_set.groupby(by=['Test_index'])[f'data_phase_{i}'].max().reset_index()\n",
    "#     min_phase_task = min_phase_task.rename(columns={f'data_phase_{i}' : f'data_min_phase_{i}_mean'})\n",
    "#     try_set = try_set.merge(max_phase_task, on='Test_index', how='left')\n",
    "#     try_set = try_set.merge(min_phase_task, on='Test_index', how='left')"
   ],
   "metadata": {
    "collapsed": false,
    "pycharm": {
     "name": "#%%\n"
    }
   }
  },
  {
   "cell_type": "code",
   "execution_count": 23,
   "outputs": [],
   "source": [],
   "metadata": {
    "collapsed": false,
    "pycharm": {
     "name": "#%%\n"
    }
   }
  },
  {
   "cell_type": "code",
   "execution_count": 23,
   "outputs": [],
   "source": [],
   "metadata": {
    "collapsed": false,
    "pycharm": {
     "name": "#%%\n"
    }
   }
  },
  {
   "cell_type": "code",
   "execution_count": 23,
   "outputs": [],
   "source": [],
   "metadata": {
    "collapsed": false,
    "pycharm": {
     "name": "#%%\n"
    }
   }
  },
  {
   "cell_type": "code",
   "execution_count": 23,
   "outputs": [],
   "source": [],
   "metadata": {
    "collapsed": false,
    "pycharm": {
     "name": "#%%\n"
    }
   }
  },
  {
   "cell_type": "code",
   "execution_count": 23,
   "outputs": [],
   "source": [],
   "metadata": {
    "collapsed": false,
    "pycharm": {
     "name": "#%%\n"
    }
   }
  },
  {
   "cell_type": "markdown",
   "source": [
    "#### CTB"
   ],
   "metadata": {
    "collapsed": false
   }
  },
  {
   "cell_type": "code",
   "execution_count": 24,
   "outputs": [
    {
     "data": {
      "text/plain": "['Test_index', 'Presentation', 'Question']"
     },
     "execution_count": 24,
     "metadata": {},
     "output_type": "execute_result"
    }
   ],
   "source": [
    "cat_features = try_set.select_dtypes(include=['category']).columns.to_list()\n",
    "cat_features"
   ],
   "metadata": {
    "collapsed": false,
    "pycharm": {
     "name": "#%%\n"
    }
   }
  },
  {
   "cell_type": "code",
   "execution_count": 25,
   "outputs": [],
   "source": [
    "X_train, X_test, y_train, y_test = train_test_split(try_set, target, random_state=142, stratify=target, test_size=0.3)"
   ],
   "metadata": {
    "collapsed": false,
    "pycharm": {
     "name": "#%%\n"
    }
   }
  },
  {
   "cell_type": "code",
   "execution_count": 26,
   "outputs": [
    {
     "name": "stdout",
     "output_type": "stream",
     "text": [
      "Learning rate set to 0.090441\n",
      "0:\tlearn: 1.0965237\ttotal: 88ms\tremaining: 1m 27s\n",
      "1:\tlearn: 1.0946629\ttotal: 114ms\tremaining: 56.9s\n",
      "2:\tlearn: 1.0929850\ttotal: 138ms\tremaining: 45.8s\n",
      "3:\tlearn: 1.0913793\ttotal: 163ms\tremaining: 40.7s\n",
      "4:\tlearn: 1.0895451\ttotal: 186ms\tremaining: 37s\n",
      "5:\tlearn: 1.0882599\ttotal: 210ms\tremaining: 34.8s\n",
      "6:\tlearn: 1.0869542\ttotal: 232ms\tremaining: 32.9s\n",
      "7:\tlearn: 1.0858493\ttotal: 253ms\tremaining: 31.4s\n",
      "8:\tlearn: 1.0844832\ttotal: 274ms\tremaining: 30.2s\n",
      "9:\tlearn: 1.0836471\ttotal: 294ms\tremaining: 29.2s\n",
      "10:\tlearn: 1.0828843\ttotal: 313ms\tremaining: 28.2s\n",
      "11:\tlearn: 1.0817490\ttotal: 330ms\tremaining: 27.2s\n",
      "12:\tlearn: 1.0805831\ttotal: 348ms\tremaining: 26.4s\n",
      "13:\tlearn: 1.0796547\ttotal: 366ms\tremaining: 25.8s\n",
      "14:\tlearn: 1.0786694\ttotal: 384ms\tremaining: 25.2s\n",
      "15:\tlearn: 1.0778279\ttotal: 404ms\tremaining: 24.8s\n",
      "16:\tlearn: 1.0770566\ttotal: 423ms\tremaining: 24.5s\n",
      "17:\tlearn: 1.0764848\ttotal: 441ms\tremaining: 24.1s\n",
      "18:\tlearn: 1.0757593\ttotal: 461ms\tremaining: 23.8s\n",
      "19:\tlearn: 1.0745983\ttotal: 482ms\tremaining: 23.6s\n",
      "20:\tlearn: 1.0737372\ttotal: 503ms\tremaining: 23.4s\n",
      "21:\tlearn: 1.0729115\ttotal: 523ms\tremaining: 23.3s\n",
      "22:\tlearn: 1.0718087\ttotal: 545ms\tremaining: 23.2s\n",
      "23:\tlearn: 1.0709903\ttotal: 565ms\tremaining: 23s\n",
      "24:\tlearn: 1.0703134\ttotal: 586ms\tremaining: 22.9s\n",
      "25:\tlearn: 1.0695938\ttotal: 606ms\tremaining: 22.7s\n",
      "26:\tlearn: 1.0686390\ttotal: 626ms\tremaining: 22.6s\n",
      "27:\tlearn: 1.0682677\ttotal: 647ms\tremaining: 22.5s\n",
      "28:\tlearn: 1.0674059\ttotal: 668ms\tremaining: 22.4s\n",
      "29:\tlearn: 1.0666204\ttotal: 690ms\tremaining: 22.3s\n",
      "30:\tlearn: 1.0660347\ttotal: 715ms\tremaining: 22.3s\n",
      "31:\tlearn: 1.0659624\ttotal: 720ms\tremaining: 21.8s\n",
      "32:\tlearn: 1.0653001\ttotal: 740ms\tremaining: 21.7s\n",
      "33:\tlearn: 1.0647646\ttotal: 760ms\tremaining: 21.6s\n",
      "34:\tlearn: 1.0638839\ttotal: 780ms\tremaining: 21.5s\n",
      "35:\tlearn: 1.0631668\ttotal: 802ms\tremaining: 21.5s\n",
      "36:\tlearn: 1.0622561\ttotal: 822ms\tremaining: 21.4s\n",
      "37:\tlearn: 1.0612661\ttotal: 839ms\tremaining: 21.2s\n",
      "38:\tlearn: 1.0605187\ttotal: 862ms\tremaining: 21.2s\n",
      "39:\tlearn: 1.0597203\ttotal: 882ms\tremaining: 21.2s\n",
      "40:\tlearn: 1.0590477\ttotal: 906ms\tremaining: 21.2s\n",
      "41:\tlearn: 1.0585517\ttotal: 934ms\tremaining: 21.3s\n",
      "42:\tlearn: 1.0578333\ttotal: 956ms\tremaining: 21.3s\n",
      "43:\tlearn: 1.0567838\ttotal: 976ms\tremaining: 21.2s\n",
      "44:\tlearn: 1.0561672\ttotal: 996ms\tremaining: 21.1s\n",
      "45:\tlearn: 1.0556558\ttotal: 1.02s\tremaining: 21.1s\n",
      "46:\tlearn: 1.0551876\ttotal: 1.04s\tremaining: 21.1s\n",
      "47:\tlearn: 1.0545255\ttotal: 1.06s\tremaining: 21.1s\n",
      "48:\tlearn: 1.0540432\ttotal: 1.08s\tremaining: 21.1s\n",
      "49:\tlearn: 1.0535771\ttotal: 1.11s\tremaining: 21.1s\n",
      "50:\tlearn: 1.0531480\ttotal: 1.13s\tremaining: 21s\n",
      "51:\tlearn: 1.0524586\ttotal: 1.15s\tremaining: 21s\n",
      "52:\tlearn: 1.0519882\ttotal: 1.18s\tremaining: 21.1s\n",
      "53:\tlearn: 1.0516406\ttotal: 1.2s\tremaining: 21s\n",
      "54:\tlearn: 1.0509034\ttotal: 1.23s\tremaining: 21.1s\n",
      "55:\tlearn: 1.0501457\ttotal: 1.25s\tremaining: 21.1s\n",
      "56:\tlearn: 1.0492337\ttotal: 1.28s\tremaining: 21.3s\n",
      "57:\tlearn: 1.0484262\ttotal: 1.31s\tremaining: 21.3s\n",
      "58:\tlearn: 1.0477433\ttotal: 1.35s\tremaining: 21.5s\n",
      "59:\tlearn: 1.0472444\ttotal: 1.37s\tremaining: 21.5s\n",
      "60:\tlearn: 1.0465494\ttotal: 1.4s\tremaining: 21.6s\n",
      "61:\tlearn: 1.0459476\ttotal: 1.43s\tremaining: 21.6s\n",
      "62:\tlearn: 1.0454594\ttotal: 1.46s\tremaining: 21.7s\n",
      "63:\tlearn: 1.0451897\ttotal: 1.49s\tremaining: 21.8s\n",
      "64:\tlearn: 1.0448567\ttotal: 1.52s\tremaining: 21.9s\n",
      "65:\tlearn: 1.0446018\ttotal: 1.55s\tremaining: 21.9s\n",
      "66:\tlearn: 1.0439445\ttotal: 1.58s\tremaining: 22s\n",
      "67:\tlearn: 1.0434331\ttotal: 1.62s\tremaining: 22.2s\n",
      "68:\tlearn: 1.0425455\ttotal: 1.65s\tremaining: 22.2s\n",
      "69:\tlearn: 1.0418723\ttotal: 1.68s\tremaining: 22.3s\n",
      "70:\tlearn: 1.0413501\ttotal: 1.71s\tremaining: 22.4s\n",
      "71:\tlearn: 1.0406331\ttotal: 1.73s\tremaining: 22.4s\n",
      "72:\tlearn: 1.0401157\ttotal: 1.76s\tremaining: 22.3s\n",
      "73:\tlearn: 1.0392954\ttotal: 1.78s\tremaining: 22.2s\n",
      "74:\tlearn: 1.0386130\ttotal: 1.8s\tremaining: 22.2s\n",
      "75:\tlearn: 1.0377544\ttotal: 1.83s\tremaining: 22.2s\n",
      "76:\tlearn: 1.0369884\ttotal: 1.85s\tremaining: 22.2s\n",
      "77:\tlearn: 1.0364728\ttotal: 1.87s\tremaining: 22.1s\n",
      "78:\tlearn: 1.0361132\ttotal: 1.89s\tremaining: 22.1s\n",
      "79:\tlearn: 1.0356266\ttotal: 1.92s\tremaining: 22.1s\n",
      "80:\tlearn: 1.0353851\ttotal: 1.94s\tremaining: 22s\n",
      "81:\tlearn: 1.0347637\ttotal: 1.96s\tremaining: 22s\n",
      "82:\tlearn: 1.0342326\ttotal: 1.98s\tremaining: 21.9s\n",
      "83:\tlearn: 1.0335901\ttotal: 2.01s\tremaining: 21.9s\n",
      "84:\tlearn: 1.0327363\ttotal: 2.03s\tremaining: 21.8s\n",
      "85:\tlearn: 1.0321988\ttotal: 2.05s\tremaining: 21.8s\n",
      "86:\tlearn: 1.0316446\ttotal: 2.07s\tremaining: 21.8s\n",
      "87:\tlearn: 1.0310284\ttotal: 2.09s\tremaining: 21.7s\n",
      "88:\tlearn: 1.0304269\ttotal: 2.12s\tremaining: 21.7s\n",
      "89:\tlearn: 1.0296546\ttotal: 2.14s\tremaining: 21.7s\n",
      "90:\tlearn: 1.0291359\ttotal: 2.17s\tremaining: 21.6s\n",
      "91:\tlearn: 1.0285902\ttotal: 2.19s\tremaining: 21.6s\n",
      "92:\tlearn: 1.0277736\ttotal: 2.2s\tremaining: 21.5s\n",
      "93:\tlearn: 1.0270408\ttotal: 2.22s\tremaining: 21.4s\n",
      "94:\tlearn: 1.0264054\ttotal: 2.24s\tremaining: 21.4s\n",
      "95:\tlearn: 1.0255884\ttotal: 2.26s\tremaining: 21.3s\n",
      "96:\tlearn: 1.0248066\ttotal: 2.28s\tremaining: 21.3s\n",
      "97:\tlearn: 1.0243026\ttotal: 2.3s\tremaining: 21.2s\n",
      "98:\tlearn: 1.0238490\ttotal: 2.32s\tremaining: 21.2s\n",
      "99:\tlearn: 1.0229922\ttotal: 2.34s\tremaining: 21.1s\n",
      "100:\tlearn: 1.0224470\ttotal: 2.36s\tremaining: 21s\n",
      "101:\tlearn: 1.0219781\ttotal: 2.38s\tremaining: 21s\n",
      "102:\tlearn: 1.0217488\ttotal: 2.41s\tremaining: 21s\n",
      "103:\tlearn: 1.0213305\ttotal: 2.43s\tremaining: 20.9s\n",
      "104:\tlearn: 1.0207505\ttotal: 2.45s\tremaining: 20.9s\n",
      "105:\tlearn: 1.0203508\ttotal: 2.47s\tremaining: 20.8s\n",
      "106:\tlearn: 1.0196242\ttotal: 2.49s\tremaining: 20.8s\n",
      "107:\tlearn: 1.0188596\ttotal: 2.51s\tremaining: 20.7s\n",
      "108:\tlearn: 1.0181291\ttotal: 2.53s\tremaining: 20.7s\n",
      "109:\tlearn: 1.0177573\ttotal: 2.55s\tremaining: 20.6s\n",
      "110:\tlearn: 1.0171139\ttotal: 2.57s\tremaining: 20.6s\n",
      "111:\tlearn: 1.0164995\ttotal: 2.59s\tremaining: 20.5s\n",
      "112:\tlearn: 1.0157930\ttotal: 2.61s\tremaining: 20.5s\n",
      "113:\tlearn: 1.0154744\ttotal: 2.63s\tremaining: 20.5s\n",
      "114:\tlearn: 1.0147312\ttotal: 2.65s\tremaining: 20.4s\n",
      "115:\tlearn: 1.0141910\ttotal: 2.67s\tremaining: 20.4s\n",
      "116:\tlearn: 1.0137745\ttotal: 2.69s\tremaining: 20.3s\n",
      "117:\tlearn: 1.0128655\ttotal: 2.72s\tremaining: 20.3s\n",
      "118:\tlearn: 1.0121148\ttotal: 2.74s\tremaining: 20.3s\n",
      "119:\tlearn: 1.0115552\ttotal: 2.76s\tremaining: 20.2s\n",
      "120:\tlearn: 1.0108272\ttotal: 2.78s\tremaining: 20.2s\n",
      "121:\tlearn: 1.0101205\ttotal: 2.8s\tremaining: 20.1s\n",
      "122:\tlearn: 1.0093196\ttotal: 2.82s\tremaining: 20.1s\n",
      "123:\tlearn: 1.0084551\ttotal: 2.84s\tremaining: 20.1s\n",
      "124:\tlearn: 1.0078408\ttotal: 2.86s\tremaining: 20s\n",
      "125:\tlearn: 1.0072156\ttotal: 2.88s\tremaining: 20s\n",
      "126:\tlearn: 1.0067170\ttotal: 2.91s\tremaining: 20s\n",
      "127:\tlearn: 1.0056596\ttotal: 2.93s\tremaining: 19.9s\n",
      "128:\tlearn: 1.0048727\ttotal: 2.94s\tremaining: 19.9s\n",
      "129:\tlearn: 1.0043862\ttotal: 2.96s\tremaining: 19.8s\n",
      "130:\tlearn: 1.0037544\ttotal: 2.98s\tremaining: 19.8s\n",
      "131:\tlearn: 1.0029931\ttotal: 3s\tremaining: 19.7s\n",
      "132:\tlearn: 1.0024695\ttotal: 3.02s\tremaining: 19.7s\n",
      "133:\tlearn: 1.0017057\ttotal: 3.04s\tremaining: 19.6s\n",
      "134:\tlearn: 1.0010449\ttotal: 3.06s\tremaining: 19.6s\n",
      "135:\tlearn: 1.0001511\ttotal: 3.07s\tremaining: 19.5s\n",
      "136:\tlearn: 0.9994137\ttotal: 3.09s\tremaining: 19.5s\n",
      "137:\tlearn: 0.9986805\ttotal: 3.11s\tremaining: 19.4s\n",
      "138:\tlearn: 0.9981707\ttotal: 3.13s\tremaining: 19.4s\n",
      "139:\tlearn: 0.9974492\ttotal: 3.15s\tremaining: 19.3s\n",
      "140:\tlearn: 0.9965888\ttotal: 3.17s\tremaining: 19.3s\n",
      "141:\tlearn: 0.9961313\ttotal: 3.19s\tremaining: 19.3s\n",
      "142:\tlearn: 0.9954393\ttotal: 3.21s\tremaining: 19.2s\n",
      "143:\tlearn: 0.9947670\ttotal: 3.22s\tremaining: 19.2s\n",
      "144:\tlearn: 0.9937571\ttotal: 3.24s\tremaining: 19.1s\n",
      "145:\tlearn: 0.9930735\ttotal: 3.26s\tremaining: 19.1s\n",
      "146:\tlearn: 0.9924853\ttotal: 3.28s\tremaining: 19s\n",
      "147:\tlearn: 0.9920769\ttotal: 3.3s\tremaining: 19s\n",
      "148:\tlearn: 0.9916179\ttotal: 3.32s\tremaining: 19s\n",
      "149:\tlearn: 0.9908823\ttotal: 3.34s\tremaining: 18.9s\n",
      "150:\tlearn: 0.9900658\ttotal: 3.37s\tremaining: 18.9s\n",
      "151:\tlearn: 0.9894011\ttotal: 3.39s\tremaining: 18.9s\n",
      "152:\tlearn: 0.9888120\ttotal: 3.41s\tremaining: 18.9s\n",
      "153:\tlearn: 0.9879662\ttotal: 3.43s\tremaining: 18.8s\n",
      "154:\tlearn: 0.9872720\ttotal: 3.45s\tremaining: 18.8s\n",
      "155:\tlearn: 0.9867339\ttotal: 3.47s\tremaining: 18.8s\n",
      "156:\tlearn: 0.9861291\ttotal: 3.49s\tremaining: 18.7s\n",
      "157:\tlearn: 0.9851367\ttotal: 3.5s\tremaining: 18.7s\n",
      "158:\tlearn: 0.9844928\ttotal: 3.52s\tremaining: 18.6s\n",
      "159:\tlearn: 0.9838206\ttotal: 3.54s\tremaining: 18.6s\n",
      "160:\tlearn: 0.9833830\ttotal: 3.56s\tremaining: 18.6s\n",
      "161:\tlearn: 0.9826410\ttotal: 3.58s\tremaining: 18.5s\n",
      "162:\tlearn: 0.9820868\ttotal: 3.6s\tremaining: 18.5s\n",
      "163:\tlearn: 0.9814112\ttotal: 3.62s\tremaining: 18.4s\n",
      "164:\tlearn: 0.9808277\ttotal: 3.64s\tremaining: 18.4s\n",
      "165:\tlearn: 0.9801395\ttotal: 3.65s\tremaining: 18.4s\n",
      "166:\tlearn: 0.9794747\ttotal: 3.67s\tremaining: 18.3s\n",
      "167:\tlearn: 0.9790131\ttotal: 3.7s\tremaining: 18.3s\n",
      "168:\tlearn: 0.9783200\ttotal: 3.72s\tremaining: 18.3s\n",
      "169:\tlearn: 0.9773877\ttotal: 3.74s\tremaining: 18.3s\n",
      "170:\tlearn: 0.9767896\ttotal: 3.76s\tremaining: 18.2s\n",
      "171:\tlearn: 0.9763224\ttotal: 3.78s\tremaining: 18.2s\n",
      "172:\tlearn: 0.9756712\ttotal: 3.81s\tremaining: 18.2s\n",
      "173:\tlearn: 0.9749171\ttotal: 3.83s\tremaining: 18.2s\n",
      "174:\tlearn: 0.9743637\ttotal: 3.85s\tremaining: 18.1s\n",
      "175:\tlearn: 0.9737485\ttotal: 3.87s\tremaining: 18.1s\n",
      "176:\tlearn: 0.9731094\ttotal: 3.89s\tremaining: 18.1s\n",
      "177:\tlearn: 0.9722883\ttotal: 3.91s\tremaining: 18.1s\n",
      "178:\tlearn: 0.9716793\ttotal: 3.94s\tremaining: 18s\n",
      "179:\tlearn: 0.9709447\ttotal: 3.96s\tremaining: 18s\n",
      "180:\tlearn: 0.9701723\ttotal: 3.98s\tremaining: 18s\n",
      "181:\tlearn: 0.9694425\ttotal: 4s\tremaining: 18s\n",
      "182:\tlearn: 0.9686895\ttotal: 4.02s\tremaining: 17.9s\n",
      "183:\tlearn: 0.9681915\ttotal: 4.04s\tremaining: 17.9s\n",
      "184:\tlearn: 0.9677627\ttotal: 4.06s\tremaining: 17.9s\n",
      "185:\tlearn: 0.9671901\ttotal: 4.08s\tremaining: 17.9s\n",
      "186:\tlearn: 0.9666211\ttotal: 4.1s\tremaining: 17.8s\n",
      "187:\tlearn: 0.9661661\ttotal: 4.13s\tremaining: 17.8s\n",
      "188:\tlearn: 0.9657032\ttotal: 4.15s\tremaining: 17.8s\n",
      "189:\tlearn: 0.9649322\ttotal: 4.17s\tremaining: 17.8s\n",
      "190:\tlearn: 0.9642398\ttotal: 4.2s\tremaining: 17.8s\n",
      "191:\tlearn: 0.9635179\ttotal: 4.22s\tremaining: 17.8s\n",
      "192:\tlearn: 0.9629639\ttotal: 4.25s\tremaining: 17.8s\n",
      "193:\tlearn: 0.9623705\ttotal: 4.27s\tremaining: 17.8s\n",
      "194:\tlearn: 0.9618797\ttotal: 4.3s\tremaining: 17.7s\n",
      "195:\tlearn: 0.9611079\ttotal: 4.32s\tremaining: 17.7s\n",
      "196:\tlearn: 0.9605227\ttotal: 4.35s\tremaining: 17.7s\n",
      "197:\tlearn: 0.9600011\ttotal: 4.37s\tremaining: 17.7s\n",
      "198:\tlearn: 0.9594616\ttotal: 4.39s\tremaining: 17.7s\n",
      "199:\tlearn: 0.9589310\ttotal: 4.42s\tremaining: 17.7s\n",
      "200:\tlearn: 0.9581953\ttotal: 4.44s\tremaining: 17.7s\n",
      "201:\tlearn: 0.9575350\ttotal: 4.46s\tremaining: 17.6s\n",
      "202:\tlearn: 0.9568960\ttotal: 4.49s\tremaining: 17.6s\n",
      "203:\tlearn: 0.9564303\ttotal: 4.51s\tremaining: 17.6s\n",
      "204:\tlearn: 0.9558642\ttotal: 4.53s\tremaining: 17.6s\n",
      "205:\tlearn: 0.9551352\ttotal: 4.55s\tremaining: 17.6s\n",
      "206:\tlearn: 0.9543463\ttotal: 4.58s\tremaining: 17.5s\n",
      "207:\tlearn: 0.9535855\ttotal: 4.62s\tremaining: 17.6s\n",
      "208:\tlearn: 0.9527385\ttotal: 4.65s\tremaining: 17.6s\n",
      "209:\tlearn: 0.9520194\ttotal: 4.67s\tremaining: 17.6s\n",
      "210:\tlearn: 0.9511780\ttotal: 4.7s\tremaining: 17.6s\n",
      "211:\tlearn: 0.9507816\ttotal: 4.72s\tremaining: 17.5s\n",
      "212:\tlearn: 0.9503166\ttotal: 4.74s\tremaining: 17.5s\n",
      "213:\tlearn: 0.9496556\ttotal: 4.76s\tremaining: 17.5s\n",
      "214:\tlearn: 0.9491671\ttotal: 4.78s\tremaining: 17.5s\n",
      "215:\tlearn: 0.9485151\ttotal: 4.8s\tremaining: 17.4s\n",
      "216:\tlearn: 0.9479237\ttotal: 4.83s\tremaining: 17.4s\n",
      "217:\tlearn: 0.9474388\ttotal: 4.85s\tremaining: 17.4s\n",
      "218:\tlearn: 0.9468018\ttotal: 4.88s\tremaining: 17.4s\n",
      "219:\tlearn: 0.9460490\ttotal: 4.9s\tremaining: 17.4s\n",
      "220:\tlearn: 0.9454868\ttotal: 4.92s\tremaining: 17.3s\n",
      "221:\tlearn: 0.9449652\ttotal: 4.94s\tremaining: 17.3s\n",
      "222:\tlearn: 0.9442062\ttotal: 4.97s\tremaining: 17.3s\n",
      "223:\tlearn: 0.9436497\ttotal: 4.99s\tremaining: 17.3s\n",
      "224:\tlearn: 0.9430282\ttotal: 5.01s\tremaining: 17.3s\n",
      "225:\tlearn: 0.9428079\ttotal: 5.04s\tremaining: 17.3s\n",
      "226:\tlearn: 0.9421292\ttotal: 5.07s\tremaining: 17.2s\n",
      "227:\tlearn: 0.9414253\ttotal: 5.09s\tremaining: 17.2s\n",
      "228:\tlearn: 0.9407670\ttotal: 5.12s\tremaining: 17.2s\n",
      "229:\tlearn: 0.9404076\ttotal: 5.14s\tremaining: 17.2s\n",
      "230:\tlearn: 0.9397542\ttotal: 5.16s\tremaining: 17.2s\n",
      "231:\tlearn: 0.9389309\ttotal: 5.18s\tremaining: 17.2s\n",
      "232:\tlearn: 0.9382400\ttotal: 5.2s\tremaining: 17.1s\n",
      "233:\tlearn: 0.9377324\ttotal: 5.22s\tremaining: 17.1s\n",
      "234:\tlearn: 0.9373198\ttotal: 5.24s\tremaining: 17.1s\n",
      "235:\tlearn: 0.9367173\ttotal: 5.26s\tremaining: 17s\n",
      "236:\tlearn: 0.9360943\ttotal: 5.28s\tremaining: 17s\n",
      "237:\tlearn: 0.9354218\ttotal: 5.3s\tremaining: 17s\n",
      "238:\tlearn: 0.9346009\ttotal: 5.32s\tremaining: 16.9s\n",
      "239:\tlearn: 0.9338580\ttotal: 5.34s\tremaining: 16.9s\n",
      "240:\tlearn: 0.9332687\ttotal: 5.36s\tremaining: 16.9s\n",
      "241:\tlearn: 0.9326534\ttotal: 5.38s\tremaining: 16.8s\n",
      "242:\tlearn: 0.9319178\ttotal: 5.39s\tremaining: 16.8s\n",
      "243:\tlearn: 0.9313891\ttotal: 5.41s\tremaining: 16.8s\n",
      "244:\tlearn: 0.9308093\ttotal: 5.43s\tremaining: 16.7s\n",
      "245:\tlearn: 0.9303250\ttotal: 5.45s\tremaining: 16.7s\n",
      "246:\tlearn: 0.9299833\ttotal: 5.47s\tremaining: 16.7s\n",
      "247:\tlearn: 0.9292658\ttotal: 5.49s\tremaining: 16.6s\n",
      "248:\tlearn: 0.9287216\ttotal: 5.5s\tremaining: 16.6s\n",
      "249:\tlearn: 0.9282876\ttotal: 5.52s\tremaining: 16.6s\n",
      "250:\tlearn: 0.9279646\ttotal: 5.54s\tremaining: 16.5s\n",
      "251:\tlearn: 0.9276207\ttotal: 5.56s\tremaining: 16.5s\n",
      "252:\tlearn: 0.9271581\ttotal: 5.58s\tremaining: 16.5s\n",
      "253:\tlearn: 0.9263323\ttotal: 5.6s\tremaining: 16.4s\n",
      "254:\tlearn: 0.9257821\ttotal: 5.61s\tremaining: 16.4s\n",
      "255:\tlearn: 0.9250599\ttotal: 5.63s\tremaining: 16.4s\n",
      "256:\tlearn: 0.9241685\ttotal: 5.65s\tremaining: 16.3s\n",
      "257:\tlearn: 0.9233818\ttotal: 5.67s\tremaining: 16.3s\n",
      "258:\tlearn: 0.9227932\ttotal: 5.69s\tremaining: 16.3s\n",
      "259:\tlearn: 0.9219186\ttotal: 5.71s\tremaining: 16.2s\n",
      "260:\tlearn: 0.9211646\ttotal: 5.73s\tremaining: 16.2s\n",
      "261:\tlearn: 0.9207093\ttotal: 5.75s\tremaining: 16.2s\n",
      "262:\tlearn: 0.9203527\ttotal: 5.77s\tremaining: 16.2s\n",
      "263:\tlearn: 0.9198714\ttotal: 5.79s\tremaining: 16.1s\n",
      "264:\tlearn: 0.9193135\ttotal: 5.8s\tremaining: 16.1s\n",
      "265:\tlearn: 0.9185469\ttotal: 5.82s\tremaining: 16.1s\n",
      "266:\tlearn: 0.9179037\ttotal: 5.84s\tremaining: 16s\n",
      "267:\tlearn: 0.9174255\ttotal: 5.86s\tremaining: 16s\n",
      "268:\tlearn: 0.9167733\ttotal: 5.88s\tremaining: 16s\n",
      "269:\tlearn: 0.9163071\ttotal: 5.89s\tremaining: 15.9s\n",
      "270:\tlearn: 0.9159239\ttotal: 5.91s\tremaining: 15.9s\n",
      "271:\tlearn: 0.9153350\ttotal: 5.93s\tremaining: 15.9s\n",
      "272:\tlearn: 0.9147427\ttotal: 5.95s\tremaining: 15.8s\n",
      "273:\tlearn: 0.9139402\ttotal: 5.97s\tremaining: 15.8s\n",
      "274:\tlearn: 0.9134639\ttotal: 5.99s\tremaining: 15.8s\n",
      "275:\tlearn: 0.9127176\ttotal: 6.01s\tremaining: 15.8s\n",
      "276:\tlearn: 0.9118667\ttotal: 6.03s\tremaining: 15.7s\n",
      "277:\tlearn: 0.9114940\ttotal: 6.05s\tremaining: 15.7s\n",
      "278:\tlearn: 0.9108875\ttotal: 6.07s\tremaining: 15.7s\n",
      "279:\tlearn: 0.9102953\ttotal: 6.09s\tremaining: 15.7s\n",
      "280:\tlearn: 0.9094069\ttotal: 6.11s\tremaining: 15.6s\n",
      "281:\tlearn: 0.9088880\ttotal: 6.13s\tremaining: 15.6s\n",
      "282:\tlearn: 0.9080883\ttotal: 6.14s\tremaining: 15.6s\n",
      "283:\tlearn: 0.9077380\ttotal: 6.16s\tremaining: 15.5s\n",
      "284:\tlearn: 0.9071458\ttotal: 6.18s\tremaining: 15.5s\n",
      "285:\tlearn: 0.9066181\ttotal: 6.2s\tremaining: 15.5s\n",
      "286:\tlearn: 0.9062598\ttotal: 6.22s\tremaining: 15.4s\n",
      "287:\tlearn: 0.9057268\ttotal: 6.24s\tremaining: 15.4s\n",
      "288:\tlearn: 0.9050918\ttotal: 6.26s\tremaining: 15.4s\n",
      "289:\tlearn: 0.9045632\ttotal: 6.28s\tremaining: 15.4s\n",
      "290:\tlearn: 0.9039199\ttotal: 6.29s\tremaining: 15.3s\n",
      "291:\tlearn: 0.9034663\ttotal: 6.31s\tremaining: 15.3s\n",
      "292:\tlearn: 0.9029736\ttotal: 6.33s\tremaining: 15.3s\n",
      "293:\tlearn: 0.9025078\ttotal: 6.35s\tremaining: 15.2s\n",
      "294:\tlearn: 0.9019713\ttotal: 6.37s\tremaining: 15.2s\n",
      "295:\tlearn: 0.9012015\ttotal: 6.39s\tremaining: 15.2s\n",
      "296:\tlearn: 0.9006393\ttotal: 6.4s\tremaining: 15.2s\n",
      "297:\tlearn: 0.8999420\ttotal: 6.42s\tremaining: 15.1s\n",
      "298:\tlearn: 0.8993903\ttotal: 6.44s\tremaining: 15.1s\n",
      "299:\tlearn: 0.8989796\ttotal: 6.46s\tremaining: 15.1s\n",
      "300:\tlearn: 0.8984315\ttotal: 6.48s\tremaining: 15s\n",
      "301:\tlearn: 0.8978340\ttotal: 6.5s\tremaining: 15s\n",
      "302:\tlearn: 0.8974497\ttotal: 6.51s\tremaining: 15s\n",
      "303:\tlearn: 0.8969845\ttotal: 6.53s\tremaining: 15s\n",
      "304:\tlearn: 0.8963776\ttotal: 6.55s\tremaining: 14.9s\n",
      "305:\tlearn: 0.8959462\ttotal: 6.57s\tremaining: 14.9s\n",
      "306:\tlearn: 0.8955041\ttotal: 6.59s\tremaining: 14.9s\n",
      "307:\tlearn: 0.8949161\ttotal: 6.61s\tremaining: 14.8s\n",
      "308:\tlearn: 0.8941967\ttotal: 6.63s\tremaining: 14.8s\n",
      "309:\tlearn: 0.8934643\ttotal: 6.65s\tremaining: 14.8s\n",
      "310:\tlearn: 0.8929649\ttotal: 6.67s\tremaining: 14.8s\n",
      "311:\tlearn: 0.8922930\ttotal: 6.68s\tremaining: 14.7s\n",
      "312:\tlearn: 0.8917670\ttotal: 6.7s\tremaining: 14.7s\n",
      "313:\tlearn: 0.8912768\ttotal: 6.72s\tremaining: 14.7s\n",
      "314:\tlearn: 0.8906132\ttotal: 6.74s\tremaining: 14.7s\n",
      "315:\tlearn: 0.8902246\ttotal: 6.76s\tremaining: 14.6s\n",
      "316:\tlearn: 0.8896065\ttotal: 6.78s\tremaining: 14.6s\n",
      "317:\tlearn: 0.8891518\ttotal: 6.8s\tremaining: 14.6s\n",
      "318:\tlearn: 0.8884715\ttotal: 6.81s\tremaining: 14.5s\n",
      "319:\tlearn: 0.8879763\ttotal: 6.83s\tremaining: 14.5s\n",
      "320:\tlearn: 0.8874015\ttotal: 6.85s\tremaining: 14.5s\n",
      "321:\tlearn: 0.8870482\ttotal: 6.87s\tremaining: 14.5s\n",
      "322:\tlearn: 0.8863816\ttotal: 6.89s\tremaining: 14.4s\n",
      "323:\tlearn: 0.8859978\ttotal: 6.9s\tremaining: 14.4s\n",
      "324:\tlearn: 0.8855316\ttotal: 6.92s\tremaining: 14.4s\n",
      "325:\tlearn: 0.8848816\ttotal: 6.94s\tremaining: 14.4s\n",
      "326:\tlearn: 0.8844251\ttotal: 6.96s\tremaining: 14.3s\n",
      "327:\tlearn: 0.8839714\ttotal: 6.98s\tremaining: 14.3s\n",
      "328:\tlearn: 0.8834304\ttotal: 7s\tremaining: 14.3s\n",
      "329:\tlearn: 0.8827531\ttotal: 7.01s\tremaining: 14.2s\n",
      "330:\tlearn: 0.8824776\ttotal: 7.03s\tremaining: 14.2s\n",
      "331:\tlearn: 0.8820128\ttotal: 7.05s\tremaining: 14.2s\n",
      "332:\tlearn: 0.8816615\ttotal: 7.07s\tremaining: 14.2s\n",
      "333:\tlearn: 0.8809805\ttotal: 7.09s\tremaining: 14.1s\n",
      "334:\tlearn: 0.8806025\ttotal: 7.11s\tremaining: 14.1s\n",
      "335:\tlearn: 0.8800857\ttotal: 7.13s\tremaining: 14.1s\n",
      "336:\tlearn: 0.8795527\ttotal: 7.15s\tremaining: 14.1s\n",
      "337:\tlearn: 0.8790801\ttotal: 7.17s\tremaining: 14s\n",
      "338:\tlearn: 0.8784402\ttotal: 7.19s\tremaining: 14s\n",
      "339:\tlearn: 0.8780180\ttotal: 7.2s\tremaining: 14s\n",
      "340:\tlearn: 0.8772818\ttotal: 7.22s\tremaining: 14s\n",
      "341:\tlearn: 0.8768883\ttotal: 7.24s\tremaining: 13.9s\n",
      "342:\tlearn: 0.8761171\ttotal: 7.26s\tremaining: 13.9s\n",
      "343:\tlearn: 0.8755724\ttotal: 7.28s\tremaining: 13.9s\n",
      "344:\tlearn: 0.8751529\ttotal: 7.3s\tremaining: 13.9s\n",
      "345:\tlearn: 0.8746164\ttotal: 7.32s\tremaining: 13.8s\n",
      "346:\tlearn: 0.8739636\ttotal: 7.34s\tremaining: 13.8s\n",
      "347:\tlearn: 0.8736549\ttotal: 7.36s\tremaining: 13.8s\n",
      "348:\tlearn: 0.8731738\ttotal: 7.38s\tremaining: 13.8s\n",
      "349:\tlearn: 0.8726242\ttotal: 7.4s\tremaining: 13.7s\n",
      "350:\tlearn: 0.8722306\ttotal: 7.42s\tremaining: 13.7s\n",
      "351:\tlearn: 0.8716652\ttotal: 7.45s\tremaining: 13.7s\n",
      "352:\tlearn: 0.8712617\ttotal: 7.46s\tremaining: 13.7s\n",
      "353:\tlearn: 0.8707818\ttotal: 7.49s\tremaining: 13.7s\n",
      "354:\tlearn: 0.8703452\ttotal: 7.51s\tremaining: 13.6s\n",
      "355:\tlearn: 0.8697117\ttotal: 7.53s\tremaining: 13.6s\n",
      "356:\tlearn: 0.8693747\ttotal: 7.55s\tremaining: 13.6s\n",
      "357:\tlearn: 0.8688301\ttotal: 7.57s\tremaining: 13.6s\n",
      "358:\tlearn: 0.8680660\ttotal: 7.59s\tremaining: 13.5s\n",
      "359:\tlearn: 0.8674527\ttotal: 7.61s\tremaining: 13.5s\n",
      "360:\tlearn: 0.8671209\ttotal: 7.63s\tremaining: 13.5s\n",
      "361:\tlearn: 0.8665262\ttotal: 7.65s\tremaining: 13.5s\n",
      "362:\tlearn: 0.8659890\ttotal: 7.67s\tremaining: 13.5s\n",
      "363:\tlearn: 0.8654056\ttotal: 7.69s\tremaining: 13.4s\n",
      "364:\tlearn: 0.8651194\ttotal: 7.71s\tremaining: 13.4s\n",
      "365:\tlearn: 0.8646021\ttotal: 7.73s\tremaining: 13.4s\n",
      "366:\tlearn: 0.8642181\ttotal: 7.75s\tremaining: 13.4s\n",
      "367:\tlearn: 0.8639222\ttotal: 7.77s\tremaining: 13.3s\n",
      "368:\tlearn: 0.8636548\ttotal: 7.79s\tremaining: 13.3s\n",
      "369:\tlearn: 0.8633547\ttotal: 7.81s\tremaining: 13.3s\n",
      "370:\tlearn: 0.8627631\ttotal: 7.83s\tremaining: 13.3s\n",
      "371:\tlearn: 0.8621753\ttotal: 7.84s\tremaining: 13.2s\n",
      "372:\tlearn: 0.8614126\ttotal: 7.86s\tremaining: 13.2s\n",
      "373:\tlearn: 0.8608278\ttotal: 7.88s\tremaining: 13.2s\n",
      "374:\tlearn: 0.8603230\ttotal: 7.9s\tremaining: 13.2s\n",
      "375:\tlearn: 0.8599953\ttotal: 7.92s\tremaining: 13.1s\n",
      "376:\tlearn: 0.8594325\ttotal: 7.93s\tremaining: 13.1s\n",
      "377:\tlearn: 0.8588452\ttotal: 7.95s\tremaining: 13.1s\n",
      "378:\tlearn: 0.8582696\ttotal: 7.97s\tremaining: 13.1s\n",
      "379:\tlearn: 0.8577763\ttotal: 7.99s\tremaining: 13s\n",
      "380:\tlearn: 0.8574903\ttotal: 8.01s\tremaining: 13s\n",
      "381:\tlearn: 0.8570422\ttotal: 8.03s\tremaining: 13s\n",
      "382:\tlearn: 0.8568518\ttotal: 8.04s\tremaining: 13s\n",
      "383:\tlearn: 0.8563112\ttotal: 8.06s\tremaining: 12.9s\n",
      "384:\tlearn: 0.8556520\ttotal: 8.08s\tremaining: 12.9s\n",
      "385:\tlearn: 0.8552529\ttotal: 8.1s\tremaining: 12.9s\n",
      "386:\tlearn: 0.8548366\ttotal: 8.11s\tremaining: 12.9s\n",
      "387:\tlearn: 0.8544262\ttotal: 8.13s\tremaining: 12.8s\n",
      "388:\tlearn: 0.8538765\ttotal: 8.15s\tremaining: 12.8s\n",
      "389:\tlearn: 0.8533736\ttotal: 8.17s\tremaining: 12.8s\n",
      "390:\tlearn: 0.8527136\ttotal: 8.19s\tremaining: 12.8s\n",
      "391:\tlearn: 0.8523784\ttotal: 8.21s\tremaining: 12.7s\n",
      "392:\tlearn: 0.8519284\ttotal: 8.23s\tremaining: 12.7s\n",
      "393:\tlearn: 0.8512670\ttotal: 8.25s\tremaining: 12.7s\n",
      "394:\tlearn: 0.8505778\ttotal: 8.27s\tremaining: 12.7s\n",
      "395:\tlearn: 0.8499168\ttotal: 8.29s\tremaining: 12.7s\n",
      "396:\tlearn: 0.8493006\ttotal: 8.32s\tremaining: 12.6s\n",
      "397:\tlearn: 0.8486311\ttotal: 8.34s\tremaining: 12.6s\n",
      "398:\tlearn: 0.8480629\ttotal: 8.36s\tremaining: 12.6s\n",
      "399:\tlearn: 0.8477157\ttotal: 8.38s\tremaining: 12.6s\n",
      "400:\tlearn: 0.8473065\ttotal: 8.4s\tremaining: 12.5s\n",
      "401:\tlearn: 0.8469025\ttotal: 8.42s\tremaining: 12.5s\n",
      "402:\tlearn: 0.8464845\ttotal: 8.44s\tremaining: 12.5s\n",
      "403:\tlearn: 0.8459388\ttotal: 8.46s\tremaining: 12.5s\n",
      "404:\tlearn: 0.8454111\ttotal: 8.48s\tremaining: 12.5s\n",
      "405:\tlearn: 0.8450327\ttotal: 8.5s\tremaining: 12.4s\n",
      "406:\tlearn: 0.8446633\ttotal: 8.52s\tremaining: 12.4s\n",
      "407:\tlearn: 0.8442991\ttotal: 8.54s\tremaining: 12.4s\n",
      "408:\tlearn: 0.8438803\ttotal: 8.56s\tremaining: 12.4s\n",
      "409:\tlearn: 0.8434039\ttotal: 8.58s\tremaining: 12.3s\n",
      "410:\tlearn: 0.8428348\ttotal: 8.6s\tremaining: 12.3s\n",
      "411:\tlearn: 0.8422327\ttotal: 8.62s\tremaining: 12.3s\n",
      "412:\tlearn: 0.8416776\ttotal: 8.65s\tremaining: 12.3s\n",
      "413:\tlearn: 0.8414582\ttotal: 8.67s\tremaining: 12.3s\n",
      "414:\tlearn: 0.8410408\ttotal: 8.7s\tremaining: 12.3s\n",
      "415:\tlearn: 0.8405272\ttotal: 8.73s\tremaining: 12.3s\n",
      "416:\tlearn: 0.8401055\ttotal: 8.75s\tremaining: 12.2s\n",
      "417:\tlearn: 0.8396670\ttotal: 8.78s\tremaining: 12.2s\n",
      "418:\tlearn: 0.8389183\ttotal: 8.8s\tremaining: 12.2s\n",
      "419:\tlearn: 0.8384334\ttotal: 8.82s\tremaining: 12.2s\n",
      "420:\tlearn: 0.8380288\ttotal: 8.84s\tremaining: 12.2s\n",
      "421:\tlearn: 0.8375131\ttotal: 8.86s\tremaining: 12.1s\n",
      "422:\tlearn: 0.8370818\ttotal: 8.88s\tremaining: 12.1s\n",
      "423:\tlearn: 0.8365555\ttotal: 8.9s\tremaining: 12.1s\n",
      "424:\tlearn: 0.8358149\ttotal: 8.93s\tremaining: 12.1s\n",
      "425:\tlearn: 0.8353095\ttotal: 8.95s\tremaining: 12.1s\n",
      "426:\tlearn: 0.8349374\ttotal: 8.98s\tremaining: 12s\n",
      "427:\tlearn: 0.8344002\ttotal: 9s\tremaining: 12s\n",
      "428:\tlearn: 0.8338462\ttotal: 9.03s\tremaining: 12s\n",
      "429:\tlearn: 0.8333253\ttotal: 9.05s\tremaining: 12s\n",
      "430:\tlearn: 0.8328831\ttotal: 9.08s\tremaining: 12s\n",
      "431:\tlearn: 0.8323816\ttotal: 9.1s\tremaining: 12s\n",
      "432:\tlearn: 0.8317928\ttotal: 9.13s\tremaining: 11.9s\n",
      "433:\tlearn: 0.8313354\ttotal: 9.15s\tremaining: 11.9s\n",
      "434:\tlearn: 0.8309958\ttotal: 9.17s\tremaining: 11.9s\n",
      "435:\tlearn: 0.8306456\ttotal: 9.2s\tremaining: 11.9s\n",
      "436:\tlearn: 0.8301802\ttotal: 9.25s\tremaining: 11.9s\n",
      "437:\tlearn: 0.8296471\ttotal: 9.27s\tremaining: 11.9s\n",
      "438:\tlearn: 0.8292079\ttotal: 9.29s\tremaining: 11.9s\n",
      "439:\tlearn: 0.8287105\ttotal: 9.31s\tremaining: 11.8s\n",
      "440:\tlearn: 0.8282842\ttotal: 9.33s\tremaining: 11.8s\n",
      "441:\tlearn: 0.8278430\ttotal: 9.35s\tremaining: 11.8s\n",
      "442:\tlearn: 0.8273293\ttotal: 9.37s\tremaining: 11.8s\n",
      "443:\tlearn: 0.8265416\ttotal: 9.39s\tremaining: 11.8s\n",
      "444:\tlearn: 0.8262367\ttotal: 9.41s\tremaining: 11.7s\n",
      "445:\tlearn: 0.8259140\ttotal: 9.44s\tremaining: 11.7s\n",
      "446:\tlearn: 0.8254961\ttotal: 9.46s\tremaining: 11.7s\n",
      "447:\tlearn: 0.8251688\ttotal: 9.48s\tremaining: 11.7s\n",
      "448:\tlearn: 0.8246909\ttotal: 9.51s\tremaining: 11.7s\n",
      "449:\tlearn: 0.8241791\ttotal: 9.53s\tremaining: 11.6s\n",
      "450:\tlearn: 0.8238682\ttotal: 9.55s\tremaining: 11.6s\n",
      "451:\tlearn: 0.8232545\ttotal: 9.58s\tremaining: 11.6s\n",
      "452:\tlearn: 0.8226555\ttotal: 9.61s\tremaining: 11.6s\n",
      "453:\tlearn: 0.8224578\ttotal: 9.63s\tremaining: 11.6s\n",
      "454:\tlearn: 0.8220817\ttotal: 9.65s\tremaining: 11.6s\n",
      "455:\tlearn: 0.8215834\ttotal: 9.68s\tremaining: 11.5s\n",
      "456:\tlearn: 0.8211174\ttotal: 9.71s\tremaining: 11.5s\n",
      "457:\tlearn: 0.8206690\ttotal: 9.73s\tremaining: 11.5s\n",
      "458:\tlearn: 0.8202911\ttotal: 9.75s\tremaining: 11.5s\n",
      "459:\tlearn: 0.8195902\ttotal: 9.78s\tremaining: 11.5s\n",
      "460:\tlearn: 0.8189380\ttotal: 9.8s\tremaining: 11.5s\n",
      "461:\tlearn: 0.8183517\ttotal: 9.82s\tremaining: 11.4s\n",
      "462:\tlearn: 0.8179025\ttotal: 9.85s\tremaining: 11.4s\n",
      "463:\tlearn: 0.8172738\ttotal: 9.87s\tremaining: 11.4s\n",
      "464:\tlearn: 0.8165416\ttotal: 9.88s\tremaining: 11.4s\n",
      "465:\tlearn: 0.8163288\ttotal: 9.9s\tremaining: 11.3s\n",
      "466:\tlearn: 0.8158256\ttotal: 9.92s\tremaining: 11.3s\n",
      "467:\tlearn: 0.8154740\ttotal: 9.94s\tremaining: 11.3s\n",
      "468:\tlearn: 0.8147893\ttotal: 9.96s\tremaining: 11.3s\n",
      "469:\tlearn: 0.8141643\ttotal: 9.98s\tremaining: 11.3s\n",
      "470:\tlearn: 0.8135685\ttotal: 9.99s\tremaining: 11.2s\n",
      "471:\tlearn: 0.8130075\ttotal: 10s\tremaining: 11.2s\n",
      "472:\tlearn: 0.8125175\ttotal: 10s\tremaining: 11.2s\n",
      "473:\tlearn: 0.8121329\ttotal: 10.1s\tremaining: 11.2s\n",
      "474:\tlearn: 0.8113657\ttotal: 10.1s\tremaining: 11.1s\n",
      "475:\tlearn: 0.8107876\ttotal: 10.1s\tremaining: 11.1s\n",
      "476:\tlearn: 0.8104841\ttotal: 10.1s\tremaining: 11.1s\n",
      "477:\tlearn: 0.8100574\ttotal: 10.1s\tremaining: 11.1s\n",
      "478:\tlearn: 0.8095038\ttotal: 10.1s\tremaining: 11s\n",
      "479:\tlearn: 0.8092333\ttotal: 10.2s\tremaining: 11s\n",
      "480:\tlearn: 0.8088235\ttotal: 10.2s\tremaining: 11s\n",
      "481:\tlearn: 0.8081645\ttotal: 10.2s\tremaining: 11s\n",
      "482:\tlearn: 0.8076688\ttotal: 10.2s\tremaining: 10.9s\n",
      "483:\tlearn: 0.8071664\ttotal: 10.2s\tremaining: 10.9s\n",
      "484:\tlearn: 0.8064983\ttotal: 10.3s\tremaining: 10.9s\n",
      "485:\tlearn: 0.8061837\ttotal: 10.3s\tremaining: 10.9s\n",
      "486:\tlearn: 0.8057840\ttotal: 10.3s\tremaining: 10.9s\n",
      "487:\tlearn: 0.8052589\ttotal: 10.3s\tremaining: 10.8s\n",
      "488:\tlearn: 0.8048818\ttotal: 10.3s\tremaining: 10.8s\n",
      "489:\tlearn: 0.8045118\ttotal: 10.4s\tremaining: 10.8s\n",
      "490:\tlearn: 0.8040239\ttotal: 10.4s\tremaining: 10.8s\n",
      "491:\tlearn: 0.8034992\ttotal: 10.4s\tremaining: 10.7s\n",
      "492:\tlearn: 0.8031539\ttotal: 10.4s\tremaining: 10.7s\n",
      "493:\tlearn: 0.8027039\ttotal: 10.4s\tremaining: 10.7s\n",
      "494:\tlearn: 0.8020981\ttotal: 10.5s\tremaining: 10.7s\n",
      "495:\tlearn: 0.8016979\ttotal: 10.5s\tremaining: 10.7s\n",
      "496:\tlearn: 0.8012003\ttotal: 10.5s\tremaining: 10.6s\n",
      "497:\tlearn: 0.8008204\ttotal: 10.5s\tremaining: 10.6s\n",
      "498:\tlearn: 0.8002630\ttotal: 10.6s\tremaining: 10.6s\n",
      "499:\tlearn: 0.7996200\ttotal: 10.6s\tremaining: 10.6s\n",
      "500:\tlearn: 0.7992370\ttotal: 10.6s\tremaining: 10.5s\n",
      "501:\tlearn: 0.7987726\ttotal: 10.6s\tremaining: 10.5s\n",
      "502:\tlearn: 0.7981380\ttotal: 10.6s\tremaining: 10.5s\n",
      "503:\tlearn: 0.7976416\ttotal: 10.7s\tremaining: 10.5s\n",
      "504:\tlearn: 0.7971050\ttotal: 10.7s\tremaining: 10.5s\n",
      "505:\tlearn: 0.7968546\ttotal: 10.7s\tremaining: 10.4s\n",
      "506:\tlearn: 0.7964824\ttotal: 10.7s\tremaining: 10.4s\n",
      "507:\tlearn: 0.7960194\ttotal: 10.7s\tremaining: 10.4s\n",
      "508:\tlearn: 0.7955830\ttotal: 10.8s\tremaining: 10.4s\n",
      "509:\tlearn: 0.7951424\ttotal: 10.8s\tremaining: 10.4s\n",
      "510:\tlearn: 0.7945719\ttotal: 10.8s\tremaining: 10.3s\n",
      "511:\tlearn: 0.7940848\ttotal: 10.8s\tremaining: 10.3s\n",
      "512:\tlearn: 0.7935122\ttotal: 10.8s\tremaining: 10.3s\n",
      "513:\tlearn: 0.7933248\ttotal: 10.9s\tremaining: 10.3s\n",
      "514:\tlearn: 0.7929723\ttotal: 10.9s\tremaining: 10.2s\n",
      "515:\tlearn: 0.7925009\ttotal: 10.9s\tremaining: 10.2s\n",
      "516:\tlearn: 0.7918719\ttotal: 10.9s\tremaining: 10.2s\n",
      "517:\tlearn: 0.7914831\ttotal: 10.9s\tremaining: 10.2s\n",
      "518:\tlearn: 0.7909782\ttotal: 11s\tremaining: 10.2s\n",
      "519:\tlearn: 0.7905278\ttotal: 11s\tremaining: 10.1s\n",
      "520:\tlearn: 0.7900788\ttotal: 11s\tremaining: 10.1s\n",
      "521:\tlearn: 0.7897959\ttotal: 11s\tremaining: 10.1s\n",
      "522:\tlearn: 0.7890710\ttotal: 11s\tremaining: 10.1s\n",
      "523:\tlearn: 0.7884804\ttotal: 11s\tremaining: 10s\n",
      "524:\tlearn: 0.7879426\ttotal: 11.1s\tremaining: 10s\n",
      "525:\tlearn: 0.7875374\ttotal: 11.1s\tremaining: 9.99s\n",
      "526:\tlearn: 0.7871918\ttotal: 11.1s\tremaining: 9.97s\n",
      "527:\tlearn: 0.7866650\ttotal: 11.1s\tremaining: 9.95s\n",
      "528:\tlearn: 0.7863526\ttotal: 11.2s\tremaining: 9.93s\n",
      "529:\tlearn: 0.7857717\ttotal: 11.2s\tremaining: 9.91s\n",
      "530:\tlearn: 0.7854267\ttotal: 11.2s\tremaining: 9.89s\n",
      "531:\tlearn: 0.7849406\ttotal: 11.2s\tremaining: 9.87s\n",
      "532:\tlearn: 0.7845481\ttotal: 11.2s\tremaining: 9.85s\n",
      "533:\tlearn: 0.7840368\ttotal: 11.3s\tremaining: 9.82s\n",
      "534:\tlearn: 0.7836073\ttotal: 11.3s\tremaining: 9.8s\n",
      "535:\tlearn: 0.7833158\ttotal: 11.3s\tremaining: 9.78s\n",
      "536:\tlearn: 0.7829894\ttotal: 11.3s\tremaining: 9.76s\n",
      "537:\tlearn: 0.7825184\ttotal: 11.3s\tremaining: 9.74s\n",
      "538:\tlearn: 0.7821144\ttotal: 11.4s\tremaining: 9.71s\n",
      "539:\tlearn: 0.7814985\ttotal: 11.4s\tremaining: 9.69s\n",
      "540:\tlearn: 0.7810175\ttotal: 11.4s\tremaining: 9.67s\n",
      "541:\tlearn: 0.7805533\ttotal: 11.4s\tremaining: 9.65s\n",
      "542:\tlearn: 0.7802351\ttotal: 11.4s\tremaining: 9.63s\n",
      "543:\tlearn: 0.7796102\ttotal: 11.5s\tremaining: 9.61s\n",
      "544:\tlearn: 0.7793847\ttotal: 11.5s\tremaining: 9.59s\n",
      "545:\tlearn: 0.7790327\ttotal: 11.5s\tremaining: 9.56s\n",
      "546:\tlearn: 0.7786760\ttotal: 11.5s\tremaining: 9.54s\n",
      "547:\tlearn: 0.7782007\ttotal: 11.5s\tremaining: 9.52s\n",
      "548:\tlearn: 0.7777002\ttotal: 11.6s\tremaining: 9.5s\n",
      "549:\tlearn: 0.7771936\ttotal: 11.6s\tremaining: 9.48s\n",
      "550:\tlearn: 0.7768078\ttotal: 11.6s\tremaining: 9.46s\n",
      "551:\tlearn: 0.7762678\ttotal: 11.6s\tremaining: 9.44s\n",
      "552:\tlearn: 0.7758868\ttotal: 11.6s\tremaining: 9.42s\n",
      "553:\tlearn: 0.7754522\ttotal: 11.7s\tremaining: 9.39s\n",
      "554:\tlearn: 0.7750174\ttotal: 11.7s\tremaining: 9.37s\n",
      "555:\tlearn: 0.7747248\ttotal: 11.7s\tremaining: 9.35s\n",
      "556:\tlearn: 0.7744933\ttotal: 11.7s\tremaining: 9.33s\n",
      "557:\tlearn: 0.7740750\ttotal: 11.8s\tremaining: 9.31s\n",
      "558:\tlearn: 0.7737985\ttotal: 11.8s\tremaining: 9.29s\n",
      "559:\tlearn: 0.7732345\ttotal: 11.8s\tremaining: 9.27s\n",
      "560:\tlearn: 0.7729742\ttotal: 11.8s\tremaining: 9.25s\n",
      "561:\tlearn: 0.7724252\ttotal: 11.8s\tremaining: 9.22s\n",
      "562:\tlearn: 0.7718276\ttotal: 11.9s\tremaining: 9.2s\n",
      "563:\tlearn: 0.7714319\ttotal: 11.9s\tremaining: 9.18s\n",
      "564:\tlearn: 0.7709904\ttotal: 11.9s\tremaining: 9.16s\n",
      "565:\tlearn: 0.7705396\ttotal: 11.9s\tremaining: 9.14s\n",
      "566:\tlearn: 0.7700908\ttotal: 11.9s\tremaining: 9.12s\n",
      "567:\tlearn: 0.7696709\ttotal: 12s\tremaining: 9.1s\n",
      "568:\tlearn: 0.7691568\ttotal: 12s\tremaining: 9.08s\n",
      "569:\tlearn: 0.7687689\ttotal: 12s\tremaining: 9.05s\n",
      "570:\tlearn: 0.7682210\ttotal: 12s\tremaining: 9.03s\n",
      "571:\tlearn: 0.7676252\ttotal: 12s\tremaining: 9.01s\n",
      "572:\tlearn: 0.7670373\ttotal: 12.1s\tremaining: 8.99s\n",
      "573:\tlearn: 0.7666742\ttotal: 12.1s\tremaining: 8.97s\n",
      "574:\tlearn: 0.7661179\ttotal: 12.1s\tremaining: 8.95s\n",
      "575:\tlearn: 0.7657581\ttotal: 12.1s\tremaining: 8.92s\n",
      "576:\tlearn: 0.7653169\ttotal: 12.1s\tremaining: 8.9s\n",
      "577:\tlearn: 0.7649583\ttotal: 12.2s\tremaining: 8.88s\n",
      "578:\tlearn: 0.7644336\ttotal: 12.2s\tremaining: 8.86s\n",
      "579:\tlearn: 0.7639961\ttotal: 12.2s\tremaining: 8.84s\n",
      "580:\tlearn: 0.7635719\ttotal: 12.2s\tremaining: 8.82s\n",
      "581:\tlearn: 0.7632088\ttotal: 12.2s\tremaining: 8.79s\n",
      "582:\tlearn: 0.7626677\ttotal: 12.3s\tremaining: 8.77s\n",
      "583:\tlearn: 0.7623456\ttotal: 12.3s\tremaining: 8.75s\n",
      "584:\tlearn: 0.7618845\ttotal: 12.3s\tremaining: 8.73s\n",
      "585:\tlearn: 0.7613959\ttotal: 12.3s\tremaining: 8.71s\n",
      "586:\tlearn: 0.7610035\ttotal: 12.3s\tremaining: 8.69s\n",
      "587:\tlearn: 0.7606264\ttotal: 12.4s\tremaining: 8.67s\n",
      "588:\tlearn: 0.7603487\ttotal: 12.4s\tremaining: 8.64s\n",
      "589:\tlearn: 0.7599321\ttotal: 12.4s\tremaining: 8.62s\n",
      "590:\tlearn: 0.7593961\ttotal: 12.4s\tremaining: 8.6s\n",
      "591:\tlearn: 0.7590574\ttotal: 12.5s\tremaining: 8.58s\n",
      "592:\tlearn: 0.7585227\ttotal: 12.5s\tremaining: 8.56s\n",
      "593:\tlearn: 0.7579788\ttotal: 12.5s\tremaining: 8.54s\n",
      "594:\tlearn: 0.7575647\ttotal: 12.5s\tremaining: 8.52s\n",
      "595:\tlearn: 0.7569713\ttotal: 12.5s\tremaining: 8.5s\n",
      "596:\tlearn: 0.7563037\ttotal: 12.6s\tremaining: 8.48s\n",
      "597:\tlearn: 0.7557198\ttotal: 12.6s\tremaining: 8.46s\n",
      "598:\tlearn: 0.7551894\ttotal: 12.6s\tremaining: 8.44s\n",
      "599:\tlearn: 0.7546984\ttotal: 12.6s\tremaining: 8.42s\n",
      "600:\tlearn: 0.7543374\ttotal: 12.6s\tremaining: 8.4s\n",
      "601:\tlearn: 0.7538216\ttotal: 12.7s\tremaining: 8.38s\n",
      "602:\tlearn: 0.7533811\ttotal: 12.7s\tremaining: 8.36s\n",
      "603:\tlearn: 0.7529930\ttotal: 12.7s\tremaining: 8.33s\n",
      "604:\tlearn: 0.7524127\ttotal: 12.7s\tremaining: 8.31s\n",
      "605:\tlearn: 0.7519726\ttotal: 12.8s\tremaining: 8.29s\n",
      "606:\tlearn: 0.7516000\ttotal: 12.8s\tremaining: 8.28s\n",
      "607:\tlearn: 0.7512747\ttotal: 12.8s\tremaining: 8.26s\n",
      "608:\tlearn: 0.7508687\ttotal: 12.8s\tremaining: 8.23s\n",
      "609:\tlearn: 0.7502412\ttotal: 12.8s\tremaining: 8.21s\n",
      "610:\tlearn: 0.7498467\ttotal: 12.9s\tremaining: 8.19s\n",
      "611:\tlearn: 0.7494499\ttotal: 12.9s\tremaining: 8.17s\n",
      "612:\tlearn: 0.7489732\ttotal: 12.9s\tremaining: 8.15s\n",
      "613:\tlearn: 0.7485810\ttotal: 12.9s\tremaining: 8.13s\n",
      "614:\tlearn: 0.7483173\ttotal: 13s\tremaining: 8.12s\n",
      "615:\tlearn: 0.7480049\ttotal: 13s\tremaining: 8.1s\n",
      "616:\tlearn: 0.7475112\ttotal: 13s\tremaining: 8.08s\n",
      "617:\tlearn: 0.7470588\ttotal: 13s\tremaining: 8.06s\n",
      "618:\tlearn: 0.7465952\ttotal: 13.1s\tremaining: 8.05s\n",
      "619:\tlearn: 0.7462180\ttotal: 13.1s\tremaining: 8.03s\n",
      "620:\tlearn: 0.7458134\ttotal: 13.1s\tremaining: 8.01s\n",
      "621:\tlearn: 0.7455039\ttotal: 13.2s\tremaining: 7.99s\n",
      "622:\tlearn: 0.7450389\ttotal: 13.2s\tremaining: 7.97s\n",
      "623:\tlearn: 0.7447389\ttotal: 13.2s\tremaining: 7.95s\n",
      "624:\tlearn: 0.7442819\ttotal: 13.2s\tremaining: 7.93s\n",
      "625:\tlearn: 0.7439205\ttotal: 13.2s\tremaining: 7.91s\n",
      "626:\tlearn: 0.7435215\ttotal: 13.3s\tremaining: 7.89s\n",
      "627:\tlearn: 0.7430759\ttotal: 13.3s\tremaining: 7.87s\n",
      "628:\tlearn: 0.7428116\ttotal: 13.3s\tremaining: 7.85s\n",
      "629:\tlearn: 0.7423720\ttotal: 13.3s\tremaining: 7.83s\n",
      "630:\tlearn: 0.7418781\ttotal: 13.3s\tremaining: 7.81s\n",
      "631:\tlearn: 0.7415598\ttotal: 13.4s\tremaining: 7.79s\n",
      "632:\tlearn: 0.7410854\ttotal: 13.4s\tremaining: 7.76s\n",
      "633:\tlearn: 0.7407015\ttotal: 13.4s\tremaining: 7.74s\n",
      "634:\tlearn: 0.7403166\ttotal: 13.4s\tremaining: 7.73s\n",
      "635:\tlearn: 0.7398325\ttotal: 13.5s\tremaining: 7.73s\n",
      "636:\tlearn: 0.7394655\ttotal: 13.5s\tremaining: 7.72s\n",
      "637:\tlearn: 0.7390345\ttotal: 13.6s\tremaining: 7.7s\n",
      "638:\tlearn: 0.7385740\ttotal: 13.6s\tremaining: 7.68s\n",
      "639:\tlearn: 0.7380842\ttotal: 13.6s\tremaining: 7.67s\n",
      "640:\tlearn: 0.7376008\ttotal: 13.7s\tremaining: 7.65s\n",
      "641:\tlearn: 0.7370933\ttotal: 13.7s\tremaining: 7.63s\n",
      "642:\tlearn: 0.7366235\ttotal: 13.7s\tremaining: 7.62s\n",
      "643:\tlearn: 0.7358205\ttotal: 13.7s\tremaining: 7.6s\n",
      "644:\tlearn: 0.7355044\ttotal: 13.8s\tremaining: 7.58s\n",
      "645:\tlearn: 0.7350961\ttotal: 13.8s\tremaining: 7.56s\n",
      "646:\tlearn: 0.7345718\ttotal: 13.8s\tremaining: 7.54s\n",
      "647:\tlearn: 0.7342298\ttotal: 13.8s\tremaining: 7.52s\n",
      "648:\tlearn: 0.7338179\ttotal: 13.9s\tremaining: 7.5s\n",
      "649:\tlearn: 0.7333602\ttotal: 13.9s\tremaining: 7.49s\n",
      "650:\tlearn: 0.7327901\ttotal: 13.9s\tremaining: 7.47s\n",
      "651:\tlearn: 0.7324601\ttotal: 14s\tremaining: 7.45s\n",
      "652:\tlearn: 0.7319656\ttotal: 14s\tremaining: 7.43s\n",
      "653:\tlearn: 0.7313754\ttotal: 14s\tremaining: 7.41s\n",
      "654:\tlearn: 0.7310910\ttotal: 14s\tremaining: 7.39s\n",
      "655:\tlearn: 0.7305632\ttotal: 14.1s\tremaining: 7.37s\n",
      "656:\tlearn: 0.7301486\ttotal: 14.1s\tremaining: 7.35s\n",
      "657:\tlearn: 0.7298273\ttotal: 14.1s\tremaining: 7.33s\n",
      "658:\tlearn: 0.7295093\ttotal: 14.1s\tremaining: 7.31s\n",
      "659:\tlearn: 0.7292628\ttotal: 14.1s\tremaining: 7.29s\n",
      "660:\tlearn: 0.7288804\ttotal: 14.2s\tremaining: 7.26s\n",
      "661:\tlearn: 0.7287476\ttotal: 14.2s\tremaining: 7.24s\n",
      "662:\tlearn: 0.7283999\ttotal: 14.2s\tremaining: 7.22s\n",
      "663:\tlearn: 0.7278761\ttotal: 14.2s\tremaining: 7.2s\n",
      "664:\tlearn: 0.7274437\ttotal: 14.3s\tremaining: 7.18s\n",
      "665:\tlearn: 0.7270674\ttotal: 14.3s\tremaining: 7.16s\n",
      "666:\tlearn: 0.7266676\ttotal: 14.3s\tremaining: 7.14s\n",
      "667:\tlearn: 0.7262503\ttotal: 14.3s\tremaining: 7.12s\n",
      "668:\tlearn: 0.7258202\ttotal: 14.3s\tremaining: 7.1s\n",
      "669:\tlearn: 0.7255223\ttotal: 14.4s\tremaining: 7.08s\n",
      "670:\tlearn: 0.7251290\ttotal: 14.4s\tremaining: 7.05s\n",
      "671:\tlearn: 0.7249164\ttotal: 14.4s\tremaining: 7.04s\n",
      "672:\tlearn: 0.7245668\ttotal: 14.4s\tremaining: 7.01s\n",
      "673:\tlearn: 0.7241494\ttotal: 14.5s\tremaining: 6.99s\n",
      "674:\tlearn: 0.7237692\ttotal: 14.5s\tremaining: 6.97s\n",
      "675:\tlearn: 0.7233655\ttotal: 14.5s\tremaining: 6.95s\n",
      "676:\tlearn: 0.7228905\ttotal: 14.5s\tremaining: 6.93s\n",
      "677:\tlearn: 0.7226661\ttotal: 14.5s\tremaining: 6.91s\n",
      "678:\tlearn: 0.7224347\ttotal: 14.6s\tremaining: 6.88s\n",
      "679:\tlearn: 0.7218777\ttotal: 14.6s\tremaining: 6.86s\n",
      "680:\tlearn: 0.7214061\ttotal: 14.6s\tremaining: 6.84s\n",
      "681:\tlearn: 0.7211089\ttotal: 14.6s\tremaining: 6.82s\n",
      "682:\tlearn: 0.7207490\ttotal: 14.7s\tremaining: 6.8s\n",
      "683:\tlearn: 0.7204493\ttotal: 14.7s\tremaining: 6.78s\n",
      "684:\tlearn: 0.7200998\ttotal: 14.7s\tremaining: 6.76s\n",
      "685:\tlearn: 0.7197810\ttotal: 14.7s\tremaining: 6.74s\n",
      "686:\tlearn: 0.7193974\ttotal: 14.7s\tremaining: 6.72s\n",
      "687:\tlearn: 0.7189693\ttotal: 14.8s\tremaining: 6.69s\n",
      "688:\tlearn: 0.7185894\ttotal: 14.8s\tremaining: 6.67s\n",
      "689:\tlearn: 0.7181465\ttotal: 14.8s\tremaining: 6.65s\n",
      "690:\tlearn: 0.7176322\ttotal: 14.8s\tremaining: 6.63s\n",
      "691:\tlearn: 0.7172224\ttotal: 14.8s\tremaining: 6.61s\n",
      "692:\tlearn: 0.7167201\ttotal: 14.9s\tremaining: 6.58s\n",
      "693:\tlearn: 0.7163500\ttotal: 14.9s\tremaining: 6.56s\n",
      "694:\tlearn: 0.7158977\ttotal: 14.9s\tremaining: 6.54s\n",
      "695:\tlearn: 0.7154977\ttotal: 14.9s\tremaining: 6.51s\n",
      "696:\tlearn: 0.7150450\ttotal: 14.9s\tremaining: 6.49s\n",
      "697:\tlearn: 0.7146086\ttotal: 15s\tremaining: 6.47s\n",
      "698:\tlearn: 0.7142291\ttotal: 15s\tremaining: 6.45s\n",
      "699:\tlearn: 0.7139096\ttotal: 15s\tremaining: 6.42s\n",
      "700:\tlearn: 0.7134328\ttotal: 15s\tremaining: 6.4s\n",
      "701:\tlearn: 0.7130411\ttotal: 15s\tremaining: 6.38s\n",
      "702:\tlearn: 0.7126711\ttotal: 15.1s\tremaining: 6.36s\n",
      "703:\tlearn: 0.7123947\ttotal: 15.1s\tremaining: 6.34s\n",
      "704:\tlearn: 0.7119591\ttotal: 15.1s\tremaining: 6.32s\n",
      "705:\tlearn: 0.7115077\ttotal: 15.1s\tremaining: 6.29s\n",
      "706:\tlearn: 0.7110867\ttotal: 15.1s\tremaining: 6.27s\n",
      "707:\tlearn: 0.7107695\ttotal: 15.2s\tremaining: 6.25s\n",
      "708:\tlearn: 0.7103641\ttotal: 15.2s\tremaining: 6.23s\n",
      "709:\tlearn: 0.7099904\ttotal: 15.2s\tremaining: 6.21s\n",
      "710:\tlearn: 0.7095545\ttotal: 15.2s\tremaining: 6.19s\n",
      "711:\tlearn: 0.7092027\ttotal: 15.2s\tremaining: 6.17s\n",
      "712:\tlearn: 0.7086422\ttotal: 15.3s\tremaining: 6.14s\n",
      "713:\tlearn: 0.7083052\ttotal: 15.3s\tremaining: 6.12s\n",
      "714:\tlearn: 0.7078796\ttotal: 15.3s\tremaining: 6.1s\n",
      "715:\tlearn: 0.7075727\ttotal: 15.3s\tremaining: 6.08s\n",
      "716:\tlearn: 0.7072558\ttotal: 15.3s\tremaining: 6.06s\n",
      "717:\tlearn: 0.7067265\ttotal: 15.4s\tremaining: 6.04s\n",
      "718:\tlearn: 0.7063795\ttotal: 15.4s\tremaining: 6.01s\n",
      "719:\tlearn: 0.7061006\ttotal: 15.4s\tremaining: 5.99s\n",
      "720:\tlearn: 0.7056405\ttotal: 15.4s\tremaining: 5.97s\n",
      "721:\tlearn: 0.7050763\ttotal: 15.5s\tremaining: 5.95s\n",
      "722:\tlearn: 0.7046997\ttotal: 15.5s\tremaining: 5.93s\n",
      "723:\tlearn: 0.7042430\ttotal: 15.5s\tremaining: 5.91s\n",
      "724:\tlearn: 0.7039471\ttotal: 15.5s\tremaining: 5.89s\n",
      "725:\tlearn: 0.7034230\ttotal: 15.5s\tremaining: 5.86s\n",
      "726:\tlearn: 0.7029552\ttotal: 15.6s\tremaining: 5.84s\n",
      "727:\tlearn: 0.7025581\ttotal: 15.6s\tremaining: 5.82s\n",
      "728:\tlearn: 0.7021219\ttotal: 15.6s\tremaining: 5.8s\n",
      "729:\tlearn: 0.7016775\ttotal: 15.6s\tremaining: 5.78s\n",
      "730:\tlearn: 0.7013956\ttotal: 15.6s\tremaining: 5.75s\n",
      "731:\tlearn: 0.7009300\ttotal: 15.7s\tremaining: 5.73s\n",
      "732:\tlearn: 0.7005172\ttotal: 15.7s\tremaining: 5.71s\n",
      "733:\tlearn: 0.7001981\ttotal: 15.7s\tremaining: 5.69s\n",
      "734:\tlearn: 0.6998170\ttotal: 15.7s\tremaining: 5.67s\n",
      "735:\tlearn: 0.6994319\ttotal: 15.7s\tremaining: 5.64s\n",
      "736:\tlearn: 0.6991025\ttotal: 15.8s\tremaining: 5.62s\n",
      "737:\tlearn: 0.6988694\ttotal: 15.8s\tremaining: 5.6s\n",
      "738:\tlearn: 0.6984161\ttotal: 15.8s\tremaining: 5.58s\n",
      "739:\tlearn: 0.6980316\ttotal: 15.8s\tremaining: 5.56s\n",
      "740:\tlearn: 0.6976771\ttotal: 15.8s\tremaining: 5.54s\n",
      "741:\tlearn: 0.6973348\ttotal: 15.9s\tremaining: 5.52s\n",
      "742:\tlearn: 0.6969988\ttotal: 15.9s\tremaining: 5.5s\n",
      "743:\tlearn: 0.6967817\ttotal: 15.9s\tremaining: 5.48s\n",
      "744:\tlearn: 0.6962690\ttotal: 15.9s\tremaining: 5.46s\n",
      "745:\tlearn: 0.6959054\ttotal: 16s\tremaining: 5.43s\n",
      "746:\tlearn: 0.6955056\ttotal: 16s\tremaining: 5.41s\n",
      "747:\tlearn: 0.6951620\ttotal: 16s\tremaining: 5.39s\n",
      "748:\tlearn: 0.6947462\ttotal: 16s\tremaining: 5.37s\n",
      "749:\tlearn: 0.6942810\ttotal: 16.1s\tremaining: 5.35s\n",
      "750:\tlearn: 0.6940194\ttotal: 16.1s\tremaining: 5.33s\n",
      "751:\tlearn: 0.6936056\ttotal: 16.1s\tremaining: 5.32s\n",
      "752:\tlearn: 0.6932533\ttotal: 16.1s\tremaining: 5.29s\n",
      "753:\tlearn: 0.6928669\ttotal: 16.2s\tremaining: 5.27s\n",
      "754:\tlearn: 0.6923595\ttotal: 16.2s\tremaining: 5.25s\n",
      "755:\tlearn: 0.6920910\ttotal: 16.2s\tremaining: 5.23s\n",
      "756:\tlearn: 0.6917281\ttotal: 16.2s\tremaining: 5.21s\n",
      "757:\tlearn: 0.6913814\ttotal: 16.3s\tremaining: 5.19s\n",
      "758:\tlearn: 0.6909919\ttotal: 16.3s\tremaining: 5.17s\n",
      "759:\tlearn: 0.6904900\ttotal: 16.3s\tremaining: 5.15s\n",
      "760:\tlearn: 0.6901431\ttotal: 16.3s\tremaining: 5.13s\n",
      "761:\tlearn: 0.6895913\ttotal: 16.4s\tremaining: 5.11s\n",
      "762:\tlearn: 0.6891400\ttotal: 16.4s\tremaining: 5.09s\n",
      "763:\tlearn: 0.6886584\ttotal: 16.4s\tremaining: 5.07s\n",
      "764:\tlearn: 0.6883682\ttotal: 16.4s\tremaining: 5.05s\n",
      "765:\tlearn: 0.6880876\ttotal: 16.5s\tremaining: 5.03s\n",
      "766:\tlearn: 0.6876691\ttotal: 16.5s\tremaining: 5.01s\n",
      "767:\tlearn: 0.6872937\ttotal: 16.5s\tremaining: 4.99s\n",
      "768:\tlearn: 0.6867048\ttotal: 16.5s\tremaining: 4.97s\n",
      "769:\tlearn: 0.6862263\ttotal: 16.6s\tremaining: 4.95s\n",
      "770:\tlearn: 0.6858304\ttotal: 16.6s\tremaining: 4.94s\n",
      "771:\tlearn: 0.6854968\ttotal: 16.6s\tremaining: 4.92s\n",
      "772:\tlearn: 0.6851872\ttotal: 16.7s\tremaining: 4.89s\n",
      "773:\tlearn: 0.6847462\ttotal: 16.7s\tremaining: 4.87s\n",
      "774:\tlearn: 0.6842203\ttotal: 16.7s\tremaining: 4.85s\n",
      "775:\tlearn: 0.6836887\ttotal: 16.7s\tremaining: 4.83s\n",
      "776:\tlearn: 0.6833634\ttotal: 16.8s\tremaining: 4.81s\n",
      "777:\tlearn: 0.6828770\ttotal: 16.8s\tremaining: 4.79s\n",
      "778:\tlearn: 0.6825332\ttotal: 16.8s\tremaining: 4.77s\n",
      "779:\tlearn: 0.6822892\ttotal: 16.8s\tremaining: 4.75s\n",
      "780:\tlearn: 0.6819573\ttotal: 16.9s\tremaining: 4.73s\n",
      "781:\tlearn: 0.6816580\ttotal: 16.9s\tremaining: 4.7s\n",
      "782:\tlearn: 0.6812308\ttotal: 16.9s\tremaining: 4.68s\n",
      "783:\tlearn: 0.6809017\ttotal: 16.9s\tremaining: 4.66s\n",
      "784:\tlearn: 0.6805180\ttotal: 16.9s\tremaining: 4.64s\n",
      "785:\tlearn: 0.6801783\ttotal: 17s\tremaining: 4.62s\n",
      "786:\tlearn: 0.6797350\ttotal: 17s\tremaining: 4.6s\n",
      "787:\tlearn: 0.6794255\ttotal: 17s\tremaining: 4.58s\n",
      "788:\tlearn: 0.6789684\ttotal: 17s\tremaining: 4.56s\n",
      "789:\tlearn: 0.6785623\ttotal: 17.1s\tremaining: 4.54s\n",
      "790:\tlearn: 0.6780285\ttotal: 17.1s\tremaining: 4.51s\n",
      "791:\tlearn: 0.6777858\ttotal: 17.1s\tremaining: 4.49s\n",
      "792:\tlearn: 0.6773673\ttotal: 17.1s\tremaining: 4.47s\n",
      "793:\tlearn: 0.6770427\ttotal: 17.2s\tremaining: 4.45s\n",
      "794:\tlearn: 0.6766713\ttotal: 17.2s\tremaining: 4.43s\n",
      "795:\tlearn: 0.6764144\ttotal: 17.2s\tremaining: 4.41s\n",
      "796:\tlearn: 0.6758588\ttotal: 17.2s\tremaining: 4.39s\n",
      "797:\tlearn: 0.6753572\ttotal: 17.3s\tremaining: 4.37s\n",
      "798:\tlearn: 0.6750289\ttotal: 17.3s\tremaining: 4.35s\n",
      "799:\tlearn: 0.6745772\ttotal: 17.3s\tremaining: 4.33s\n",
      "800:\tlearn: 0.6742332\ttotal: 17.3s\tremaining: 4.3s\n",
      "801:\tlearn: 0.6739344\ttotal: 17.3s\tremaining: 4.28s\n",
      "802:\tlearn: 0.6735798\ttotal: 17.4s\tremaining: 4.26s\n",
      "803:\tlearn: 0.6732500\ttotal: 17.4s\tremaining: 4.24s\n",
      "804:\tlearn: 0.6729277\ttotal: 17.4s\tremaining: 4.21s\n",
      "805:\tlearn: 0.6725235\ttotal: 17.4s\tremaining: 4.19s\n",
      "806:\tlearn: 0.6720980\ttotal: 17.4s\tremaining: 4.17s\n",
      "807:\tlearn: 0.6717384\ttotal: 17.4s\tremaining: 4.15s\n",
      "808:\tlearn: 0.6714364\ttotal: 17.5s\tremaining: 4.12s\n",
      "809:\tlearn: 0.6710031\ttotal: 17.5s\tremaining: 4.1s\n",
      "810:\tlearn: 0.6706984\ttotal: 17.5s\tremaining: 4.08s\n",
      "811:\tlearn: 0.6702506\ttotal: 17.5s\tremaining: 4.06s\n",
      "812:\tlearn: 0.6699475\ttotal: 17.5s\tremaining: 4.04s\n",
      "813:\tlearn: 0.6695866\ttotal: 17.6s\tremaining: 4.01s\n",
      "814:\tlearn: 0.6692950\ttotal: 17.6s\tremaining: 3.99s\n",
      "815:\tlearn: 0.6690584\ttotal: 17.6s\tremaining: 3.97s\n",
      "816:\tlearn: 0.6687210\ttotal: 17.6s\tremaining: 3.95s\n",
      "817:\tlearn: 0.6683820\ttotal: 17.6s\tremaining: 3.92s\n",
      "818:\tlearn: 0.6680660\ttotal: 17.7s\tremaining: 3.9s\n",
      "819:\tlearn: 0.6676511\ttotal: 17.7s\tremaining: 3.88s\n",
      "820:\tlearn: 0.6673519\ttotal: 17.7s\tremaining: 3.86s\n",
      "821:\tlearn: 0.6667845\ttotal: 17.7s\tremaining: 3.84s\n",
      "822:\tlearn: 0.6664480\ttotal: 17.7s\tremaining: 3.81s\n",
      "823:\tlearn: 0.6661211\ttotal: 17.8s\tremaining: 3.79s\n",
      "824:\tlearn: 0.6658722\ttotal: 17.8s\tremaining: 3.77s\n",
      "825:\tlearn: 0.6655237\ttotal: 17.8s\tremaining: 3.75s\n",
      "826:\tlearn: 0.6652537\ttotal: 17.8s\tremaining: 3.73s\n",
      "827:\tlearn: 0.6648504\ttotal: 17.9s\tremaining: 3.71s\n",
      "828:\tlearn: 0.6645525\ttotal: 17.9s\tremaining: 3.69s\n",
      "829:\tlearn: 0.6640966\ttotal: 17.9s\tremaining: 3.66s\n",
      "830:\tlearn: 0.6636833\ttotal: 17.9s\tremaining: 3.64s\n",
      "831:\tlearn: 0.6634131\ttotal: 17.9s\tremaining: 3.62s\n",
      "832:\tlearn: 0.6632083\ttotal: 18s\tremaining: 3.6s\n",
      "833:\tlearn: 0.6628908\ttotal: 18s\tremaining: 3.58s\n",
      "834:\tlearn: 0.6623372\ttotal: 18s\tremaining: 3.56s\n",
      "835:\tlearn: 0.6618804\ttotal: 18s\tremaining: 3.53s\n",
      "836:\tlearn: 0.6615290\ttotal: 18s\tremaining: 3.51s\n",
      "837:\tlearn: 0.6610425\ttotal: 18.1s\tremaining: 3.49s\n",
      "838:\tlearn: 0.6604290\ttotal: 18.1s\tremaining: 3.47s\n",
      "839:\tlearn: 0.6600354\ttotal: 18.1s\tremaining: 3.45s\n",
      "840:\tlearn: 0.6596455\ttotal: 18.1s\tremaining: 3.43s\n",
      "841:\tlearn: 0.6592949\ttotal: 18.2s\tremaining: 3.41s\n",
      "842:\tlearn: 0.6589867\ttotal: 18.2s\tremaining: 3.38s\n",
      "843:\tlearn: 0.6585637\ttotal: 18.2s\tremaining: 3.36s\n",
      "844:\tlearn: 0.6581051\ttotal: 18.2s\tremaining: 3.34s\n",
      "845:\tlearn: 0.6577984\ttotal: 18.2s\tremaining: 3.32s\n",
      "846:\tlearn: 0.6573773\ttotal: 18.3s\tremaining: 3.3s\n",
      "847:\tlearn: 0.6568701\ttotal: 18.3s\tremaining: 3.28s\n",
      "848:\tlearn: 0.6565640\ttotal: 18.3s\tremaining: 3.25s\n",
      "849:\tlearn: 0.6561655\ttotal: 18.3s\tremaining: 3.23s\n",
      "850:\tlearn: 0.6557298\ttotal: 18.3s\tremaining: 3.21s\n",
      "851:\tlearn: 0.6553403\ttotal: 18.4s\tremaining: 3.19s\n",
      "852:\tlearn: 0.6549571\ttotal: 18.4s\tremaining: 3.17s\n",
      "853:\tlearn: 0.6547141\ttotal: 18.4s\tremaining: 3.15s\n",
      "854:\tlearn: 0.6543522\ttotal: 18.4s\tremaining: 3.12s\n",
      "855:\tlearn: 0.6539943\ttotal: 18.4s\tremaining: 3.1s\n",
      "856:\tlearn: 0.6535735\ttotal: 18.5s\tremaining: 3.08s\n",
      "857:\tlearn: 0.6531701\ttotal: 18.5s\tremaining: 3.06s\n",
      "858:\tlearn: 0.6526906\ttotal: 18.5s\tremaining: 3.04s\n",
      "859:\tlearn: 0.6522337\ttotal: 18.5s\tremaining: 3.02s\n",
      "860:\tlearn: 0.6519915\ttotal: 18.6s\tremaining: 3s\n",
      "861:\tlearn: 0.6516751\ttotal: 18.6s\tremaining: 2.97s\n",
      "862:\tlearn: 0.6513992\ttotal: 18.6s\tremaining: 2.95s\n",
      "863:\tlearn: 0.6511549\ttotal: 18.6s\tremaining: 2.93s\n",
      "864:\tlearn: 0.6507485\ttotal: 18.7s\tremaining: 2.91s\n",
      "865:\tlearn: 0.6503909\ttotal: 18.7s\tremaining: 2.89s\n",
      "866:\tlearn: 0.6501994\ttotal: 18.7s\tremaining: 2.87s\n",
      "867:\tlearn: 0.6497613\ttotal: 18.7s\tremaining: 2.85s\n",
      "868:\tlearn: 0.6494089\ttotal: 18.8s\tremaining: 2.83s\n",
      "869:\tlearn: 0.6490875\ttotal: 18.8s\tremaining: 2.81s\n",
      "870:\tlearn: 0.6487744\ttotal: 18.8s\tremaining: 2.79s\n",
      "871:\tlearn: 0.6485158\ttotal: 18.8s\tremaining: 2.76s\n",
      "872:\tlearn: 0.6480251\ttotal: 18.9s\tremaining: 2.74s\n",
      "873:\tlearn: 0.6475717\ttotal: 18.9s\tremaining: 2.72s\n",
      "874:\tlearn: 0.6472475\ttotal: 18.9s\tremaining: 2.7s\n",
      "875:\tlearn: 0.6468616\ttotal: 18.9s\tremaining: 2.68s\n",
      "876:\tlearn: 0.6465842\ttotal: 19s\tremaining: 2.66s\n",
      "877:\tlearn: 0.6463532\ttotal: 19s\tremaining: 2.64s\n",
      "878:\tlearn: 0.6460142\ttotal: 19s\tremaining: 2.62s\n",
      "879:\tlearn: 0.6455877\ttotal: 19s\tremaining: 2.6s\n",
      "880:\tlearn: 0.6452688\ttotal: 19.1s\tremaining: 2.58s\n",
      "881:\tlearn: 0.6449092\ttotal: 19.1s\tremaining: 2.56s\n",
      "882:\tlearn: 0.6444502\ttotal: 19.2s\tremaining: 2.54s\n",
      "883:\tlearn: 0.6441063\ttotal: 19.2s\tremaining: 2.52s\n",
      "884:\tlearn: 0.6438137\ttotal: 19.2s\tremaining: 2.5s\n",
      "885:\tlearn: 0.6432826\ttotal: 19.2s\tremaining: 2.48s\n",
      "886:\tlearn: 0.6429615\ttotal: 19.3s\tremaining: 2.45s\n",
      "887:\tlearn: 0.6425148\ttotal: 19.3s\tremaining: 2.43s\n",
      "888:\tlearn: 0.6420630\ttotal: 19.3s\tremaining: 2.41s\n",
      "889:\tlearn: 0.6417044\ttotal: 19.3s\tremaining: 2.39s\n",
      "890:\tlearn: 0.6412934\ttotal: 19.4s\tremaining: 2.37s\n",
      "891:\tlearn: 0.6409304\ttotal: 19.4s\tremaining: 2.35s\n",
      "892:\tlearn: 0.6405531\ttotal: 19.4s\tremaining: 2.33s\n",
      "893:\tlearn: 0.6402666\ttotal: 19.4s\tremaining: 2.31s\n",
      "894:\tlearn: 0.6398422\ttotal: 19.5s\tremaining: 2.28s\n",
      "895:\tlearn: 0.6395176\ttotal: 19.5s\tremaining: 2.26s\n",
      "896:\tlearn: 0.6392012\ttotal: 19.5s\tremaining: 2.24s\n",
      "897:\tlearn: 0.6389239\ttotal: 19.5s\tremaining: 2.22s\n",
      "898:\tlearn: 0.6383756\ttotal: 19.5s\tremaining: 2.2s\n",
      "899:\tlearn: 0.6380046\ttotal: 19.6s\tremaining: 2.17s\n",
      "900:\tlearn: 0.6375295\ttotal: 19.6s\tremaining: 2.15s\n",
      "901:\tlearn: 0.6372865\ttotal: 19.6s\tremaining: 2.13s\n",
      "902:\tlearn: 0.6369328\ttotal: 19.6s\tremaining: 2.11s\n",
      "903:\tlearn: 0.6366410\ttotal: 19.7s\tremaining: 2.09s\n",
      "904:\tlearn: 0.6363072\ttotal: 19.7s\tremaining: 2.07s\n",
      "905:\tlearn: 0.6359005\ttotal: 19.7s\tremaining: 2.04s\n",
      "906:\tlearn: 0.6354637\ttotal: 19.7s\tremaining: 2.02s\n",
      "907:\tlearn: 0.6351154\ttotal: 19.8s\tremaining: 2s\n",
      "908:\tlearn: 0.6346023\ttotal: 19.8s\tremaining: 1.98s\n",
      "909:\tlearn: 0.6344361\ttotal: 19.8s\tremaining: 1.96s\n",
      "910:\tlearn: 0.6339195\ttotal: 19.8s\tremaining: 1.94s\n",
      "911:\tlearn: 0.6336161\ttotal: 19.9s\tremaining: 1.92s\n",
      "912:\tlearn: 0.6332884\ttotal: 19.9s\tremaining: 1.89s\n",
      "913:\tlearn: 0.6329576\ttotal: 19.9s\tremaining: 1.87s\n",
      "914:\tlearn: 0.6326265\ttotal: 19.9s\tremaining: 1.85s\n",
      "915:\tlearn: 0.6322447\ttotal: 19.9s\tremaining: 1.83s\n",
      "916:\tlearn: 0.6318356\ttotal: 20s\tremaining: 1.81s\n",
      "917:\tlearn: 0.6314630\ttotal: 20s\tremaining: 1.78s\n",
      "918:\tlearn: 0.6310865\ttotal: 20s\tremaining: 1.76s\n",
      "919:\tlearn: 0.6308318\ttotal: 20s\tremaining: 1.74s\n",
      "920:\tlearn: 0.6304813\ttotal: 20.1s\tremaining: 1.72s\n",
      "921:\tlearn: 0.6300817\ttotal: 20.1s\tremaining: 1.7s\n",
      "922:\tlearn: 0.6297406\ttotal: 20.1s\tremaining: 1.68s\n",
      "923:\tlearn: 0.6295682\ttotal: 20.1s\tremaining: 1.65s\n",
      "924:\tlearn: 0.6294277\ttotal: 20.1s\tremaining: 1.63s\n",
      "925:\tlearn: 0.6290160\ttotal: 20.2s\tremaining: 1.61s\n",
      "926:\tlearn: 0.6287422\ttotal: 20.2s\tremaining: 1.59s\n",
      "927:\tlearn: 0.6283839\ttotal: 20.2s\tremaining: 1.57s\n",
      "928:\tlearn: 0.6281005\ttotal: 20.2s\tremaining: 1.54s\n",
      "929:\tlearn: 0.6276148\ttotal: 20.2s\tremaining: 1.52s\n",
      "930:\tlearn: 0.6273199\ttotal: 20.3s\tremaining: 1.5s\n",
      "931:\tlearn: 0.6269857\ttotal: 20.3s\tremaining: 1.48s\n",
      "932:\tlearn: 0.6265201\ttotal: 20.3s\tremaining: 1.46s\n",
      "933:\tlearn: 0.6262109\ttotal: 20.3s\tremaining: 1.44s\n",
      "934:\tlearn: 0.6259753\ttotal: 20.4s\tremaining: 1.42s\n",
      "935:\tlearn: 0.6257547\ttotal: 20.4s\tremaining: 1.39s\n",
      "936:\tlearn: 0.6254275\ttotal: 20.4s\tremaining: 1.37s\n",
      "937:\tlearn: 0.6250027\ttotal: 20.4s\tremaining: 1.35s\n",
      "938:\tlearn: 0.6246131\ttotal: 20.4s\tremaining: 1.33s\n",
      "939:\tlearn: 0.6242818\ttotal: 20.5s\tremaining: 1.31s\n",
      "940:\tlearn: 0.6240204\ttotal: 20.5s\tremaining: 1.28s\n",
      "941:\tlearn: 0.6238824\ttotal: 20.5s\tremaining: 1.26s\n",
      "942:\tlearn: 0.6233984\ttotal: 20.5s\tremaining: 1.24s\n",
      "943:\tlearn: 0.6230098\ttotal: 20.5s\tremaining: 1.22s\n",
      "944:\tlearn: 0.6227640\ttotal: 20.6s\tremaining: 1.2s\n",
      "945:\tlearn: 0.6225661\ttotal: 20.6s\tremaining: 1.18s\n",
      "946:\tlearn: 0.6223101\ttotal: 20.6s\tremaining: 1.15s\n",
      "947:\tlearn: 0.6219371\ttotal: 20.6s\tremaining: 1.13s\n",
      "948:\tlearn: 0.6215816\ttotal: 20.6s\tremaining: 1.11s\n",
      "949:\tlearn: 0.6212659\ttotal: 20.7s\tremaining: 1.09s\n",
      "950:\tlearn: 0.6209435\ttotal: 20.7s\tremaining: 1.06s\n",
      "951:\tlearn: 0.6206183\ttotal: 20.7s\tremaining: 1.04s\n",
      "952:\tlearn: 0.6202931\ttotal: 20.7s\tremaining: 1.02s\n",
      "953:\tlearn: 0.6200758\ttotal: 20.7s\tremaining: 1s\n",
      "954:\tlearn: 0.6198117\ttotal: 20.8s\tremaining: 978ms\n",
      "955:\tlearn: 0.6193568\ttotal: 20.8s\tremaining: 956ms\n",
      "956:\tlearn: 0.6189937\ttotal: 20.8s\tremaining: 934ms\n",
      "957:\tlearn: 0.6185718\ttotal: 20.8s\tremaining: 913ms\n",
      "958:\tlearn: 0.6182329\ttotal: 20.8s\tremaining: 891ms\n",
      "959:\tlearn: 0.6178962\ttotal: 20.9s\tremaining: 869ms\n",
      "960:\tlearn: 0.6175384\ttotal: 20.9s\tremaining: 847ms\n",
      "961:\tlearn: 0.6173250\ttotal: 20.9s\tremaining: 825ms\n",
      "962:\tlearn: 0.6169594\ttotal: 20.9s\tremaining: 804ms\n",
      "963:\tlearn: 0.6166316\ttotal: 20.9s\tremaining: 782ms\n",
      "964:\tlearn: 0.6161973\ttotal: 21s\tremaining: 760ms\n",
      "965:\tlearn: 0.6159080\ttotal: 21s\tremaining: 738ms\n",
      "966:\tlearn: 0.6156248\ttotal: 21s\tremaining: 716ms\n",
      "967:\tlearn: 0.6152228\ttotal: 21s\tremaining: 695ms\n",
      "968:\tlearn: 0.6148877\ttotal: 21s\tremaining: 673ms\n",
      "969:\tlearn: 0.6144832\ttotal: 21s\tremaining: 651ms\n",
      "970:\tlearn: 0.6141243\ttotal: 21.1s\tremaining: 629ms\n",
      "971:\tlearn: 0.6138048\ttotal: 21.1s\tremaining: 607ms\n",
      "972:\tlearn: 0.6135910\ttotal: 21.1s\tremaining: 586ms\n",
      "973:\tlearn: 0.6133314\ttotal: 21.1s\tremaining: 564ms\n",
      "974:\tlearn: 0.6129387\ttotal: 21.2s\tremaining: 542ms\n",
      "975:\tlearn: 0.6127117\ttotal: 21.2s\tremaining: 521ms\n",
      "976:\tlearn: 0.6124441\ttotal: 21.2s\tremaining: 499ms\n",
      "977:\tlearn: 0.6119802\ttotal: 21.2s\tremaining: 477ms\n",
      "978:\tlearn: 0.6117560\ttotal: 21.2s\tremaining: 456ms\n",
      "979:\tlearn: 0.6113224\ttotal: 21.3s\tremaining: 434ms\n",
      "980:\tlearn: 0.6109179\ttotal: 21.3s\tremaining: 412ms\n",
      "981:\tlearn: 0.6106315\ttotal: 21.3s\tremaining: 390ms\n",
      "982:\tlearn: 0.6102937\ttotal: 21.3s\tremaining: 369ms\n",
      "983:\tlearn: 0.6100383\ttotal: 21.3s\tremaining: 347ms\n",
      "984:\tlearn: 0.6097256\ttotal: 21.4s\tremaining: 325ms\n",
      "985:\tlearn: 0.6093471\ttotal: 21.4s\tremaining: 304ms\n",
      "986:\tlearn: 0.6089757\ttotal: 21.4s\tremaining: 282ms\n",
      "987:\tlearn: 0.6085827\ttotal: 21.4s\tremaining: 260ms\n",
      "988:\tlearn: 0.6084038\ttotal: 21.5s\tremaining: 239ms\n",
      "989:\tlearn: 0.6079280\ttotal: 21.5s\tremaining: 217ms\n",
      "990:\tlearn: 0.6077047\ttotal: 21.5s\tremaining: 195ms\n",
      "991:\tlearn: 0.6074062\ttotal: 21.5s\tremaining: 174ms\n",
      "992:\tlearn: 0.6069299\ttotal: 21.5s\tremaining: 152ms\n",
      "993:\tlearn: 0.6065418\ttotal: 21.6s\tremaining: 130ms\n",
      "994:\tlearn: 0.6063207\ttotal: 21.6s\tremaining: 108ms\n",
      "995:\tlearn: 0.6058957\ttotal: 21.6s\tremaining: 86.7ms\n",
      "996:\tlearn: 0.6055307\ttotal: 21.6s\tremaining: 65.1ms\n",
      "997:\tlearn: 0.6050217\ttotal: 21.6s\tremaining: 43.4ms\n",
      "998:\tlearn: 0.6046348\ttotal: 21.7s\tremaining: 21.7ms\n",
      "999:\tlearn: 0.6042956\ttotal: 21.7s\tremaining: 0us\n"
     ]
    }
   ],
   "source": [
    "classifier = CatBoostClassifier(random_state=142, iterations=1000)\n",
    "classifier.fit(X_train, y_train, cat_features=cat_features)\n",
    "y_pred = classifier.predict(X_test)\n"
   ],
   "metadata": {
    "collapsed": false,
    "pycharm": {
     "name": "#%%\n"
    }
   }
  },
  {
   "cell_type": "code",
   "execution_count": 27,
   "outputs": [
    {
     "name": "stdout",
     "output_type": "stream",
     "text": [
      "              precision    recall  f1-score   support\n",
      "\n",
      "           0       0.41      0.41      0.41      1916\n",
      "           1       0.37      0.33      0.35      1958\n",
      "           2       0.44      0.48      0.46      2016\n",
      "\n",
      "    accuracy                           0.41      5890\n",
      "   macro avg       0.41      0.41      0.41      5890\n",
      "weighted avg       0.41      0.41      0.41      5890\n",
      "\n"
     ]
    }
   ],
   "source": [
    "print(classification_report(y_test, y_pred))"
   ],
   "metadata": {
    "collapsed": false,
    "pycharm": {
     "name": "#%%\n"
    }
   }
  },
  {
   "cell_type": "code",
   "execution_count": 28,
   "outputs": [
    {
     "data": {
      "text/plain": "0.5829767050546896"
     },
     "execution_count": 28,
     "metadata": {},
     "output_type": "execute_result"
    }
   ],
   "source": [
    "y_preb_probs = classifier.predict_proba(X_test)\n",
    "\n",
    "roc_auc_score(y_test, y_preb_probs, average=\"weighted\", multi_class=\"ovr\")\n",
    "# roc_auc_score(y_test, y_preb_probs)"
   ],
   "metadata": {
    "collapsed": false,
    "pycharm": {
     "name": "#%%\n"
    }
   }
  },
  {
   "cell_type": "code",
   "execution_count": 29,
   "outputs": [
    {
     "data": {
      "text/plain": "{'learn': {'MultiClass': 0.6042956056798351}}"
     },
     "execution_count": 29,
     "metadata": {},
     "output_type": "execute_result"
    }
   ],
   "source": [
    "classifier.best_score_"
   ],
   "metadata": {
    "collapsed": false,
    "pycharm": {
     "name": "#%%\n"
    }
   }
  },
  {
   "cell_type": "code",
   "execution_count": 30,
   "outputs": [],
   "source": [
    "def show_feature_importances(feature_names, feature_importances, get_top=None):\n",
    "    feature_importances = pd.DataFrame({'feature': feature_names, 'importance': feature_importances})\n",
    "    feature_importances = feature_importances.sort_values('importance', ascending=False)\n",
    "\n",
    "    plt.figure(figsize = (20, len(feature_importances) * 0.355))\n",
    "\n",
    "    sns.barplot(feature_importances['importance'], feature_importances['feature'])\n",
    "\n",
    "    plt.xlabel('Importance')\n",
    "    plt.title('Importance of features')\n",
    "    plt.show()\n",
    "\n",
    "    if get_top is not None:\n",
    "        return feature_importances['feature'][:get_top].tolist()"
   ],
   "metadata": {
    "collapsed": false,
    "pycharm": {
     "name": "#%%\n"
    }
   }
  },
  {
   "cell_type": "code",
   "execution_count": 31,
   "outputs": [
    {
     "name": "stderr",
     "output_type": "stream",
     "text": [
      "/Users/19623922/Desktop/timeseries_analysis/etl/lib/python3.8/site-packages/seaborn/_decorators.py:36: FutureWarning: Pass the following variables as keyword args: x, y. From version 0.12, the only valid positional argument will be `data`, and passing other arguments without an explicit keyword will result in an error or misinterpretation.\n",
      "  warnings.warn(\n"
     ]
    },
    {
     "data": {
      "text/plain": "<Figure size 1440x1993.68 with 1 Axes>",
      "image/png": "[encoded data removed]"
     },
     "metadata": {
      "needs_background": "light"
     },
     "output_type": "display_data"
    },
    {
     "name": "stdout",
     "output_type": "stream",
     "text": [
      "['Question', 'data_2_phase_3', 'data_2_phase_4', 'data_2_phase_1', 'data_2_phase_7', 'data_phase_1', 'data_phase_5', 'data_2_phase_9', 'data_2_phase_2', 'data_phase_2', 'r_ds', 'data_2_phase_6', 'data_2_phase_8', 'data_amp_4', 'data_2_phase_5']\n"
     ]
    }
   ],
   "source": [
    "important_features_top = show_feature_importances(X_train.columns, classifier.feature_importances_, get_top=15)\n",
    "print(important_features_top)"
   ],
   "metadata": {
    "collapsed": false,
    "pycharm": {
     "name": "#%%\n"
    }
   }
  },
  {
   "cell_type": "code",
   "execution_count": 31,
   "outputs": [],
   "source": [],
   "metadata": {
    "collapsed": false,
    "pycharm": {
     "name": "#%%\n"
    }
   }
  },
  {
   "cell_type": "code",
   "execution_count": 31,
   "outputs": [],
   "source": [],
   "metadata": {
    "collapsed": false,
    "pycharm": {
     "name": "#%%\n"
    }
   }
  },
  {
   "cell_type": "code",
   "execution_count": 31,
   "outputs": [],
   "source": [],
   "metadata": {
    "collapsed": false,
    "pycharm": {
     "name": "#%%\n"
    }
   }
  }
 ],
 "metadata": {
  "kernelspec": {
   "display_name": "Python 3",
   "language": "python",
   "name": "python3"
  },
  "language_info": {
   "codemirror_mode": {
    "name": "ipython",
    "version": 2
   },
   "file_extension": ".py",
   "mimetype": "text/x-python",
   "name": "python",
   "nbconvert_exporter": "python",
   "pygments_lexer": "ipython2",
   "version": "2.7.6"
  }
 },
 "nbformat": 4,
 "nbformat_minor": 0
}