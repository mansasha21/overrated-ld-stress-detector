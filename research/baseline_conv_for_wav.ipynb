{
  "cells": [
    {
      "cell_type": "markdown",
      "source": [
        "Мы благодарим Юрия Агафонова за предоставленное базовое решение. К ноутбуку также предоставляется файл environment.yml (для локального запуска с помощью conda). Мы рекомендуем работать в среде Google Colab.\n"
      ],
      "metadata": {
        "id": "EwXgEpZLOiFv"
      }
    },
    {
      "cell_type": "markdown",
      "source": [
        "# Загрузка и обработка данных"
      ],
      "metadata": {
        "id": "p3UdhmNYCiem"
      }
    },
    {
      "cell_type": "code",
      "execution_count": null,
      "metadata": {
        "id": "mr6Gzqa5m_b2"
      },
      "outputs": [],
      "source": [
        "# рекомендуем запускать на colab: там библиотеки гарантировано встанут правильно\n",
        "\n",
        "import librosa\n",
        "from librosa.feature import melspectrogram\n",
        "from librosa.core import load\n",
        "from librosa.display import specshow\n",
        "from librosa import power_to_db\n",
        "\n",
        "import matplotlib.pyplot as plt\n",
        "\n",
        "# from utils.preprocessing import extract_log_mel_feats\n",
        "# run git log чтобы посмотреть предыдущие версии кода, где не было исправлений"
      ]
    },
    {
      "cell_type": "code",
      "execution_count": null,
      "metadata": {
        "id": "JgZuqVYMm_b3"
      },
      "outputs": [],
      "source": [
        "import os\n",
        "from tqdm import tqdm\n",
        "import pickle\n",
        "import pandas as pd\n",
        "import numpy as np\n",
        "\n",
        "from librosa.feature import melspectrogram\n",
        "from librosa.core import load as load_wav\n",
        "from librosa import power_to_db\n",
        "\n",
        "def extract_log_mel_feats(set_type, path_to_csv, path_to_files, out_path, sr, fft_size, hop, n_mels):\n",
        "    \"\"\"\n",
        "    Extract features from given files and store them in binary format.\n",
        "\n",
        "    :param set_type:\n",
        "    :param path_to_csv: path to loaded csv\n",
        "    :param path_to_files: path to loaded data\n",
        "    :param out_path: path to store extracted features\n",
        "    :param sr: input files sample rate\n",
        "    :param fft_size: size of fft window\n",
        "    :param hop: hop size\n",
        "    :param n_mels: number of mel band\n",
        "\n",
        "    :return:\n",
        "\n",
        "    \"\"\"\n",
        "    set_type = set_type.lower()\n",
        "    if set_type not in ['train', 'test']:\n",
        "        raise Exception('Such set type not supported: {}'.format(set_type))\n",
        "\n",
        "    feats = []\n",
        "\n",
        "    if set_type == 'train':\n",
        "        meta = pd.read_csv(path_to_csv, skiprows=1, names=['fname', 'label', 'manually_verified'])\n",
        "\n",
        "        file_names = list(meta['fname'])\n",
        "        n_files = len(file_names)\n",
        "        labels = list(meta['label'])\n",
        "\n",
        "        uniq_labels = np.sort(np.unique(labels))\n",
        "        label_to_id = {label: i for i, label in enumerate(uniq_labels)}\n",
        "\n",
        "        print('Total files:', n_files)\n",
        "\n",
        "        for i, (file_name, label) in tqdm(enumerate(zip(file_names, labels))):\n",
        "            wav_data, sr = load_wav(os.path.join(path_to_files, file_name), sr=sr)\n",
        "            mel_spec = melspectrogram(wav_data, n_fft=fft_size, hop_length=hop, n_mels=n_mels, fmax=sr // 2)\n",
        "            log_mel_spec = power_to_db(mel_spec, ref=np.max)\n",
        "            feats.append({\n",
        "                'fname': file_name,\n",
        "                'feature': log_mel_spec,\n",
        "                'label_id': label_to_id[label]\n",
        "            })\n",
        "        feats = sorted(feats, key=lambda item: item[\"fname\"])    \n",
        "        pickle.dump(feats, open(out_path, 'wb'))    \n",
        "        return label_to_id\n",
        "    else:\n",
        "        for i, file_name in tqdm(enumerate(os.listdir(path_to_files))):\n",
        "            wav_data, sr = load_wav(os.path.join(path_to_files, file_name), sr=sr)\n",
        "            if len(wav_data) == 0:\n",
        "                # print('Empty file:', file_name)\n",
        "                wav_data = np.zeros(sr)\n",
        "            mel_spec = melspectrogram(wav_data, n_fft=fft_size, n_mels=n_mels, fmax=sr // 2)\n",
        "            log_mel_spec = power_to_db(mel_spec, ref=np.max)\n",
        "            feats.append({\n",
        "                'fname': file_name,\n",
        "                'feature': log_mel_spec,\n",
        "            })\n",
        "            feats = sorted(feats, key=lambda item: item[\"fname\"])\n",
        "\n",
        "    pickle.dump(feats, open(out_path, 'wb'))"
      ]
    },
    {
      "cell_type": "code",
      "source": [
        "# Если запускаете на colab\n",
        "\n",
        "from google.colab import drive\n",
        "drive.mount('/content/drive')"
      ],
      "metadata": {
        "colab": {
          "base_uri": "https://localhost:8080/"
        },
        "id": "g3u8OGKqnK0U",
        "outputId": "f685610a-2857-4bbc-8f51-41a1c457e4ff"
      },
      "execution_count": null,
      "outputs": [
        {
          "output_type": "stream",
          "name": "stdout",
          "text": [
            "Drive already mounted at /content/drive; to attempt to forcibly remount, call drive.mount(\"/content/drive\", force_remount=True).\n"
          ]
        }
      ]
    },
    {
      "cell_type": "code",
      "execution_count": null,
      "metadata": {
        "id": "9prueOiCm_b4"
      },
      "outputs": [],
      "source": [
        "# Создайте на своём google drive папку sounds и загрузите туда данные с диска\n",
        "# train_folder и test_folder содержат пути к этим данным\n",
        "\n",
        "train_folder = './drive/MyDrive/sounds/audio_train/'\n",
        "test_folder = './drive/MyDrive/sounds/audio_test/'\n",
        "\n",
        "sample_rate = 11025\n",
        "fft_size = 1024\n",
        "overlap = 4\n",
        "hop = fft_size // overlap\n",
        "mels = 64"
      ]
    },
    {
      "cell_type": "code",
      "execution_count": null,
      "metadata": {
        "colab": {
          "base_uri": "https://localhost:8080/",
          "height": 577
        },
        "id": "m9UUpQmZm_b4",
        "outputId": "07b1da99-3c7b-4ccc-f432-32d07f12acb3"
      },
      "outputs": [
        {
          "output_type": "display_data",
          "data": {
            "text/plain": [
              "<Figure size 720x288 with 2 Axes>"
            ],
            "image/png": "[encoded data removed]"
          },
          "metadata": {
            "needs_background": "light"
          }
        },
        {
          "output_type": "display_data",
          "data": {
            "text/plain": [
              "<Figure size 720x288 with 2 Axes>"
            ],
            "image/png": "[encoded data removed]"
          },
          "metadata": {
            "needs_background": "light"
          }
        }
      ],
      "source": [
        "# построим пример mel-спектрограммы\n",
        "\n",
        "wav_data, sr = load(os.path.join(test_folder, '0a9f4e787d8d2af55683.wav'), sr=sample_rate)\n",
        "# wav_data представляет из себя аудиоданные. Из них можно выделять разные признаки. \n",
        "# В baseline-решении мы выделяем только mel-спектрограмму\n",
        "\n",
        "\n",
        "mel_spec = melspectrogram(wav_data, n_fft=fft_size, hop_length=hop, n_mels=mels, \n",
        "                          fmax=sample_rate//2)\n",
        "\n",
        "plt.figure(figsize=(10, 4))\n",
        "colors = 'viridis'\n",
        "specshow(mel_spec, y_axis='mel', fmax=sample_rate//2, x_axis='time', cmap=colors)\n",
        "plt.colorbar(format='%+2.0f дБ')\n",
        "plt.title('Мелспектрограмма')\n",
        "plt.tight_layout()\n",
        "plt.show()\n",
        "\n",
        "plt.figure(figsize=(10, 4))\n",
        "specshow(power_to_db(mel_spec, ref=np.max), y_axis='mel',\n",
        "         fmax=sample_rate//2, x_axis='time', cmap=colors)\n",
        "plt.colorbar(format='%+2.0f дБ')\n",
        "plt.title('Логарифм мелспектрограммы')\n",
        "plt.tight_layout()\n",
        "plt.show()"
      ]
    },
    {
      "cell_type": "code",
      "execution_count": null,
      "metadata": {
        "colab": {
          "base_uri": "https://localhost:8080/"
        },
        "id": "cjFoYh0Ym_b4",
        "outputId": "f46374bd-2f3f-4b9e-f7de-bd249ff70ab6"
      },
      "outputs": [
        {
          "output_type": "stream",
          "name": "stdout",
          "text": [
            "Total files: 1869\n"
          ]
        },
        {
          "output_type": "stream",
          "name": "stderr",
          "text": [
            "1869it [05:22,  5.80it/s]\n"
          ]
        }
      ],
      "source": [
        "path_to_csv = os.path.join('train.csv') # Если загрузить файл прямо в colab\n",
        "\n",
        "pickle_train_path = os.path.join('train.pickle')\n",
        "\n",
        "label_to_id = extract_log_mel_feats('train', path_to_csv, train_folder, pickle_train_path, sample_rate, fft_size, hop, mels)\n",
        "id_to_label = [label for label, i in label_to_id.items()]\n",
        "\n"
      ]
    },
    {
      "cell_type": "code",
      "source": [
        "pickle_test_path = os.path.join('test.pickle')\n",
        "extract_log_mel_feats('test', '', test_folder, pickle_test_path, sample_rate, fft_size, hop, mels)"
      ],
      "metadata": {
        "colab": {
          "base_uri": "https://localhost:8080/"
        },
        "id": "SSSQsHjEwen6",
        "outputId": "a185dece-ecb9-424e-f695-f08457630140"
      },
      "execution_count": null,
      "outputs": [
        {
          "output_type": "stream",
          "name": "stderr",
          "text": [
            "1180it [03:05,  6.37it/s]\n"
          ]
        }
      ]
    },
    {
      "cell_type": "markdown",
      "source": [
        "# Строим модель"
      ],
      "metadata": {
        "id": "XP2v2B9SCrWq"
      }
    },
    {
      "cell_type": "code",
      "execution_count": null,
      "metadata": {
        "id": "5edpDUjUm_b5"
      },
      "outputs": [],
      "source": [
        "import numpy as np\n",
        "import pandas as pd\n",
        "import soundfile as sf\n",
        "import torch.nn.functional as F\n",
        "import torch.nn as nn\n",
        "import torch\n",
        "\n",
        "# Модель можно менять для улучшения результата\n",
        "\n",
        "class DummyNetwork(nn.Module):\n",
        "    def __init__(self):\n",
        "        super(DummyNetwork, self).__init__()\n",
        "        \n",
        "        self.conv1 = nn.Conv2d(in_channels=1, out_channels=64, kernel_size=5, stride=(2, 2))\n",
        "        self.conv2 = nn.Conv2d(in_channels=64, out_channels=64, kernel_size=5, stride=(1, 1))\n",
        "        \n",
        "        self.mp = nn.MaxPool2d(kernel_size=(2, 2), stride=(1, 1))\n",
        "        \n",
        "        self.dropout1 = nn.Dropout(p=0.3)\n",
        "        self.dropout2 = nn.Dropout(p=0.3)\n",
        "        \n",
        "        self.bn1 = nn.BatchNorm2d(num_features=64)\n",
        "        self.bn2 = nn.BatchNorm2d(num_features=64)\n",
        "        \n",
        "        self.flat = nn.Flatten()\n",
        "        \n",
        "        # 36864 - должно соответствовать форме self.flat\n",
        "        self.fc1 = nn.Linear(36864, 41)\n",
        "\n",
        "    def forward(self, x):\n",
        "        x = self.conv1(x)\n",
        "        x = self.bn1(x)\n",
        "        x = F.relu(x)\n",
        "        x = self.mp(x)\n",
        "        x = self.dropout1(x)\n",
        "        \n",
        "        x = self.conv2(x)\n",
        "        x = self.bn2(x)\n",
        "        x = F.relu(x)\n",
        "        x = self.mp(x)\n",
        "        x = self.dropout2(x)\n",
        "        \n",
        "        x = self.flat(x)\n",
        "        # здесь можно еще добавить полносвязных слой или слои\n",
        "        x = self.fc1(x)\n",
        "        return x\n"
      ]
    },
    {
      "cell_type": "code",
      "execution_count": null,
      "metadata": {
        "colab": {
          "base_uri": "https://localhost:8080/"
        },
        "id": "b4HZKxtTm_b5",
        "outputId": "6bfee68c-ad52-4282-c0c0-08834c4e67da"
      },
      "outputs": [
        {
          "output_type": "stream",
          "name": "stdout",
          "text": [
            "tensor([[-0.2463, -0.7177,  0.5907, -0.7337,  0.3584, -1.1719, -0.3901, -0.4678,\n",
            "         -0.1071,  0.1876,  0.4957, -1.6712,  0.2973,  0.6826,  0.1117, -0.6921,\n",
            "          1.0356,  0.7005, -0.6312, -2.0394, -0.1306, -0.3725,  1.3931, -0.7385,\n",
            "          0.7422,  0.3492,  0.5253, -0.4092,  0.2609,  0.8406,  0.1651,  0.5123,\n",
            "          1.6297, -0.2050,  0.9533, -0.7377, -0.0032, -1.1201,  1.2960,  1.3952,\n",
            "         -1.0683]], grad_fn=<AddmmBackward0>)\n"
          ]
        }
      ],
      "source": [
        "random_input = torch.randn(1, 1, 64, 64, requires_grad=True)\n",
        "network = DummyNetwork()\n",
        "output = network(random_input)\n",
        "print(output)"
      ]
    },
    {
      "cell_type": "code",
      "execution_count": null,
      "metadata": {
        "colab": {
          "base_uri": "https://localhost:8080/"
        },
        "id": "LD1f9UaFm_b6",
        "outputId": "038c90d2-5cb5-45d7-e0a1-10416cb694cf"
      },
      "outputs": [
        {
          "output_type": "stream",
          "name": "stdout",
          "text": [
            "4.06454610824585\n"
          ]
        }
      ],
      "source": [
        "import torch.optim as optim\n",
        "\n",
        "\n",
        "criterion = nn.CrossEntropyLoss()\n",
        "\n",
        "optimizer = optim.SGD(network.parameters(), lr=0.001)\n",
        "optimizer.zero_grad()\n",
        "\n",
        "random_input = torch.randn(3, 1, 64, 64, requires_grad=True)\n",
        "\n",
        "output = network(random_input)\n",
        "target = torch.empty(3, dtype=torch.long).random_(5)\n",
        "\n",
        "loss = criterion(output, target)\n",
        "\n",
        "print(loss.item())\n",
        "\n",
        "loss.backward()\n",
        "optimizer.step() "
      ]
    },
    {
      "cell_type": "markdown",
      "source": [
        "# Загружаем данные и обучаем модель"
      ],
      "metadata": {
        "id": "lJ07ROwpCxBE"
      }
    },
    {
      "cell_type": "code",
      "execution_count": null,
      "metadata": {
        "id": "RERA1DEGm_b6"
      },
      "outputs": [],
      "source": [
        "import pickle\n",
        "\n",
        "pickle_train_data = pickle.load(open(pickle_train_path, 'rb'))"
      ]
    },
    {
      "cell_type": "code",
      "execution_count": null,
      "metadata": {
        "id": "CA5KO3Gnm_b7"
      },
      "outputs": [],
      "source": [
        "# Это функция предобработки mel-массива. Её можно менять для улучшения результата\n",
        "\n",
        "def prepare_shape(feature):\n",
        "    tmp = feature\n",
        "    N = 64 # размер во времени (можно увеличить, должно стать лучше)\n",
        "    while tmp.shape[1] < N:\n",
        "        # можно попробовать сделать np.pad для коротких файлов, вместо повторения до необходимой длины\n",
        "        tmp = np.hstack((tmp, tmp))\n",
        "    # случайный сдвиг должен улучшить результат (для этого нужно функцию перенести в EventDetectionDataset)\n",
        "    tmp = tmp[np.newaxis, :, :N]\n",
        "    return tmp"
      ]
    },
    {
      "cell_type": "code",
      "execution_count": null,
      "metadata": {
        "id": "T-bx7rScm_b7"
      },
      "outputs": [],
      "source": [
        "# можно улучшить, используя сбалансированное валидационное множество\n",
        "# гуглить stratified train test split sklearn\n",
        "validation_set_size = 800\n",
        "\n",
        "x_val = []\n",
        "y_val = []\n",
        "\n",
        "x_tr = []\n",
        "y_tr = []\n",
        "\n",
        "for i, row in enumerate(pickle_train_data):\n",
        "    feature = prepare_shape(row['feature'])\n",
        "    if i < validation_set_size:\n",
        "        x_val.append(feature)\n",
        "        y_val.append(row['label_id'])\n",
        "    else:\n",
        "        x_tr.append(feature)\n",
        "        y_tr.append(row['label_id'])\n",
        "x_val = np.asarray(x_val)\n",
        "x_tr = np.asarray(x_tr)\n",
        "\n",
        "y_val = np.asarray(y_val)\n",
        "y_tr = np.asarray(y_tr)"
      ]
    },
    {
      "cell_type": "code",
      "execution_count": null,
      "metadata": {
        "id": "S6VER79cm_b7"
      },
      "outputs": [],
      "source": [
        "from torch.utils.data import Dataset\n",
        "\n",
        "\n",
        "class EventDetectionDataset(Dataset):\n",
        "    def __init__(self, x, y=None):\n",
        "        self.x = x\n",
        "        self.y = y\n",
        "    \n",
        "    def __len__(self):\n",
        "        return len(self.x)\n",
        "\n",
        "    def __getitem__(self, idx):\n",
        "        # добавить сюда prepare_shape()\n",
        "        if self.y is not None:\n",
        "            return self.x[idx], self.y[idx]\n",
        "        return self.x[idx]"
      ]
    },
    {
      "cell_type": "code",
      "execution_count": null,
      "metadata": {
        "id": "Q6ozA3Hem_b7"
      },
      "outputs": [],
      "source": [
        "train_dset = EventDetectionDataset(x_tr, y_tr)\n",
        "val_dset = EventDetectionDataset(x_val, y_val)"
      ]
    },
    {
      "cell_type": "code",
      "execution_count": null,
      "metadata": {
        "colab": {
          "base_uri": "https://localhost:8080/",
          "height": 314
        },
        "id": "8XIgbYp9m_b8",
        "outputId": "07b31945-ff1b-495a-b453-9a6562032d2a"
      },
      "outputs": [
        {
          "output_type": "stream",
          "name": "stdout",
          "text": [
            "6\n"
          ]
        },
        {
          "output_type": "display_data",
          "data": {
            "text/plain": [
              "<Figure size 720x288 with 2 Axes>"
            ],
            "image/png": "[encoded data removed]"
          },
          "metadata": {
            "needs_background": "light"
          }
        }
      ],
      "source": [
        "sample_x, sample_y = val_dset[2]\n",
        "print(sample_y)\n",
        "# print(id_to_label[sample_y])\n",
        "plt.figure(figsize=(10, 4))\n",
        "colors = 'viridis'\n",
        "specshow(sample_x[0], y_axis='mel', fmax=sample_rate//2, x_axis='time', cmap=colors)\n",
        "plt.colorbar(format='%+2.0f дБ')\n",
        "plt.title('Мелспектрограмма')\n",
        "plt.tight_layout()\n",
        "plt.show()"
      ]
    },
    {
      "cell_type": "code",
      "execution_count": null,
      "metadata": {
        "id": "Oo40stFZm_b8"
      },
      "outputs": [],
      "source": [
        "from torch.utils.data import DataLoader\n",
        "\n",
        "train_loader = DataLoader(train_dset, batch_size=41, shuffle=True, num_workers=0)\n",
        "val_loader = DataLoader(val_dset, batch_size=41, shuffle=False, num_workers=0)"
      ]
    },
    {
      "cell_type": "markdown",
      "source": [
        "### Собственно, обучение"
      ],
      "metadata": {
        "id": "thUTxINmDLyr"
      }
    },
    {
      "cell_type": "code",
      "execution_count": null,
      "metadata": {
        "id": "QLb9goskm_b8"
      },
      "outputs": [],
      "source": [
        "from sklearn.metrics import f1_score"
      ]
    },
    {
      "cell_type": "code",
      "execution_count": null,
      "metadata": {
        "colab": {
          "base_uri": "https://localhost:8080/"
        },
        "id": "cTIVrzlPm_b8",
        "outputId": "1a0cb1ff-ec9b-40ac-81ed-d7f1a6ea7bc8"
      },
      "outputs": [
        {
          "output_type": "stream",
          "name": "stdout",
          "text": [
            "epoch # 0\n",
            "mean train loss: 2.947429149239152\n",
            "train f1: 0.1173873562056412\n",
            "mean val loss: 10.52439923286438\n",
            "val f1: 0.043044516459150604\n",
            "epoch # 1\n",
            "mean train loss: 2.4706593222088284\n",
            "train f1: 0.3929623604915826\n",
            "mean val loss: 4.449640619754791\n",
            "val f1: 0.13720937288091645\n",
            "epoch # 2\n",
            "mean train loss: 1.7095040215386286\n",
            "train f1: 0.5032720707681728\n",
            "mean val loss: 9.963688921928405\n",
            "val f1: 0.07093004513217278\n",
            "epoch # 3\n",
            "mean train loss: 1.8929321611369099\n",
            "train f1: 0.5206955230460076\n",
            "mean val loss: 6.754112720489502\n",
            "val f1: 0.07308634931842205\n",
            "epoch # 4\n",
            "mean train loss: 1.5493874858926844\n",
            "train f1: 0.5648378948551397\n",
            "mean val loss: 4.52788393497467\n",
            "val f1: 0.17703245664105038\n",
            "epoch # 5\n",
            "mean train loss: 1.3167002245231911\n",
            "train f1: 0.5920319519732662\n",
            "mean val loss: 3.2510867595672606\n",
            "val f1: 0.3124843087065891\n",
            "epoch # 6\n",
            "mean train loss: 1.1774862828078094\n",
            "train f1: 0.627281668598679\n",
            "mean val loss: 3.0202648758888246\n",
            "val f1: 0.30140547898567865\n",
            "epoch # 7\n",
            "mean train loss: 1.1293518548762356\n",
            "train f1: 0.6327806274430783\n",
            "mean val loss: 1.2431932061910629\n",
            "val f1: 0.5970931494767727\n",
            "epoch # 8\n",
            "mean train loss: 0.97520422273212\n",
            "train f1: 0.6707903518589695\n",
            "mean val loss: 1.8871545493602753\n",
            "val f1: 0.46135529278619625\n",
            "epoch # 9\n",
            "mean train loss: 0.9755516383383009\n",
            "train f1: 0.6859749262949281\n",
            "mean val loss: 2.3804125666618345\n",
            "val f1: 0.4151795438157356\n",
            "epoch # 10\n",
            "mean train loss: 0.9167568065502025\n",
            "train f1: 0.7023245776020054\n",
            "mean val loss: 4.68733981847763\n",
            "val f1: 0.12713973694829542\n",
            "epoch # 11\n",
            "mean train loss: 1.1654845476150513\n",
            "train f1: 0.6683774289720177\n",
            "mean val loss: 6.479939270019531\n",
            "val f1: 0.13404155475286345\n",
            "epoch # 12\n",
            "mean train loss: 1.1819337981718558\n",
            "train f1: 0.6727011538301957\n",
            "mean val loss: 3.1664997220039366\n",
            "val f1: 0.35117970728674375\n",
            "epoch # 13\n",
            "mean train loss: 0.8694713325412186\n",
            "train f1: 0.7140361289111812\n",
            "mean val loss: 2.7768202304840086\n",
            "val f1: 0.2836889363666197\n",
            "epoch # 14\n",
            "mean train loss: 0.915433277686437\n",
            "train f1: 0.7087869513685578\n",
            "mean val loss: 2.4959013938903807\n",
            "val f1: 0.4218293253736083\n",
            "epoch # 15\n",
            "mean train loss: 0.8522132579927091\n",
            "train f1: 0.731017331960208\n",
            "mean val loss: 3.982530403137207\n",
            "val f1: 0.26922762277206225\n",
            "epoch # 16\n",
            "mean train loss: 0.9480782979064517\n",
            "train f1: 0.7283666536016528\n",
            "mean val loss: 3.378716516494751\n",
            "val f1: 0.30010371493130117\n",
            "epoch # 17\n",
            "mean train loss: 0.8380436290193487\n",
            "train f1: 0.7448956987677533\n",
            "mean val loss: 1.925907564163208\n",
            "val f1: 0.4799756503692672\n",
            "epoch # 18\n",
            "mean train loss: 0.7844193014833662\n",
            "train f1: 0.7656411804024057\n",
            "mean val loss: 4.14284428358078\n",
            "val f1: 0.25100877100007085\n",
            "epoch # 19\n",
            "mean train loss: 0.8901527689562904\n",
            "train f1: 0.7347706273754393\n",
            "mean val loss: 6.33012900352478\n",
            "val f1: 0.1144986696148618\n"
          ]
        }
      ],
      "source": [
        "# Тут тоже можете менять всякие вещи, если хотите\n",
        "\n",
        "n_epoch = 20\n",
        "criterion = nn.CrossEntropyLoss()\n",
        "network = DummyNetwork()\n",
        "# можно попробовать другой optimizer, тоже считается улучшением\n",
        "optimizer = optim.SGD(network.parameters(), lr=0.001)\n",
        "\n",
        "train_loss = []\n",
        "val_loss = []\n",
        "\n",
        "train_acc = []\n",
        "val_acc = []\n",
        "\n",
        "for e in range(n_epoch):\n",
        "    print('epoch #', e)\n",
        "    # train\n",
        "    loss_list = []\n",
        "    outputs = []\n",
        "    targets = []\n",
        "    for i_batch, sample_batched in enumerate(train_loader):\n",
        "        x, y = sample_batched\n",
        "        optimizer.zero_grad()\n",
        "\n",
        "        output = network(x)\n",
        "        outputs.append(output.detach().numpy().argmax(axis=1))\n",
        "    \n",
        "        target = y\n",
        "        targets.append(target)\n",
        "        \n",
        "        loss = criterion(output, target.long())\n",
        "        loss_list.append(loss.item())\n",
        "        loss.backward()\n",
        "        optimizer.step()\n",
        "    y_true = np.hstack(targets)\n",
        "    y_pred = np.hstack(outputs)\n",
        "    acc = f1_score(y_true, y_pred, average='macro')\n",
        "    train_loss.append(np.mean(loss_list))\n",
        "    train_acc.append(acc)\n",
        "    print('mean train loss:', train_loss[-1])\n",
        "    print('train f1:', acc)\n",
        "    \n",
        "    \n",
        "    loss_list = []\n",
        "    outputs = []\n",
        "    targets = []\n",
        "    with torch.no_grad():\n",
        "        for i_batch, sample_batched in enumerate(val_loader):\n",
        "            x, y = sample_batched\n",
        "#             optimizer.zero_grad()\n",
        "\n",
        "            output = network(x)\n",
        "            outputs.append(output.detach().numpy().argmax(axis=1))\n",
        "\n",
        "            target = y\n",
        "            targets.append(target)\n",
        "\n",
        "            loss = criterion(output, target.long())\n",
        "            loss_list.append(loss.item())\n",
        "#             loss.backward()\n",
        "#             optimizer.step()\n",
        "            \n",
        "        y_true = np.hstack(targets)\n",
        "        y_pred = np.hstack(outputs)\n",
        "        acc = f1_score(y_true, y_pred, average='macro')\n",
        "        val_loss.append(np.mean(loss_list))\n",
        "        val_acc.append(acc)\n",
        "        print('mean val loss:', val_loss[-1])\n",
        "        print('val f1:', acc)"
      ]
    },
    {
      "cell_type": "code",
      "execution_count": null,
      "metadata": {
        "colab": {
          "base_uri": "https://localhost:8080/",
          "height": 573
        },
        "id": "jxtvoPAHm_b9",
        "outputId": "66de0637-e77c-4d21-fe4c-3d6c6e501ef8"
      },
      "outputs": [
        {
          "output_type": "display_data",
          "data": {
            "text/plain": [
              "<Figure size 432x288 with 1 Axes>"
            ],
            "image/png": "[encoded data removed]"
          },
          "metadata": {
            "needs_background": "light"
          }
        },
        {
          "output_type": "display_data",
          "data": {
            "text/plain": [
              "<Figure size 432x288 with 1 Axes>"
            ],
            "image/png": "[encoded data removed]"
          },
          "metadata": {
            "needs_background": "light"
          }
        }
      ],
      "source": [
        "epochs = np.arange(1, n_epoch+1)\n",
        "\n",
        "axes = plt.gca()\n",
        "axes.set_ylim([0,max(max(train_loss), max(val_loss))+1])\n",
        "plt.plot(epochs, train_loss, 'r', label='train')\n",
        "plt.plot(epochs, val_loss, 'b', label='val')\n",
        "plt.title('loss')\n",
        "plt.xlabel('epoch number')\n",
        "plt.ylabel('loss value')\n",
        "plt.legend()\n",
        "plt.grid()\n",
        "plt.show()\n",
        "\n",
        "\n",
        "axes = plt.gca()\n",
        "axes.set_ylim([0,1])\n",
        "plt.plot(epochs, train_acc, 'r', label='train')\n",
        "plt.plot(epochs, val_acc, 'b', label='val')\n",
        "plt.title('accuracy')\n",
        "plt.xlabel('epoch number')\n",
        "plt.ylabel('accuracy value')\n",
        "plt.legend()\n",
        "plt.grid()\n",
        "plt.show()"
      ]
    },
    {
      "cell_type": "markdown",
      "source": [
        "# Создадим файл с предсказаниями для сдачи в контест"
      ],
      "metadata": {
        "id": "4B8XR5Tv3hiE"
      }
    },
    {
      "cell_type": "code",
      "source": [
        "pickle_test_data = pickle.load(open(pickle_test_path, 'rb'))"
      ],
      "metadata": {
        "id": "WxNL0NfH3gjU"
      },
      "execution_count": null,
      "outputs": []
    },
    {
      "cell_type": "code",
      "execution_count": null,
      "metadata": {
        "id": "PxFSNl-Lm_b9"
      },
      "outputs": [],
      "source": [
        "x_test = []\n",
        "\n",
        "for i, row in enumerate(pickle_test_data):\n",
        "    feature = prepare_shape(row['feature'])\n",
        "    x_test.append(feature)\n",
        "\n",
        "x_test = np.asarray(x_test)"
      ]
    },
    {
      "cell_type": "code",
      "source": [
        "test_filenames = [row['fname'] for row in pickle_test_data]"
      ],
      "metadata": {
        "id": "K9l46VRi3xDW"
      },
      "execution_count": null,
      "outputs": []
    },
    {
      "cell_type": "code",
      "source": [
        "test_dset = EventDetectionDataset(x_test)\n",
        "test_loader = DataLoader(test_dset, batch_size=41, shuffle=False, num_workers=0)"
      ],
      "metadata": {
        "id": "rcOj54TX72HU"
      },
      "execution_count": null,
      "outputs": []
    },
    {
      "cell_type": "code",
      "source": [
        "# применяем модель\n",
        "outputs = []\n",
        "\n",
        "with torch.no_grad():\n",
        "    for i_batch, x in enumerate(test_loader):\n",
        "\n",
        "        output = network(x)\n",
        "        outputs.append(output.detach().numpy().argmax(axis=1))\n",
        "        \n",
        "    y_pred = np.hstack(outputs)"
      ],
      "metadata": {
        "id": "6nFalTZt8Bq-"
      },
      "execution_count": null,
      "outputs": []
    },
    {
      "cell_type": "code",
      "source": [
        "# создаём датафрейм с ответами\n",
        "answers = [id_to_label[item] for item in y_pred]\n",
        "answer_df = pd.DataFrame({\"fname\": test_filenames, \"label\": answers})\n",
        "answer_df"
      ],
      "metadata": {
        "colab": {
          "base_uri": "https://localhost:8080/",
          "height": 424
        },
        "id": "C2DuyjAX9D_6",
        "outputId": "1f07f520-78a6-4178-bfdf-d04e10d08e9e"
      },
      "execution_count": null,
      "outputs": [
        {
          "output_type": "execute_result",
          "data": {
            "text/plain": [
              "                         fname label\n",
              "0     00879346de5cbc027e21.wav  Fart\n",
              "1     012e93a3dda0d68753fc.wav  Fart\n",
              "2     013415d0f64b191ac89c.wav  Fart\n",
              "3     014ab2afdf1fd15bb17d.wav  Fart\n",
              "4     015ee13ed41cc6d11c91.wav  Fart\n",
              "...                        ...   ...\n",
              "1175  ff1a5bfca0505dca23a9.wav  Fart\n",
              "1176  ff76047a36776caf21b8.wav  Fart\n",
              "1177  ffddcd95543e6318fc92.wav  Fart\n",
              "1178  fff232dd35909fd26a59.wav  Fart\n",
              "1179  fff6d83654d108e2f09b.wav  Fart\n",
              "\n",
              "[1180 rows x 2 columns]"
            ],
            "text/html": [
              "\n",
              "  <div id=\"df-d145793c-95d2-432f-8e0a-8420e517aead\">\n",
              "    <div class=\"colab-df-container\">\n",
              "      <div>\n",
              "<style scoped>\n",
              "    .dataframe tbody tr th:only-of-type {\n",
              "        vertical-align: middle;\n",
              "    }\n",
              "\n",
              "    .dataframe tbody tr th {\n",
              "        vertical-align: top;\n",
              "    }\n",
              "\n",
              "    .dataframe thead th {\n",
              "        text-align: right;\n",
              "    }\n",
              "</style>\n",
              "<table border=\"1\" class=\"dataframe\">\n",
              "  <thead>\n",
              "    <tr style=\"text-align: right;\">\n",
              "      <th></th>\n",
              "      <th>fname</th>\n",
              "      <th>label</th>\n",
              "    </tr>\n",
              "  </thead>\n",
              "  <tbody>\n",
              "    <tr>\n",
              "      <th>0</th>\n",
              "      <td>00879346de5cbc027e21.wav</td>\n",
              "      <td>Fart</td>\n",
              "    </tr>\n",
              "    <tr>\n",
              "      <th>1</th>\n",
              "      <td>012e93a3dda0d68753fc.wav</td>\n",
              "      <td>Fart</td>\n",
              "    </tr>\n",
              "    <tr>\n",
              "      <th>2</th>\n",
              "      <td>013415d0f64b191ac89c.wav</td>\n",
              "      <td>Fart</td>\n",
              "    </tr>\n",
              "    <tr>\n",
              "      <th>3</th>\n",
              "      <td>014ab2afdf1fd15bb17d.wav</td>\n",
              "      <td>Fart</td>\n",
              "    </tr>\n",
              "    <tr>\n",
              "      <th>4</th>\n",
              "      <td>015ee13ed41cc6d11c91.wav</td>\n",
              "      <td>Fart</td>\n",
              "    </tr>\n",
              "    <tr>\n",
              "      <th>...</th>\n",
              "      <td>...</td>\n",
              "      <td>...</td>\n",
              "    </tr>\n",
              "    <tr>\n",
              "      <th>1175</th>\n",
              "      <td>ff1a5bfca0505dca23a9.wav</td>\n",
              "      <td>Fart</td>\n",
              "    </tr>\n",
              "    <tr>\n",
              "      <th>1176</th>\n",
              "      <td>ff76047a36776caf21b8.wav</td>\n",
              "      <td>Fart</td>\n",
              "    </tr>\n",
              "    <tr>\n",
              "      <th>1177</th>\n",
              "      <td>ffddcd95543e6318fc92.wav</td>\n",
              "      <td>Fart</td>\n",
              "    </tr>\n",
              "    <tr>\n",
              "      <th>1178</th>\n",
              "      <td>fff232dd35909fd26a59.wav</td>\n",
              "      <td>Fart</td>\n",
              "    </tr>\n",
              "    <tr>\n",
              "      <th>1179</th>\n",
              "      <td>fff6d83654d108e2f09b.wav</td>\n",
              "      <td>Fart</td>\n",
              "    </tr>\n",
              "  </tbody>\n",
              "</table>\n",
              "<p>1180 rows × 2 columns</p>\n",
              "</div>\n",
              "      <button class=\"colab-df-convert\" onclick=\"convertToInteractive('df-d145793c-95d2-432f-8e0a-8420e517aead')\"\n",
              "              title=\"Convert this dataframe to an interactive table.\"\n",
              "              style=\"display:none;\">\n",
              "        \n",
              "  <svg xmlns=\"http://www.w3.org/2000/svg\" height=\"24px\"viewBox=\"0 0 24 24\"\n",
              "       width=\"24px\">\n",
              "    <path d=\"M0 0h24v24H0V0z\" fill=\"none\"/>\n",
              "    <path d=\"M18.56 5.44l.94 2.06.94-2.06 2.06-.94-2.06-.94-.94-2.06-.94 2.06-2.06.94zm-11 1L8.5 8.5l.94-2.06 2.06-.94-2.06-.94L8.5 2.5l-.94 2.06-2.06.94zm10 10l.94 2.06.94-2.06 2.06-.94-2.06-.94-.94-2.06-.94 2.06-2.06.94z\"/><path d=\"M17.41 7.96l-1.37-1.37c-.4-.4-.92-.59-1.43-.59-.52 0-1.04.2-1.43.59L10.3 9.45l-7.72 7.72c-.78.78-.78 2.05 0 2.83L4 21.41c.39.39.9.59 1.41.59.51 0 1.02-.2 1.41-.59l7.78-7.78 2.81-2.81c.8-.78.8-2.07 0-2.86zM5.41 20L4 18.59l7.72-7.72 1.47 1.35L5.41 20z\"/>\n",
              "  </svg>\n",
              "      </button>\n",
              "      \n",
              "  <style>\n",
              "    .colab-df-container {\n",
              "      display:flex;\n",
              "      flex-wrap:wrap;\n",
              "      gap: 12px;\n",
              "    }\n",
              "\n",
              "    .colab-df-convert {\n",
              "      background-color: #E8F0FE;\n",
              "      border: none;\n",
              "      border-radius: 50%;\n",
              "      cursor: pointer;\n",
              "      display: none;\n",
              "      fill: #1967D2;\n",
              "      height: 32px;\n",
              "      padding: 0 0 0 0;\n",
              "      width: 32px;\n",
              "    }\n",
              "\n",
              "    .colab-df-convert:hover {\n",
              "      background-color: #E2EBFA;\n",
              "      box-shadow: 0px 1px 2px rgba(60, 64, 67, 0.3), 0px 1px 3px 1px rgba(60, 64, 67, 0.15);\n",
              "      fill: #174EA6;\n",
              "    }\n",
              "\n",
              "    [theme=dark] .colab-df-convert {\n",
              "      background-color: #3B4455;\n",
              "      fill: #D2E3FC;\n",
              "    }\n",
              "\n",
              "    [theme=dark] .colab-df-convert:hover {\n",
              "      background-color: #434B5C;\n",
              "      box-shadow: 0px 1px 3px 1px rgba(0, 0, 0, 0.15);\n",
              "      filter: drop-shadow(0px 1px 2px rgba(0, 0, 0, 0.3));\n",
              "      fill: #FFFFFF;\n",
              "    }\n",
              "  </style>\n",
              "\n",
              "      <script>\n",
              "        const buttonEl =\n",
              "          document.querySelector('#df-d145793c-95d2-432f-8e0a-8420e517aead button.colab-df-convert');\n",
              "        buttonEl.style.display =\n",
              "          google.colab.kernel.accessAllowed ? 'block' : 'none';\n",
              "\n",
              "        async function convertToInteractive(key) {\n",
              "          const element = document.querySelector('#df-d145793c-95d2-432f-8e0a-8420e517aead');\n",
              "          const dataTable =\n",
              "            await google.colab.kernel.invokeFunction('convertToInteractive',\n",
              "                                                     [key], {});\n",
              "          if (!dataTable) return;\n",
              "\n",
              "          const docLinkHtml = 'Like what you see? Visit the ' +\n",
              "            '<a target=\"_blank\" href=https://colab.research.google.com/notebooks/data_table.ipynb>data table notebook</a>'\n",
              "            + ' to learn more about interactive tables.';\n",
              "          element.innerHTML = '';\n",
              "          dataTable['output_type'] = 'display_data';\n",
              "          await google.colab.output.renderOutput(dataTable, element);\n",
              "          const docLink = document.createElement('div');\n",
              "          docLink.innerHTML = docLinkHtml;\n",
              "          element.appendChild(docLink);\n",
              "        }\n",
              "      </script>\n",
              "    </div>\n",
              "  </div>\n",
              "  "
            ]
          },
          "metadata": {},
          "execution_count": 26
        }
      ]
    },
    {
      "cell_type": "code",
      "source": [
        "# считываем порядок, в котором должны идти ответы\n",
        "test_filenames_ori = pd.read_csv(\"test_filenames.csv\")\n",
        "test_filenames_ori.head()"
      ],
      "metadata": {
        "colab": {
          "base_uri": "https://localhost:8080/",
          "height": 206
        },
        "id": "7Z_hTGMT6Zhd",
        "outputId": "27120c4b-eb8c-4d25-8e53-acacf68eecbe"
      },
      "execution_count": null,
      "outputs": [
        {
          "output_type": "execute_result",
          "data": {
            "text/plain": [
              "                      fname\n",
              "0  00879346de5cbc027e21.wav\n",
              "1  012e93a3dda0d68753fc.wav\n",
              "2  013415d0f64b191ac89c.wav\n",
              "3  014ab2afdf1fd15bb17d.wav\n",
              "4  015ee13ed41cc6d11c91.wav"
            ],
            "text/html": [
              "\n",
              "  <div id=\"df-69fad91e-7996-46bc-8836-933459154243\">\n",
              "    <div class=\"colab-df-container\">\n",
              "      <div>\n",
              "<style scoped>\n",
              "    .dataframe tbody tr th:only-of-type {\n",
              "        vertical-align: middle;\n",
              "    }\n",
              "\n",
              "    .dataframe tbody tr th {\n",
              "        vertical-align: top;\n",
              "    }\n",
              "\n",
              "    .dataframe thead th {\n",
              "        text-align: right;\n",
              "    }\n",
              "</style>\n",
              "<table border=\"1\" class=\"dataframe\">\n",
              "  <thead>\n",
              "    <tr style=\"text-align: right;\">\n",
              "      <th></th>\n",
              "      <th>fname</th>\n",
              "    </tr>\n",
              "  </thead>\n",
              "  <tbody>\n",
              "    <tr>\n",
              "      <th>0</th>\n",
              "      <td>00879346de5cbc027e21.wav</td>\n",
              "    </tr>\n",
              "    <tr>\n",
              "      <th>1</th>\n",
              "      <td>012e93a3dda0d68753fc.wav</td>\n",
              "    </tr>\n",
              "    <tr>\n",
              "      <th>2</th>\n",
              "      <td>013415d0f64b191ac89c.wav</td>\n",
              "    </tr>\n",
              "    <tr>\n",
              "      <th>3</th>\n",
              "      <td>014ab2afdf1fd15bb17d.wav</td>\n",
              "    </tr>\n",
              "    <tr>\n",
              "      <th>4</th>\n",
              "      <td>015ee13ed41cc6d11c91.wav</td>\n",
              "    </tr>\n",
              "  </tbody>\n",
              "</table>\n",
              "</div>\n",
              "      <button class=\"colab-df-convert\" onclick=\"convertToInteractive('df-69fad91e-7996-46bc-8836-933459154243')\"\n",
              "              title=\"Convert this dataframe to an interactive table.\"\n",
              "              style=\"display:none;\">\n",
              "        \n",
              "  <svg xmlns=\"http://www.w3.org/2000/svg\" height=\"24px\"viewBox=\"0 0 24 24\"\n",
              "       width=\"24px\">\n",
              "    <path d=\"M0 0h24v24H0V0z\" fill=\"none\"/>\n",
              "    <path d=\"M18.56 5.44l.94 2.06.94-2.06 2.06-.94-2.06-.94-.94-2.06-.94 2.06-2.06.94zm-11 1L8.5 8.5l.94-2.06 2.06-.94-2.06-.94L8.5 2.5l-.94 2.06-2.06.94zm10 10l.94 2.06.94-2.06 2.06-.94-2.06-.94-.94-2.06-.94 2.06-2.06.94z\"/><path d=\"M17.41 7.96l-1.37-1.37c-.4-.4-.92-.59-1.43-.59-.52 0-1.04.2-1.43.59L10.3 9.45l-7.72 7.72c-.78.78-.78 2.05 0 2.83L4 21.41c.39.39.9.59 1.41.59.51 0 1.02-.2 1.41-.59l7.78-7.78 2.81-2.81c.8-.78.8-2.07 0-2.86zM5.41 20L4 18.59l7.72-7.72 1.47 1.35L5.41 20z\"/>\n",
              "  </svg>\n",
              "      </button>\n",
              "      \n",
              "  <style>\n",
              "    .colab-df-container {\n",
              "      display:flex;\n",
              "      flex-wrap:wrap;\n",
              "      gap: 12px;\n",
              "    }\n",
              "\n",
              "    .colab-df-convert {\n",
              "      background-color: #E8F0FE;\n",
              "      border: none;\n",
              "      border-radius: 50%;\n",
              "      cursor: pointer;\n",
              "      display: none;\n",
              "      fill: #1967D2;\n",
              "      height: 32px;\n",
              "      padding: 0 0 0 0;\n",
              "      width: 32px;\n",
              "    }\n",
              "\n",
              "    .colab-df-convert:hover {\n",
              "      background-color: #E2EBFA;\n",
              "      box-shadow: 0px 1px 2px rgba(60, 64, 67, 0.3), 0px 1px 3px 1px rgba(60, 64, 67, 0.15);\n",
              "      fill: #174EA6;\n",
              "    }\n",
              "\n",
              "    [theme=dark] .colab-df-convert {\n",
              "      background-color: #3B4455;\n",
              "      fill: #D2E3FC;\n",
              "    }\n",
              "\n",
              "    [theme=dark] .colab-df-convert:hover {\n",
              "      background-color: #434B5C;\n",
              "      box-shadow: 0px 1px 3px 1px rgba(0, 0, 0, 0.15);\n",
              "      filter: drop-shadow(0px 1px 2px rgba(0, 0, 0, 0.3));\n",
              "      fill: #FFFFFF;\n",
              "    }\n",
              "  </style>\n",
              "\n",
              "      <script>\n",
              "        const buttonEl =\n",
              "          document.querySelector('#df-69fad91e-7996-46bc-8836-933459154243 button.colab-df-convert');\n",
              "        buttonEl.style.display =\n",
              "          google.colab.kernel.accessAllowed ? 'block' : 'none';\n",
              "\n",
              "        async function convertToInteractive(key) {\n",
              "          const element = document.querySelector('#df-69fad91e-7996-46bc-8836-933459154243');\n",
              "          const dataTable =\n",
              "            await google.colab.kernel.invokeFunction('convertToInteractive',\n",
              "                                                     [key], {});\n",
              "          if (!dataTable) return;\n",
              "\n",
              "          const docLinkHtml = 'Like what you see? Visit the ' +\n",
              "            '<a target=\"_blank\" href=https://colab.research.google.com/notebooks/data_table.ipynb>data table notebook</a>'\n",
              "            + ' to learn more about interactive tables.';\n",
              "          element.innerHTML = '';\n",
              "          dataTable['output_type'] = 'display_data';\n",
              "          await google.colab.output.renderOutput(dataTable, element);\n",
              "          const docLink = document.createElement('div');\n",
              "          docLink.innerHTML = docLinkHtml;\n",
              "          element.appendChild(docLink);\n",
              "        }\n",
              "      </script>\n",
              "    </div>\n",
              "  </div>\n",
              "  "
            ]
          },
          "metadata": {},
          "execution_count": 27
        }
      ]
    },
    {
      "cell_type": "code",
      "source": [
        "# сортируем ответы алгоритма в нужном порядке\n",
        "answer_df_ori = test_filenames_ori.merge(answer_df, on='fname')\n",
        "answer_df_ori.head()"
      ],
      "metadata": {
        "colab": {
          "base_uri": "https://localhost:8080/",
          "height": 206
        },
        "id": "VWr0hfdD9PUu",
        "outputId": "8ab1e48f-ee61-4a55-e803-af9e23767161"
      },
      "execution_count": null,
      "outputs": [
        {
          "output_type": "execute_result",
          "data": {
            "text/plain": [
              "                      fname label\n",
              "0  00879346de5cbc027e21.wav  Fart\n",
              "1  012e93a3dda0d68753fc.wav  Fart\n",
              "2  013415d0f64b191ac89c.wav  Fart\n",
              "3  014ab2afdf1fd15bb17d.wav  Fart\n",
              "4  015ee13ed41cc6d11c91.wav  Fart"
            ],
            "text/html": [
              "\n",
              "  <div id=\"df-e57f92e7-84aa-4676-8a1b-b681dfb073a6\">\n",
              "    <div class=\"colab-df-container\">\n",
              "      <div>\n",
              "<style scoped>\n",
              "    .dataframe tbody tr th:only-of-type {\n",
              "        vertical-align: middle;\n",
              "    }\n",
              "\n",
              "    .dataframe tbody tr th {\n",
              "        vertical-align: top;\n",
              "    }\n",
              "\n",
              "    .dataframe thead th {\n",
              "        text-align: right;\n",
              "    }\n",
              "</style>\n",
              "<table border=\"1\" class=\"dataframe\">\n",
              "  <thead>\n",
              "    <tr style=\"text-align: right;\">\n",
              "      <th></th>\n",
              "      <th>fname</th>\n",
              "      <th>label</th>\n",
              "    </tr>\n",
              "  </thead>\n",
              "  <tbody>\n",
              "    <tr>\n",
              "      <th>0</th>\n",
              "      <td>00879346de5cbc027e21.wav</td>\n",
              "      <td>Fart</td>\n",
              "    </tr>\n",
              "    <tr>\n",
              "      <th>1</th>\n",
              "      <td>012e93a3dda0d68753fc.wav</td>\n",
              "      <td>Fart</td>\n",
              "    </tr>\n",
              "    <tr>\n",
              "      <th>2</th>\n",
              "      <td>013415d0f64b191ac89c.wav</td>\n",
              "      <td>Fart</td>\n",
              "    </tr>\n",
              "    <tr>\n",
              "      <th>3</th>\n",
              "      <td>014ab2afdf1fd15bb17d.wav</td>\n",
              "      <td>Fart</td>\n",
              "    </tr>\n",
              "    <tr>\n",
              "      <th>4</th>\n",
              "      <td>015ee13ed41cc6d11c91.wav</td>\n",
              "      <td>Fart</td>\n",
              "    </tr>\n",
              "  </tbody>\n",
              "</table>\n",
              "</div>\n",
              "      <button class=\"colab-df-convert\" onclick=\"convertToInteractive('df-e57f92e7-84aa-4676-8a1b-b681dfb073a6')\"\n",
              "              title=\"Convert this dataframe to an interactive table.\"\n",
              "              style=\"display:none;\">\n",
              "        \n",
              "  <svg xmlns=\"http://www.w3.org/2000/svg\" height=\"24px\"viewBox=\"0 0 24 24\"\n",
              "       width=\"24px\">\n",
              "    <path d=\"M0 0h24v24H0V0z\" fill=\"none\"/>\n",
              "    <path d=\"M18.56 5.44l.94 2.06.94-2.06 2.06-.94-2.06-.94-.94-2.06-.94 2.06-2.06.94zm-11 1L8.5 8.5l.94-2.06 2.06-.94-2.06-.94L8.5 2.5l-.94 2.06-2.06.94zm10 10l.94 2.06.94-2.06 2.06-.94-2.06-.94-.94-2.06-.94 2.06-2.06.94z\"/><path d=\"M17.41 7.96l-1.37-1.37c-.4-.4-.92-.59-1.43-.59-.52 0-1.04.2-1.43.59L10.3 9.45l-7.72 7.72c-.78.78-.78 2.05 0 2.83L4 21.41c.39.39.9.59 1.41.59.51 0 1.02-.2 1.41-.59l7.78-7.78 2.81-2.81c.8-.78.8-2.07 0-2.86zM5.41 20L4 18.59l7.72-7.72 1.47 1.35L5.41 20z\"/>\n",
              "  </svg>\n",
              "      </button>\n",
              "      \n",
              "  <style>\n",
              "    .colab-df-container {\n",
              "      display:flex;\n",
              "      flex-wrap:wrap;\n",
              "      gap: 12px;\n",
              "    }\n",
              "\n",
              "    .colab-df-convert {\n",
              "      background-color: #E8F0FE;\n",
              "      border: none;\n",
              "      border-radius: 50%;\n",
              "      cursor: pointer;\n",
              "      display: none;\n",
              "      fill: #1967D2;\n",
              "      height: 32px;\n",
              "      padding: 0 0 0 0;\n",
              "      width: 32px;\n",
              "    }\n",
              "\n",
              "    .colab-df-convert:hover {\n",
              "      background-color: #E2EBFA;\n",
              "      box-shadow: 0px 1px 2px rgba(60, 64, 67, 0.3), 0px 1px 3px 1px rgba(60, 64, 67, 0.15);\n",
              "      fill: #174EA6;\n",
              "    }\n",
              "\n",
              "    [theme=dark] .colab-df-convert {\n",
              "      background-color: #3B4455;\n",
              "      fill: #D2E3FC;\n",
              "    }\n",
              "\n",
              "    [theme=dark] .colab-df-convert:hover {\n",
              "      background-color: #434B5C;\n",
              "      box-shadow: 0px 1px 3px 1px rgba(0, 0, 0, 0.15);\n",
              "      filter: drop-shadow(0px 1px 2px rgba(0, 0, 0, 0.3));\n",
              "      fill: #FFFFFF;\n",
              "    }\n",
              "  </style>\n",
              "\n",
              "      <script>\n",
              "        const buttonEl =\n",
              "          document.querySelector('#df-e57f92e7-84aa-4676-8a1b-b681dfb073a6 button.colab-df-convert');\n",
              "        buttonEl.style.display =\n",
              "          google.colab.kernel.accessAllowed ? 'block' : 'none';\n",
              "\n",
              "        async function convertToInteractive(key) {\n",
              "          const element = document.querySelector('#df-e57f92e7-84aa-4676-8a1b-b681dfb073a6');\n",
              "          const dataTable =\n",
              "            await google.colab.kernel.invokeFunction('convertToInteractive',\n",
              "                                                     [key], {});\n",
              "          if (!dataTable) return;\n",
              "\n",
              "          const docLinkHtml = 'Like what you see? Visit the ' +\n",
              "            '<a target=\"_blank\" href=https://colab.research.google.com/notebooks/data_table.ipynb>data table notebook</a>'\n",
              "            + ' to learn more about interactive tables.';\n",
              "          element.innerHTML = '';\n",
              "          dataTable['output_type'] = 'display_data';\n",
              "          await google.colab.output.renderOutput(dataTable, element);\n",
              "          const docLink = document.createElement('div');\n",
              "          docLink.innerHTML = docLinkHtml;\n",
              "          element.appendChild(docLink);\n",
              "        }\n",
              "      </script>\n",
              "    </div>\n",
              "  </div>\n",
              "  "
            ]
          },
          "metadata": {},
          "execution_count": 28
        }
      ]
    },
    {
      "cell_type": "code",
      "source": [
        "#создаём submission\n",
        "answer_df_ori.to_csv(\"submission.csv\", index=None)"
      ],
      "metadata": {
        "id": "BDT87G1E_Hd8"
      },
      "execution_count": null,
      "outputs": []
    }
  ],
  "metadata": {
    "kernelspec": {
      "display_name": "Python 3 (ipykernel)",
      "language": "python",
      "name": "python3"
    },
    "language_info": {
      "codemirror_mode": {
        "name": "ipython",
        "version": 3
      },
      "file_extension": ".py",
      "mimetype": "text/x-python",
      "name": "python",
      "nbconvert_exporter": "python",
      "pygments_lexer": "ipython3",
      "version": "3.8.10"
    },
    "colab": {
      "name": "main.ipynb",
      "provenance": [],
      "collapsed_sections": []
    }
  },
  "nbformat": 4,
  "nbformat_minor": 0
}